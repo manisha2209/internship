{
 "cells": [
  {
   "cell_type": "code",
   "execution_count": 1,
   "id": "c65547a5",
   "metadata": {},
   "outputs": [
    {
     "name": "stdout",
     "output_type": "stream",
     "text": [
      "Requirement already satisfied: selenium in c:\\users\\nikhi\\anaconda3\\lib\\site-packages (4.18.1)\n",
      "Requirement already satisfied: urllib3[socks]<3,>=1.26 in c:\\users\\nikhi\\anaconda3\\lib\\site-packages (from selenium) (1.26.16)\n",
      "Requirement already satisfied: trio~=0.17 in c:\\users\\nikhi\\anaconda3\\lib\\site-packages (from selenium) (0.24.0)\n",
      "Requirement already satisfied: trio-websocket~=0.9 in c:\\users\\nikhi\\anaconda3\\lib\\site-packages (from selenium) (0.11.1)\n",
      "Requirement already satisfied: certifi>=2021.10.8 in c:\\users\\nikhi\\anaconda3\\lib\\site-packages (from selenium) (2023.7.22)\n",
      "Requirement already satisfied: typing_extensions>=4.9.0 in c:\\users\\nikhi\\anaconda3\\lib\\site-packages (from selenium) (4.10.0)\n",
      "Requirement already satisfied: attrs>=20.1.0 in c:\\users\\nikhi\\anaconda3\\lib\\site-packages (from trio~=0.17->selenium) (22.1.0)\n",
      "Requirement already satisfied: sortedcontainers in c:\\users\\nikhi\\anaconda3\\lib\\site-packages (from trio~=0.17->selenium) (2.4.0)\n",
      "Requirement already satisfied: idna in c:\\users\\nikhi\\anaconda3\\lib\\site-packages (from trio~=0.17->selenium) (3.4)\n",
      "Requirement already satisfied: outcome in c:\\users\\nikhi\\anaconda3\\lib\\site-packages (from trio~=0.17->selenium) (1.3.0.post0)\n",
      "Requirement already satisfied: sniffio>=1.3.0 in c:\\users\\nikhi\\anaconda3\\lib\\site-packages (from trio~=0.17->selenium) (1.3.1)\n",
      "Requirement already satisfied: cffi>=1.14 in c:\\users\\nikhi\\anaconda3\\lib\\site-packages (from trio~=0.17->selenium) (1.15.1)\n",
      "Requirement already satisfied: wsproto>=0.14 in c:\\users\\nikhi\\anaconda3\\lib\\site-packages (from trio-websocket~=0.9->selenium) (1.2.0)\n",
      "Requirement already satisfied: PySocks!=1.5.7,<2.0,>=1.5.6 in c:\\users\\nikhi\\anaconda3\\lib\\site-packages (from urllib3[socks]<3,>=1.26->selenium) (1.7.1)\n",
      "Requirement already satisfied: pycparser in c:\\users\\nikhi\\anaconda3\\lib\\site-packages (from cffi>=1.14->trio~=0.17->selenium) (2.21)\n",
      "Requirement already satisfied: h11<1,>=0.9.0 in c:\\users\\nikhi\\anaconda3\\lib\\site-packages (from wsproto>=0.14->trio-websocket~=0.9->selenium) (0.14.0)\n"
     ]
    }
   ],
   "source": [
    "! pip install selenium"
   ]
  },
  {
   "cell_type": "code",
   "execution_count": 2,
   "id": "436aa998",
   "metadata": {},
   "outputs": [],
   "source": [
    "import selenium\n",
    "from selenium import webdriver\n",
    "import pandas as pd\n",
    "import numpy as np\n",
    "import warnings\n",
    "warnings.filterwarnings('ignore')\n",
    "from selenium.webdriver.common.by import By\n",
    "import time"
   ]
  },
  {
   "cell_type": "markdown",
   "id": "8990754d",
   "metadata": {},
   "source": [
    "### Q1 Scrape the details of most viewed videos on YouTube from Wikipedia. \n",
    "\n",
    "Url = https://en.wikipedia.org/wiki/List_of_most-viewed_YouTube_videos \n",
    "\n",
    "You need to find following details:\n",
    "\n",
    "A) Rank \n",
    "\n",
    "B) Name \n",
    "\n",
    "C) Artist\n",
    "\n",
    "D) Upload date \n",
    "\n",
    "E) Views "
   ]
  },
  {
   "cell_type": "code",
   "execution_count": 42,
   "id": "03bcb836",
   "metadata": {},
   "outputs": [],
   "source": [
    "driver = webdriver.Chrome()"
   ]
  },
  {
   "cell_type": "code",
   "execution_count": 43,
   "id": "ef018387",
   "metadata": {},
   "outputs": [],
   "source": [
    "driver.get('https://en.wikipedia.org/wiki/List_of_most-viewed_YouTube_videos')"
   ]
  },
  {
   "cell_type": "code",
   "execution_count": 49,
   "id": "521f41c7",
   "metadata": {},
   "outputs": [
    {
     "name": "stdout",
     "output_type": "stream",
     "text": [
      "29\n"
     ]
    },
    {
     "data": {
      "text/plain": [
       "['Baby Shark Dance',\n",
       " 'Despacito',\n",
       " 'Johny Johny Yes Papa',\n",
       " 'Bath Song',\n",
       " 'Shape of You',\n",
       " 'See You Again',\n",
       " 'Wheels on the Bus',\n",
       " 'Phonics Song with Two Words',\n",
       " 'Uptown Funk',\n",
       " 'Gangnam Style',\n",
       " 'Learning Colors – Colorful Eggs on a Farm',\n",
       " 'Dame Tu Cosita',\n",
       " 'Axel F',\n",
       " 'Sugar',\n",
       " 'Baa Baa Black Sheep',\n",
       " 'Counting Stars',\n",
       " 'Lakdi Ki Kathi',\n",
       " 'Roar',\n",
       " 'Waka Waka (This Time for Africa)',\n",
       " 'Sorry',\n",
       " 'Shree Hanuman Chalisa',\n",
       " 'Humpty the train on a fruits ride',\n",
       " 'Thinking Out Loud',\n",
       " 'Perfect',\n",
       " 'Dark Horse',\n",
       " 'Let Her Go',\n",
       " 'Faded',\n",
       " 'Girls Like You',\n",
       " 'Lean On']"
      ]
     },
     "execution_count": 49,
     "metadata": {},
     "output_type": "execute_result"
    }
   ],
   "source": [
    "Name = []\n",
    "a = driver.find_elements(By.XPATH,'//table[@class=\"sortable wikitable sticky-header static-row-numbers sort-under col3center col4right jquery-tablesorter\"]/tbody/tr/td[1]/a')\n",
    "for i in a:\n",
    "    if i.text is None:\n",
    "        Name.append('--')\n",
    "    else:\n",
    "        Name.append(i.text)\n",
    "print(len(Name))\n",
    "Name"
   ]
  },
  {
   "cell_type": "code",
   "execution_count": 48,
   "id": "04909fb5",
   "metadata": {},
   "outputs": [
    {
     "name": "stdout",
     "output_type": "stream",
     "text": [
      "28\n"
     ]
    },
    {
     "data": {
      "text/plain": [
       "[\"Pinkfong Baby Shark - Kids' Songs & Stories\",\n",
       " 'Luis Fonsi',\n",
       " \"LooLoo Kids - Nursery Rhymes and Children's Songs\",\n",
       " 'Cocomelon - Nursery Rhymes',\n",
       " 'Ed Sheeran',\n",
       " 'Wiz Khalifa',\n",
       " 'Cocomelon - Nursery Rhymes',\n",
       " 'ChuChu TV Nursery Rhymes & Kids Songs',\n",
       " 'Mark Ronson',\n",
       " 'Psy',\n",
       " 'Miroshka TV',\n",
       " 'Ultra Records',\n",
       " 'Get Movies',\n",
       " 'Crazy Frog',\n",
       " 'Maroon 5',\n",
       " 'Cocomelon - Nursery Rhymes',\n",
       " 'OneRepublic',\n",
       " 'Katy Perry',\n",
       " 'Shakira',\n",
       " 'Justin Bieber',\n",
       " 'T-Series Bhakti Sagar',\n",
       " 'Ed Sheeran',\n",
       " 'Ed Sheeran',\n",
       " 'Katy Perry',\n",
       " 'Passenger',\n",
       " 'Alan Walker',\n",
       " 'Maroon 5',\n",
       " 'Major Lazer Official']"
      ]
     },
     "execution_count": 48,
     "metadata": {},
     "output_type": "execute_result"
    }
   ],
   "source": [
    "Artist = []\n",
    "b = driver.find_elements(By.XPATH,'//table[@class=\"sortable wikitable sticky-header static-row-numbers sort-under col3center col4right jquery-tablesorter\"]/tbody/tr/td[2]/a')\n",
    "for i in b:\n",
    "    if i.text is None:\n",
    "        Artist.append('--')\n",
    "    else:\n",
    "        Artist.append(i.text)\n",
    "print(len(Artist))\n",
    "Artist"
   ]
  },
  {
   "cell_type": "code",
   "execution_count": 15,
   "id": "6d819485",
   "metadata": {},
   "outputs": [],
   "source": [
    "Date = []\n",
    "c = driver.find_elements(By.XPATH,'//table[@class=\"sortable wikitable sticky-header static-row-numbers sort-under col3center col4right jquery-tablesorter\"]/tbody/tr/td[4]')\n",
    "for i in c:\n",
    "    Date.append(i.text)"
   ]
  },
  {
   "cell_type": "code",
   "execution_count": 23,
   "id": "2e38a615",
   "metadata": {},
   "outputs": [
    {
     "data": {
      "text/plain": [
       "['June 17, 2016',\n",
       " 'January 12, 2017',\n",
       " 'October 8, 2016',\n",
       " 'May 2, 2018',\n",
       " 'January 30, 2017',\n",
       " 'April 6, 2015',\n",
       " 'May 24, 2018',\n",
       " 'March 6, 2014',\n",
       " 'November 19, 2014',\n",
       " 'July 15, 2012',\n",
       " 'February 27, 2018',\n",
       " 'April 5, 2018',\n",
       " 'January 31, 2012',\n",
       " 'June 16, 2009',\n",
       " 'January 14, 2015',\n",
       " 'June 25, 2018',\n",
       " 'May 31, 2013',\n",
       " 'June 14, 2018',\n",
       " 'September 5, 2013',\n",
       " 'June 4, 2010',\n",
       " 'October 22, 2015',\n",
       " 'May 10, 2011',\n",
       " 'January 26, 2018',\n",
       " 'October 7, 2014',\n",
       " 'November 9, 2017',\n",
       " 'February 20, 2014',\n",
       " 'July 25, 2012',\n",
       " 'December 3, 2015',\n",
       " 'May 31, 2018',\n",
       " 'March 22, 2015']"
      ]
     },
     "execution_count": 23,
     "metadata": {},
     "output_type": "execute_result"
    }
   ],
   "source": [
    "Date"
   ]
  },
  {
   "cell_type": "code",
   "execution_count": 18,
   "id": "c7552f9e",
   "metadata": {},
   "outputs": [],
   "source": [
    "Views = []\n",
    "d = driver.find_elements(By.XPATH,'//table[@class=\"sortable wikitable sticky-header static-row-numbers sort-under col3center col4right jquery-tablesorter\"]/tbody/tr/td[3]')\n",
    "for i in d:\n",
    "    Views.append(i.text)"
   ]
  },
  {
   "cell_type": "code",
   "execution_count": 24,
   "id": "ba0f565d",
   "metadata": {},
   "outputs": [
    {
     "data": {
      "text/plain": [
       "['14.32',\n",
       " '8.41',\n",
       " '6.89',\n",
       " '6.66',\n",
       " '6.23',\n",
       " '6.22',\n",
       " '6.01',\n",
       " '5.75',\n",
       " '5.18',\n",
       " '5.10',\n",
       " '5.09',\n",
       " '4.59',\n",
       " '4.57',\n",
       " '4.45',\n",
       " '4.02',\n",
       " '4.01',\n",
       " '4.00',\n",
       " '3.98',\n",
       " '3.98',\n",
       " '3.89',\n",
       " '3.78',\n",
       " '3.77',\n",
       " '3.76',\n",
       " '3.75',\n",
       " '3.70',\n",
       " '3.70',\n",
       " '3.64',\n",
       " '3.60',\n",
       " '3.58',\n",
       " '3.57']"
      ]
     },
     "execution_count": 24,
     "metadata": {},
     "output_type": "execute_result"
    }
   ],
   "source": [
    "Views"
   ]
  },
  {
   "cell_type": "code",
   "execution_count": 25,
   "id": "ed34e963",
   "metadata": {},
   "outputs": [],
   "source": [
    "driver.close()"
   ]
  },
  {
   "cell_type": "markdown",
   "id": "beac0f55",
   "metadata": {},
   "source": [
    "### Q2 Scrape the details team India’s international fixtures from bcci.tv. \n",
    "Url = https://www.bcci.tv/.\n",
    "\n",
    "You need to find following details:\n",
    "\n",
    "A) Series\n",
    "\n",
    "B) Place\n",
    "\n",
    "C) Date\n",
    "\n",
    "D) Time\n",
    "\n",
    "Note: - From bcci.tv home page you have reach to the international fixture page through code. "
   ]
  },
  {
   "cell_type": "code",
   "execution_count": 27,
   "id": "081fba6e",
   "metadata": {},
   "outputs": [],
   "source": [
    "driver = webdriver.Chrome()"
   ]
  },
  {
   "cell_type": "code",
   "execution_count": 28,
   "id": "714636c2",
   "metadata": {},
   "outputs": [],
   "source": [
    "driver.get('https://www.bcci.tv/')"
   ]
  },
  {
   "cell_type": "code",
   "execution_count": 29,
   "id": "5e6b4866",
   "metadata": {},
   "outputs": [],
   "source": [
    "clicks = driver.find_element(By.XPATH,'/html/body/header/div[3]/div[2]/ul/div[1]/a[2]')\n",
    "clicks.click()"
   ]
  },
  {
   "cell_type": "code",
   "execution_count": 30,
   "id": "31e1cca2",
   "metadata": {},
   "outputs": [],
   "source": [
    "series  = []\n",
    "place = []\n",
    "Date = []\n",
    "Time = []\n",
    "time.sleep(3)\n",
    "\n",
    "a = driver.find_elements(By.XPATH,'//h5[@class=\"match-tournament-name ng-binding\"]')\n",
    "for i in a:\n",
    "    series.append(i.text)\n",
    "    \n",
    "b = driver.find_elements(By.XPATH,'//div[@class=\"match-place ng-scope\"]')\n",
    "for i in b:\n",
    "    place.append(i.text)\n",
    "    \n",
    "c = driver.find_elements(By.XPATH,'//div[@class=\"match-dates ng-binding\"]')\n",
    "for i in c:\n",
    "    Date.append(i.text)\n",
    "    \n",
    "d = driver.find_elements(By.XPATH,'//div[@class=\"match-time no-margin ng-binding\"]')\n",
    "for i in d:\n",
    "    Time.append(i.text)"
   ]
  },
  {
   "cell_type": "code",
   "execution_count": 31,
   "id": "1d94c575",
   "metadata": {},
   "outputs": [
    {
     "data": {
      "text/html": [
       "<div>\n",
       "<style scoped>\n",
       "    .dataframe tbody tr th:only-of-type {\n",
       "        vertical-align: middle;\n",
       "    }\n",
       "\n",
       "    .dataframe tbody tr th {\n",
       "        vertical-align: top;\n",
       "    }\n",
       "\n",
       "    .dataframe thead th {\n",
       "        text-align: right;\n",
       "    }\n",
       "</style>\n",
       "<table border=\"1\" class=\"dataframe\">\n",
       "  <thead>\n",
       "    <tr style=\"text-align: right;\">\n",
       "      <th></th>\n",
       "      <th>series</th>\n",
       "      <th>place</th>\n",
       "      <th>Date</th>\n",
       "      <th>Time</th>\n",
       "    </tr>\n",
       "  </thead>\n",
       "  <tbody>\n",
       "    <tr>\n",
       "      <th>0</th>\n",
       "      <td>ICC MENS T20 WORLD CUP 2024</td>\n",
       "      <td>Nassau County International Cricket Stadium, N...</td>\n",
       "      <td>5 JUNE, 2024</td>\n",
       "      <td>8:00 PM IST</td>\n",
       "    </tr>\n",
       "    <tr>\n",
       "      <th>1</th>\n",
       "      <td>ICC MENS T20 WORLD CUP 2024</td>\n",
       "      <td>Nassau County International Cricket Stadium, N...</td>\n",
       "      <td>9 JUNE, 2024</td>\n",
       "      <td>8:00 PM IST</td>\n",
       "    </tr>\n",
       "    <tr>\n",
       "      <th>2</th>\n",
       "      <td>ICC MENS T20 WORLD CUP 2024</td>\n",
       "      <td>Nassau County International Cricket Stadium, N...</td>\n",
       "      <td>12 JUNE, 2024</td>\n",
       "      <td>8:00 PM IST</td>\n",
       "    </tr>\n",
       "    <tr>\n",
       "      <th>3</th>\n",
       "      <td>ICC MENS T20 WORLD CUP 2024</td>\n",
       "      <td>Central Broward Park &amp; Broward County Stadium,...</td>\n",
       "      <td>15 JUNE, 2024</td>\n",
       "      <td>8:00 PM IST</td>\n",
       "    </tr>\n",
       "    <tr>\n",
       "      <th>4</th>\n",
       "      <td>INDIA TOUR OF ZIMBABWE 2024</td>\n",
       "      <td>Harare Sports Club, Harare</td>\n",
       "      <td>6 JULY, 2024</td>\n",
       "      <td>8:00 PM IST</td>\n",
       "    </tr>\n",
       "    <tr>\n",
       "      <th>5</th>\n",
       "      <td>INDIA TOUR OF ZIMBABWE 2024</td>\n",
       "      <td>Harare Sports Club, Harare</td>\n",
       "      <td>7 JULY, 2024</td>\n",
       "      <td>8:00 PM IST</td>\n",
       "    </tr>\n",
       "    <tr>\n",
       "      <th>6</th>\n",
       "      <td>INDIA TOUR OF ZIMBABWE 2024</td>\n",
       "      <td>Harare Sports Club, Harare</td>\n",
       "      <td>10 JULY, 2024</td>\n",
       "      <td>8:00 PM IST</td>\n",
       "    </tr>\n",
       "    <tr>\n",
       "      <th>7</th>\n",
       "      <td>INDIA TOUR OF ZIMBABWE 2024</td>\n",
       "      <td>Harare Sports Club, Harare</td>\n",
       "      <td>13 JULY, 2024</td>\n",
       "      <td>8:00 PM IST</td>\n",
       "    </tr>\n",
       "    <tr>\n",
       "      <th>8</th>\n",
       "      <td>INDIA TOUR OF ZIMBABWE 2024</td>\n",
       "      <td>Harare Sports Club, Harare</td>\n",
       "      <td>14 JULY, 2024</td>\n",
       "      <td>8:00 PM IST</td>\n",
       "    </tr>\n",
       "  </tbody>\n",
       "</table>\n",
       "</div>"
      ],
      "text/plain": [
       "                        series  \\\n",
       "0  ICC MENS T20 WORLD CUP 2024   \n",
       "1  ICC MENS T20 WORLD CUP 2024   \n",
       "2  ICC MENS T20 WORLD CUP 2024   \n",
       "3  ICC MENS T20 WORLD CUP 2024   \n",
       "4  INDIA TOUR OF ZIMBABWE 2024   \n",
       "5  INDIA TOUR OF ZIMBABWE 2024   \n",
       "6  INDIA TOUR OF ZIMBABWE 2024   \n",
       "7  INDIA TOUR OF ZIMBABWE 2024   \n",
       "8  INDIA TOUR OF ZIMBABWE 2024   \n",
       "\n",
       "                                               place           Date  \\\n",
       "0  Nassau County International Cricket Stadium, N...   5 JUNE, 2024   \n",
       "1  Nassau County International Cricket Stadium, N...   9 JUNE, 2024   \n",
       "2  Nassau County International Cricket Stadium, N...  12 JUNE, 2024   \n",
       "3  Central Broward Park & Broward County Stadium,...  15 JUNE, 2024   \n",
       "4                         Harare Sports Club, Harare   6 JULY, 2024   \n",
       "5                         Harare Sports Club, Harare   7 JULY, 2024   \n",
       "6                         Harare Sports Club, Harare  10 JULY, 2024   \n",
       "7                         Harare Sports Club, Harare  13 JULY, 2024   \n",
       "8                         Harare Sports Club, Harare  14 JULY, 2024   \n",
       "\n",
       "          Time  \n",
       "0  8:00 PM IST  \n",
       "1  8:00 PM IST  \n",
       "2  8:00 PM IST  \n",
       "3  8:00 PM IST  \n",
       "4  8:00 PM IST  \n",
       "5  8:00 PM IST  \n",
       "6  8:00 PM IST  \n",
       "7  8:00 PM IST  \n",
       "8  8:00 PM IST  "
      ]
     },
     "execution_count": 31,
     "metadata": {},
     "output_type": "execute_result"
    }
   ],
   "source": [
    "df = pd.DataFrame({'series':series,'place':place,'Date':Date,'Time':Time})\n",
    "df"
   ]
  },
  {
   "cell_type": "markdown",
   "id": "62c94587",
   "metadata": {},
   "source": [
    "### Q3 Scrape the details of State-wise GDP of India from statisticstime.com. \n",
    "\n",
    "Url = http://statisticstimes.com/ \n",
    "    \n",
    "You have to find following details:\n",
    "\n",
    "A) Rank \n",
    "\n",
    "B) State \n",
    "\n",
    "C) GSDP(18-19)- at current prices \n",
    "\n",
    "D) GSDP(19-20)- at current prices \n",
    "\n",
    "E) Share(18-19) \n",
    "\n",
    "F) GDP($ billion) \n",
    "\n",
    "Note: - From statisticstimes home page you have to reach to economy page through code. "
   ]
  },
  {
   "cell_type": "code",
   "execution_count": 55,
   "id": "03a67f3b",
   "metadata": {},
   "outputs": [],
   "source": [
    "driver = webdriver.Chrome()"
   ]
  },
  {
   "cell_type": "code",
   "execution_count": 56,
   "id": "c28c14e1",
   "metadata": {},
   "outputs": [],
   "source": [
    "driver.get('https://www.statisticstimes.com/')"
   ]
  },
  {
   "cell_type": "code",
   "execution_count": 58,
   "id": "a5bf8f9e",
   "metadata": {},
   "outputs": [],
   "source": [
    "clicks = driver.find_element(By.XPATH,'/html/body/div[2]/div[1]/div[2]/div[2]/button')\n",
    "clicks.click()"
   ]
  },
  {
   "cell_type": "code",
   "execution_count": 59,
   "id": "afd7a375",
   "metadata": {},
   "outputs": [],
   "source": [
    "clicks = driver.find_element(By.XPATH,'/html/body/div[2]/div[1]/div[2]/div[2]/div/a[3]')\n",
    "clicks.click()"
   ]
  },
  {
   "cell_type": "code",
   "execution_count": 60,
   "id": "6458dba9",
   "metadata": {},
   "outputs": [],
   "source": [
    "state_Wise = driver.find_element(By.XPATH,'/html/body/div[2]/div[2]/div[2]/ul/li[1]/a')\n",
    "state_Wise.click()"
   ]
  },
  {
   "cell_type": "code",
   "execution_count": 63,
   "id": "a25e25a1",
   "metadata": {},
   "outputs": [],
   "source": [
    "gdp = driver.find_element(By.XPATH,'/html/body/div[2]/div[2]/div[2]/ul/li[1]/a')       # Locating page foe top videos by xpath\n",
    "gdp.click()"
   ]
  },
  {
   "cell_type": "code",
   "execution_count": 69,
   "id": "0145f401",
   "metadata": {},
   "outputs": [
    {
     "name": "stdout",
     "output_type": "stream",
     "text": [
      "33 ['1', '2', '3', '4', '5', '6', '7', '8', '9', '10', '11', '12', '13', '14', '15', '16', '17', '18', '19', '20', '21', '22', '23', '24', '25', '26', '27', '28', '29', '30', '31', '32', '33']\n"
     ]
    }
   ],
   "source": [
    "Rank = []\n",
    "r=driver.find_elements(By.XPATH,\"//td[@class='data1']\")\n",
    "for i in r[0:33]:\n",
    "    if i.text is None :\n",
    "        Rank.append(\"--\") \n",
    "    else:\n",
    "        Rank.append(i.text)\n",
    "print(len(Rank),Rank)"
   ]
  },
  {
   "cell_type": "code",
   "execution_count": 68,
   "id": "47c3bd2f",
   "metadata": {},
   "outputs": [
    {
     "name": "stdout",
     "output_type": "stream",
     "text": [
      "33 ['Maharashtra', 'Tamil Nadu', 'Karnataka', 'Uttar Pradesh', 'Gujarat', 'West Bengal', 'Rajasthan', 'Andhra Pradesh', 'Telangana', 'Madhya Pradesh', 'Kerala', 'Delhi', 'Haryana', 'Odisha', 'Bihar', 'Punjab', 'Assam', 'Chhattisgarh', 'Jharkhand', 'Uttarakhand', 'Jammu & Kashmir', 'Himachal Pradesh', 'Goa', 'Tripura', 'Chandigarh', 'Puducherry', 'Meghalaya', 'Sikkim', 'Manipur', 'Arunachal Pradesh', 'Nagaland', 'Mizoram', 'Andaman & Nicobar Islands']\n"
     ]
    }
   ],
   "source": [
    "State = []\n",
    "s =driver.find_elements(By.XPATH,'//td[@class=\"name\"]')\n",
    "for i in s[0:33]:\n",
    "    if i.text is None :\n",
    "        State.append(\"--\") \n",
    "    else:\n",
    "        State.append(i.text)\n",
    "print(len(State),State)"
   ]
  },
  {
   "cell_type": "code",
   "execution_count": 70,
   "id": "28d785fb",
   "metadata": {},
   "outputs": [
    {
     "name": "stdout",
     "output_type": "stream",
     "text": [
      "33 ['3,108,022', '2,071,286', '1,978,094', '1,975,595', '1,928,683', '1,329,238', '1,193,489', '1,148,471', '1,124,204', '1,092,964', '934,542', '881,336', '868,905', '662,886', '650,302', '617,192', '411,454', '410,525', '358,863', '267,143', '193,352', '172,162', '84,266', '62,550', '46,096', '43,810', '38,785', '37,557', '36,594', '34,775', '31,038', '27,824', '10,371']\n"
     ]
    }
   ],
   "source": [
    "GDP_Current = []\n",
    "g =driver.find_elements(By.XPATH,'//td[@class=\"data sorting_1\"]')\n",
    "for i in g[0:33]:\n",
    "    if i.text is None :\n",
    "        GDP_Current.append(\"--\") \n",
    "    else:\n",
    "        GDP_Current.append(i.text)\n",
    "print(len(GDP_Current),GDP_Current)"
   ]
  },
  {
   "cell_type": "code",
   "execution_count": 71,
   "id": "40ef1381",
   "metadata": {},
   "outputs": [
    {
     "name": "stdout",
     "output_type": "stream",
     "text": [
      "33 ['13.17%', '8.78%', '8.38%', '8.37%', '8.17%', '5.63%', '5.06%', '4.87%', '4.76%', '4.63%', '3.96%', '3.73%', '3.68%', '2.81%', '2.76%', '2.62%', '1.74%', '1.74%', '1.52%', '1.13%', '0.82%', '0.73%', '0.36%', '0.27%', '0.20%', '0.19%', '0.16%', '0.16%', '0.16%', '0.15%', '0.13%', '0.12%', '0.04%']\n"
     ]
    }
   ],
   "source": [
    "Share = []\n",
    "g =driver.find_elements(By.XPATH,'//td[@class=\"data\"][3]')\n",
    "for i in g[0:33]:\n",
    "    if i.text is None :\n",
    "        Share.append(\"--\") \n",
    "    else:\n",
    "        Share.append(i.text)\n",
    "print(len(Share),Share)"
   ]
  },
  {
   "cell_type": "code",
   "execution_count": 77,
   "id": "1334e454",
   "metadata": {},
   "outputs": [
    {
     "name": "stdout",
     "output_type": "stream",
     "text": [
      "33 ['2,027,971', '1,343,287', '1,235,377', '1,200,093', '1,365,922', '787,439', '727,805', '722,727', '669,229', '584,470', '578,057', '580,396', '544,317', '430,541', '399,930', '434,261', '278,835', '280,609', '243,348', '184,274', '119,174', '124,770', '55,342', '39,487', '30,587', '27,131', '24,267', '20,728', '20,515', '19,707', '17,336', '18,494', '7,172']\n"
     ]
    }
   ],
   "source": [
    "GDP_Prev = []\n",
    "g =driver.find_elements(By.XPATH,'//table[@class=\"display dataTable\"]/tbody/tr/td[10]')\n",
    "for i in g[0:33]:\n",
    "    if i.text is None :\n",
    "        GDP_Prev.append(\"--\") \n",
    "    else:\n",
    "        GDP_Prev.append(i.text)\n",
    "print(len(GDP_Prev),GDP_Prev)"
   ]
  },
  {
   "cell_type": "code",
   "execution_count": 78,
   "id": "0de56f73",
   "metadata": {},
   "outputs": [
    {
     "name": "stdout",
     "output_type": "stream",
     "text": [
      "33 ['414.928', '276.522', '264.080', '263.747', '257.484', '177.456', '159.334', '153.324', '150.084', '145.913', '124.764', '117.660', '116.001', '88.497', '86.817', '82.397', '54.930', '54.806', '47.909', '35.664', '25.813', '22.984', '11.250', '8.351', '6.154', '5.849', '5.178', '5.014', '4.885', '4.643', '4.144', '3.715', '1.385']\n"
     ]
    }
   ],
   "source": [
    "GDP_bn = []\n",
    "g =driver.find_elements(By.XPATH,'//table[@class=\"display dataTable\"]/tbody/tr/td[7]')\n",
    "for i in g[0:33]:\n",
    "    if i.text is None :\n",
    "        GDP_bn.append(\"--\") \n",
    "    else:\n",
    "        GDP_bn.append(i.text)\n",
    "print(len(GDP_bn),GDP_bn)"
   ]
  },
  {
   "cell_type": "code",
   "execution_count": 79,
   "id": "94ed17fa",
   "metadata": {},
   "outputs": [
    {
     "data": {
      "text/html": [
       "<div>\n",
       "<style scoped>\n",
       "    .dataframe tbody tr th:only-of-type {\n",
       "        vertical-align: middle;\n",
       "    }\n",
       "\n",
       "    .dataframe tbody tr th {\n",
       "        vertical-align: top;\n",
       "    }\n",
       "\n",
       "    .dataframe thead th {\n",
       "        text-align: right;\n",
       "    }\n",
       "</style>\n",
       "<table border=\"1\" class=\"dataframe\">\n",
       "  <thead>\n",
       "    <tr style=\"text-align: right;\">\n",
       "      <th></th>\n",
       "      <th>Rank</th>\n",
       "      <th>State</th>\n",
       "      <th>GDP_Current</th>\n",
       "      <th>GDP_Prev</th>\n",
       "      <th>Share</th>\n",
       "      <th>GDP_bn</th>\n",
       "    </tr>\n",
       "  </thead>\n",
       "  <tbody>\n",
       "    <tr>\n",
       "      <th>0</th>\n",
       "      <td>1</td>\n",
       "      <td>Maharashtra</td>\n",
       "      <td>3,108,022</td>\n",
       "      <td>2,027,971</td>\n",
       "      <td>13.17%</td>\n",
       "      <td>414.928</td>\n",
       "    </tr>\n",
       "    <tr>\n",
       "      <th>1</th>\n",
       "      <td>2</td>\n",
       "      <td>Tamil Nadu</td>\n",
       "      <td>2,071,286</td>\n",
       "      <td>1,343,287</td>\n",
       "      <td>8.78%</td>\n",
       "      <td>276.522</td>\n",
       "    </tr>\n",
       "    <tr>\n",
       "      <th>2</th>\n",
       "      <td>3</td>\n",
       "      <td>Karnataka</td>\n",
       "      <td>1,978,094</td>\n",
       "      <td>1,235,377</td>\n",
       "      <td>8.38%</td>\n",
       "      <td>264.080</td>\n",
       "    </tr>\n",
       "    <tr>\n",
       "      <th>3</th>\n",
       "      <td>4</td>\n",
       "      <td>Uttar Pradesh</td>\n",
       "      <td>1,975,595</td>\n",
       "      <td>1,200,093</td>\n",
       "      <td>8.37%</td>\n",
       "      <td>263.747</td>\n",
       "    </tr>\n",
       "    <tr>\n",
       "      <th>4</th>\n",
       "      <td>5</td>\n",
       "      <td>Gujarat</td>\n",
       "      <td>1,928,683</td>\n",
       "      <td>1,365,922</td>\n",
       "      <td>8.17%</td>\n",
       "      <td>257.484</td>\n",
       "    </tr>\n",
       "    <tr>\n",
       "      <th>5</th>\n",
       "      <td>6</td>\n",
       "      <td>West Bengal</td>\n",
       "      <td>1,329,238</td>\n",
       "      <td>787,439</td>\n",
       "      <td>5.63%</td>\n",
       "      <td>177.456</td>\n",
       "    </tr>\n",
       "    <tr>\n",
       "      <th>6</th>\n",
       "      <td>7</td>\n",
       "      <td>Rajasthan</td>\n",
       "      <td>1,193,489</td>\n",
       "      <td>727,805</td>\n",
       "      <td>5.06%</td>\n",
       "      <td>159.334</td>\n",
       "    </tr>\n",
       "    <tr>\n",
       "      <th>7</th>\n",
       "      <td>8</td>\n",
       "      <td>Andhra Pradesh</td>\n",
       "      <td>1,148,471</td>\n",
       "      <td>722,727</td>\n",
       "      <td>4.87%</td>\n",
       "      <td>153.324</td>\n",
       "    </tr>\n",
       "    <tr>\n",
       "      <th>8</th>\n",
       "      <td>9</td>\n",
       "      <td>Telangana</td>\n",
       "      <td>1,124,204</td>\n",
       "      <td>669,229</td>\n",
       "      <td>4.76%</td>\n",
       "      <td>150.084</td>\n",
       "    </tr>\n",
       "    <tr>\n",
       "      <th>9</th>\n",
       "      <td>10</td>\n",
       "      <td>Madhya Pradesh</td>\n",
       "      <td>1,092,964</td>\n",
       "      <td>584,470</td>\n",
       "      <td>4.63%</td>\n",
       "      <td>145.913</td>\n",
       "    </tr>\n",
       "    <tr>\n",
       "      <th>10</th>\n",
       "      <td>11</td>\n",
       "      <td>Kerala</td>\n",
       "      <td>934,542</td>\n",
       "      <td>578,057</td>\n",
       "      <td>3.96%</td>\n",
       "      <td>124.764</td>\n",
       "    </tr>\n",
       "    <tr>\n",
       "      <th>11</th>\n",
       "      <td>12</td>\n",
       "      <td>Delhi</td>\n",
       "      <td>881,336</td>\n",
       "      <td>580,396</td>\n",
       "      <td>3.73%</td>\n",
       "      <td>117.660</td>\n",
       "    </tr>\n",
       "    <tr>\n",
       "      <th>12</th>\n",
       "      <td>13</td>\n",
       "      <td>Haryana</td>\n",
       "      <td>868,905</td>\n",
       "      <td>544,317</td>\n",
       "      <td>3.68%</td>\n",
       "      <td>116.001</td>\n",
       "    </tr>\n",
       "    <tr>\n",
       "      <th>13</th>\n",
       "      <td>14</td>\n",
       "      <td>Odisha</td>\n",
       "      <td>662,886</td>\n",
       "      <td>430,541</td>\n",
       "      <td>2.81%</td>\n",
       "      <td>88.497</td>\n",
       "    </tr>\n",
       "    <tr>\n",
       "      <th>14</th>\n",
       "      <td>15</td>\n",
       "      <td>Bihar</td>\n",
       "      <td>650,302</td>\n",
       "      <td>399,930</td>\n",
       "      <td>2.76%</td>\n",
       "      <td>86.817</td>\n",
       "    </tr>\n",
       "    <tr>\n",
       "      <th>15</th>\n",
       "      <td>16</td>\n",
       "      <td>Punjab</td>\n",
       "      <td>617,192</td>\n",
       "      <td>434,261</td>\n",
       "      <td>2.62%</td>\n",
       "      <td>82.397</td>\n",
       "    </tr>\n",
       "    <tr>\n",
       "      <th>16</th>\n",
       "      <td>17</td>\n",
       "      <td>Assam</td>\n",
       "      <td>411,454</td>\n",
       "      <td>278,835</td>\n",
       "      <td>1.74%</td>\n",
       "      <td>54.930</td>\n",
       "    </tr>\n",
       "    <tr>\n",
       "      <th>17</th>\n",
       "      <td>18</td>\n",
       "      <td>Chhattisgarh</td>\n",
       "      <td>410,525</td>\n",
       "      <td>280,609</td>\n",
       "      <td>1.74%</td>\n",
       "      <td>54.806</td>\n",
       "    </tr>\n",
       "    <tr>\n",
       "      <th>18</th>\n",
       "      <td>19</td>\n",
       "      <td>Jharkhand</td>\n",
       "      <td>358,863</td>\n",
       "      <td>243,348</td>\n",
       "      <td>1.52%</td>\n",
       "      <td>47.909</td>\n",
       "    </tr>\n",
       "    <tr>\n",
       "      <th>19</th>\n",
       "      <td>20</td>\n",
       "      <td>Uttarakhand</td>\n",
       "      <td>267,143</td>\n",
       "      <td>184,274</td>\n",
       "      <td>1.13%</td>\n",
       "      <td>35.664</td>\n",
       "    </tr>\n",
       "    <tr>\n",
       "      <th>20</th>\n",
       "      <td>21</td>\n",
       "      <td>Jammu &amp; Kashmir</td>\n",
       "      <td>193,352</td>\n",
       "      <td>119,174</td>\n",
       "      <td>0.82%</td>\n",
       "      <td>25.813</td>\n",
       "    </tr>\n",
       "    <tr>\n",
       "      <th>21</th>\n",
       "      <td>22</td>\n",
       "      <td>Himachal Pradesh</td>\n",
       "      <td>172,162</td>\n",
       "      <td>124,770</td>\n",
       "      <td>0.73%</td>\n",
       "      <td>22.984</td>\n",
       "    </tr>\n",
       "    <tr>\n",
       "      <th>22</th>\n",
       "      <td>23</td>\n",
       "      <td>Goa</td>\n",
       "      <td>84,266</td>\n",
       "      <td>55,342</td>\n",
       "      <td>0.36%</td>\n",
       "      <td>11.250</td>\n",
       "    </tr>\n",
       "    <tr>\n",
       "      <th>23</th>\n",
       "      <td>24</td>\n",
       "      <td>Tripura</td>\n",
       "      <td>62,550</td>\n",
       "      <td>39,487</td>\n",
       "      <td>0.27%</td>\n",
       "      <td>8.351</td>\n",
       "    </tr>\n",
       "    <tr>\n",
       "      <th>24</th>\n",
       "      <td>25</td>\n",
       "      <td>Chandigarh</td>\n",
       "      <td>46,096</td>\n",
       "      <td>30,587</td>\n",
       "      <td>0.20%</td>\n",
       "      <td>6.154</td>\n",
       "    </tr>\n",
       "    <tr>\n",
       "      <th>25</th>\n",
       "      <td>26</td>\n",
       "      <td>Puducherry</td>\n",
       "      <td>43,810</td>\n",
       "      <td>27,131</td>\n",
       "      <td>0.19%</td>\n",
       "      <td>5.849</td>\n",
       "    </tr>\n",
       "    <tr>\n",
       "      <th>26</th>\n",
       "      <td>27</td>\n",
       "      <td>Meghalaya</td>\n",
       "      <td>38,785</td>\n",
       "      <td>24,267</td>\n",
       "      <td>0.16%</td>\n",
       "      <td>5.178</td>\n",
       "    </tr>\n",
       "    <tr>\n",
       "      <th>27</th>\n",
       "      <td>28</td>\n",
       "      <td>Sikkim</td>\n",
       "      <td>37,557</td>\n",
       "      <td>20,728</td>\n",
       "      <td>0.16%</td>\n",
       "      <td>5.014</td>\n",
       "    </tr>\n",
       "    <tr>\n",
       "      <th>28</th>\n",
       "      <td>29</td>\n",
       "      <td>Manipur</td>\n",
       "      <td>36,594</td>\n",
       "      <td>20,515</td>\n",
       "      <td>0.16%</td>\n",
       "      <td>4.885</td>\n",
       "    </tr>\n",
       "    <tr>\n",
       "      <th>29</th>\n",
       "      <td>30</td>\n",
       "      <td>Arunachal Pradesh</td>\n",
       "      <td>34,775</td>\n",
       "      <td>19,707</td>\n",
       "      <td>0.15%</td>\n",
       "      <td>4.643</td>\n",
       "    </tr>\n",
       "    <tr>\n",
       "      <th>30</th>\n",
       "      <td>31</td>\n",
       "      <td>Nagaland</td>\n",
       "      <td>31,038</td>\n",
       "      <td>17,336</td>\n",
       "      <td>0.13%</td>\n",
       "      <td>4.144</td>\n",
       "    </tr>\n",
       "    <tr>\n",
       "      <th>31</th>\n",
       "      <td>32</td>\n",
       "      <td>Mizoram</td>\n",
       "      <td>27,824</td>\n",
       "      <td>18,494</td>\n",
       "      <td>0.12%</td>\n",
       "      <td>3.715</td>\n",
       "    </tr>\n",
       "    <tr>\n",
       "      <th>32</th>\n",
       "      <td>33</td>\n",
       "      <td>Andaman &amp; Nicobar Islands</td>\n",
       "      <td>10,371</td>\n",
       "      <td>7,172</td>\n",
       "      <td>0.04%</td>\n",
       "      <td>1.385</td>\n",
       "    </tr>\n",
       "  </tbody>\n",
       "</table>\n",
       "</div>"
      ],
      "text/plain": [
       "   Rank                      State GDP_Current   GDP_Prev   Share   GDP_bn\n",
       "0     1                Maharashtra   3,108,022  2,027,971  13.17%  414.928\n",
       "1     2                 Tamil Nadu   2,071,286  1,343,287   8.78%  276.522\n",
       "2     3                  Karnataka   1,978,094  1,235,377   8.38%  264.080\n",
       "3     4              Uttar Pradesh   1,975,595  1,200,093   8.37%  263.747\n",
       "4     5                    Gujarat   1,928,683  1,365,922   8.17%  257.484\n",
       "5     6                West Bengal   1,329,238    787,439   5.63%  177.456\n",
       "6     7                  Rajasthan   1,193,489    727,805   5.06%  159.334\n",
       "7     8             Andhra Pradesh   1,148,471    722,727   4.87%  153.324\n",
       "8     9                  Telangana   1,124,204    669,229   4.76%  150.084\n",
       "9    10             Madhya Pradesh   1,092,964    584,470   4.63%  145.913\n",
       "10   11                     Kerala     934,542    578,057   3.96%  124.764\n",
       "11   12                      Delhi     881,336    580,396   3.73%  117.660\n",
       "12   13                    Haryana     868,905    544,317   3.68%  116.001\n",
       "13   14                     Odisha     662,886    430,541   2.81%   88.497\n",
       "14   15                      Bihar     650,302    399,930   2.76%   86.817\n",
       "15   16                     Punjab     617,192    434,261   2.62%   82.397\n",
       "16   17                      Assam     411,454    278,835   1.74%   54.930\n",
       "17   18               Chhattisgarh     410,525    280,609   1.74%   54.806\n",
       "18   19                  Jharkhand     358,863    243,348   1.52%   47.909\n",
       "19   20                Uttarakhand     267,143    184,274   1.13%   35.664\n",
       "20   21            Jammu & Kashmir     193,352    119,174   0.82%   25.813\n",
       "21   22           Himachal Pradesh     172,162    124,770   0.73%   22.984\n",
       "22   23                        Goa      84,266     55,342   0.36%   11.250\n",
       "23   24                    Tripura      62,550     39,487   0.27%    8.351\n",
       "24   25                 Chandigarh      46,096     30,587   0.20%    6.154\n",
       "25   26                 Puducherry      43,810     27,131   0.19%    5.849\n",
       "26   27                  Meghalaya      38,785     24,267   0.16%    5.178\n",
       "27   28                     Sikkim      37,557     20,728   0.16%    5.014\n",
       "28   29                    Manipur      36,594     20,515   0.16%    4.885\n",
       "29   30          Arunachal Pradesh      34,775     19,707   0.15%    4.643\n",
       "30   31                   Nagaland      31,038     17,336   0.13%    4.144\n",
       "31   32                    Mizoram      27,824     18,494   0.12%    3.715\n",
       "32   33  Andaman & Nicobar Islands      10,371      7,172   0.04%    1.385"
      ]
     },
     "execution_count": 79,
     "metadata": {},
     "output_type": "execute_result"
    }
   ],
   "source": [
    "df = pd.DataFrame({'Rank':Rank,'State':State,'GDP_Current':GDP_Current,'GDP_Prev':GDP_Prev,'Share':Share,'GDP_bn':GDP_bn})\n",
    "df"
   ]
  },
  {
   "cell_type": "code",
   "execution_count": 80,
   "id": "afbf4513",
   "metadata": {},
   "outputs": [],
   "source": [
    "driver.close()"
   ]
  },
  {
   "cell_type": "markdown",
   "id": "1bd312ce",
   "metadata": {},
   "source": [
    "### Q4 Scrape the details of trending repositories on Github.com. \n",
    "\n",
    "Url = https://github.com/ \n",
    "\n",
    "You have to find the following details: \n",
    "\n",
    "A) Repository title \n",
    "\n",
    "B) Repository description \n",
    "\n",
    "C) Contributors count \n",
    "\n",
    "D) Language used \n",
    "\n",
    "Note: - From the home page you have to click on the trending option from Explore menu through code. \n"
   ]
  },
  {
   "cell_type": "code",
   "execution_count": 81,
   "id": "b37e9b94",
   "metadata": {},
   "outputs": [],
   "source": [
    "driver = webdriver.Chrome()"
   ]
  },
  {
   "cell_type": "code",
   "execution_count": 82,
   "id": "24031598",
   "metadata": {},
   "outputs": [],
   "source": [
    "driver.get('https://github.com/')"
   ]
  },
  {
   "cell_type": "code",
   "execution_count": 85,
   "id": "8159be67",
   "metadata": {},
   "outputs": [],
   "source": [
    "clicks = driver.find_element(By.XPATH,'/html/body/div[1]/div[1]/header/div/div[2]/div/nav/ul/li[3]/button')\n",
    "clicks.click()"
   ]
  },
  {
   "cell_type": "code",
   "execution_count": 86,
   "id": "166132ad",
   "metadata": {},
   "outputs": [],
   "source": [
    "clicks = driver.find_element(By.XPATH,'/html/body/div[1]/div[1]/header/div/div[2]/div/nav/ul/li[3]/div/div[3]/ul/li[2]/a')\n",
    "clicks.click()"
   ]
  },
  {
   "cell_type": "code",
   "execution_count": 87,
   "id": "5a64eedb",
   "metadata": {},
   "outputs": [],
   "source": [
    "title = []\n",
    "ttl = driver.find_elements(By.XPATH,'//a[@class=\"Link\"]')\n",
    "for i in ttl:\n",
    "    title.append(i.text)"
   ]
  },
  {
   "cell_type": "code",
   "execution_count": 91,
   "id": "00145e3b",
   "metadata": {},
   "outputs": [
    {
     "name": "stdout",
     "output_type": "stream",
     "text": [
      "25\n"
     ]
    },
    {
     "data": {
      "text/plain": [
       "['princeton-nlp / SWE-agent',\n",
       " 'zyronon / douyin',\n",
       " 'wandb / openui',\n",
       " 'netease-youdao / QAnything',\n",
       " 'intel-analytics / ipex-llm',\n",
       " 'infiniflow / ragflow',\n",
       " 'usebruno / bruno',\n",
       " 'amlweems / xzbot',\n",
       " 'rocketseat-education / nlw-unite-nodejs',\n",
       " 'HardhatChad / ore',\n",
       " 'pedroslopez / whatsapp-web.js',\n",
       " 'microsoft / generative-ai-for-beginners',\n",
       " 'ixartz / SaaS-Boilerplate',\n",
       " 'PKUFlyingPig / cs-self-learning',\n",
       " 'heyform / heyform',\n",
       " 'HeyPuter / puter',\n",
       " 'atherosai / ui',\n",
       " 'gethomepage / homepage',\n",
       " 'OneUptime / oneuptime',\n",
       " 'OpenBMB / ChatDev',\n",
       " 'airbnb / javascript',\n",
       " 'apache / superset',\n",
       " 'actions / runner-images',\n",
       " 'firebase / firebase-ios-sdk',\n",
       " 'jwasham / coding-interview-university']"
      ]
     },
     "execution_count": 91,
     "metadata": {},
     "output_type": "execute_result"
    }
   ],
   "source": [
    "print(len(title))\n",
    "title"
   ]
  },
  {
   "cell_type": "code",
   "execution_count": 89,
   "id": "9f0b841a",
   "metadata": {},
   "outputs": [
    {
     "name": "stdout",
     "output_type": "stream",
     "text": [
      "25\n"
     ]
    },
    {
     "data": {
      "text/plain": [
       "['princeton-nlp / SWE-agent',\n",
       " 'zyronon / douyin',\n",
       " 'wandb / openui',\n",
       " 'netease-youdao / QAnything',\n",
       " 'intel-analytics / ipex-llm',\n",
       " 'infiniflow / ragflow',\n",
       " 'usebruno / bruno',\n",
       " 'amlweems / xzbot',\n",
       " 'rocketseat-education / nlw-unite-nodejs',\n",
       " 'HardhatChad / ore',\n",
       " 'pedroslopez / whatsapp-web.js',\n",
       " 'microsoft / generative-ai-for-beginners',\n",
       " 'ixartz / SaaS-Boilerplate',\n",
       " 'PKUFlyingPig / cs-self-learning',\n",
       " 'heyform / heyform',\n",
       " 'HeyPuter / puter',\n",
       " 'atherosai / ui',\n",
       " 'gethomepage / homepage',\n",
       " 'OneUptime / oneuptime',\n",
       " 'OpenBMB / ChatDev',\n",
       " 'airbnb / javascript',\n",
       " 'apache / superset',\n",
       " 'actions / runner-images',\n",
       " 'firebase / firebase-ios-sdk',\n",
       " 'jwasham / coding-interview-university']"
      ]
     },
     "execution_count": 89,
     "metadata": {},
     "output_type": "execute_result"
    }
   ],
   "source": [
    "description = []\n",
    "ttl = driver.find_elements(By.XPATH,'//a[@class=\"Link\"]')\n",
    "for i in ttl:\n",
    "    if i.text is None:\n",
    "        description.append('--')\n",
    "    else:\n",
    "        description.append(i.text)\n",
    "        \n",
    "print(len(description))\n",
    "description"
   ]
  },
  {
   "cell_type": "code",
   "execution_count": 92,
   "id": "6ca6c34d",
   "metadata": {},
   "outputs": [
    {
     "name": "stdout",
     "output_type": "stream",
     "text": [
      "24\n"
     ]
    },
    {
     "data": {
      "text/plain": [
       "['Python',\n",
       " 'Vue',\n",
       " 'TypeScript',\n",
       " 'Python',\n",
       " 'Python',\n",
       " 'Python',\n",
       " 'JavaScript',\n",
       " 'Go',\n",
       " 'TypeScript',\n",
       " 'Rust',\n",
       " 'JavaScript',\n",
       " 'Jupyter Notebook',\n",
       " 'TypeScript',\n",
       " 'HTML',\n",
       " 'TypeScript',\n",
       " 'JavaScript',\n",
       " 'HTML',\n",
       " 'JavaScript',\n",
       " 'TypeScript',\n",
       " 'Shell',\n",
       " 'JavaScript',\n",
       " 'TypeScript',\n",
       " 'PowerShell',\n",
       " 'Objective-C']"
      ]
     },
     "execution_count": 92,
     "metadata": {},
     "output_type": "execute_result"
    }
   ],
   "source": [
    "Language = []\n",
    "lng = driver.find_elements(By.XPATH,'//span[@class=\"d-inline-block ml-0 mr-3\"]/span[2]')\n",
    "for i in lng:\n",
    "    if i.text is None:\n",
    "        Language.append('--')\n",
    "    else:\n",
    "        Language.append(i.text)\n",
    "        \n",
    "print(len(Language))\n",
    "Language"
   ]
  },
  {
   "cell_type": "code",
   "execution_count": 93,
   "id": "f7590a42",
   "metadata": {},
   "outputs": [
    {
     "name": "stdout",
     "output_type": "stream",
     "text": [
      "25\n"
     ]
    },
    {
     "data": {
      "text/plain": [
       "['439',\n",
       " '679',\n",
       " '287',\n",
       " '597',\n",
       " '1,179',\n",
       " '126',\n",
       " '810',\n",
       " '193',\n",
       " '76',\n",
       " '17',\n",
       " '3,195',\n",
       " '21,201',\n",
       " '74',\n",
       " '5,618',\n",
       " '318',\n",
       " '659',\n",
       " '1,180',\n",
       " '847',\n",
       " '148',\n",
       " '2,694',\n",
       " '26,111',\n",
       " '12,419',\n",
       " '2,774',\n",
       " '1,332',\n",
       " '72,172']"
      ]
     },
     "execution_count": 93,
     "metadata": {},
     "output_type": "execute_result"
    }
   ],
   "source": [
    "Contributors_count = []\n",
    "cnt = driver.find_elements(By.XPATH,'//a[@class=\"Link Link--muted d-inline-block mr-3\"][2]')\n",
    "for i in cnt:\n",
    "    if i.text is None:\n",
    "        Contributors_count.append('--')\n",
    "    else:\n",
    "        Contributors_count.append(i.text)\n",
    "        \n",
    "print(len(Contributors_count))\n",
    "Contributors_count"
   ]
  },
  {
   "cell_type": "markdown",
   "id": "abbe7175",
   "metadata": {},
   "source": [
    "### Q5 Scrape the details of top 100 songs on billiboard.com. Url = https:/www.billboard.com/ You have to find the following details: \n",
    "\n",
    "A) Song name \n",
    "\n",
    "B) Artist name \n",
    "\n",
    "C) Last week rank \n",
    "\n",
    "D) Peak rank \n",
    "\n",
    "E) Weeks on board \n",
    "\n",
    "Note: - From the home page you have to click on the charts option then hot 100-page link through code."
   ]
  },
  {
   "cell_type": "code",
   "execution_count": 94,
   "id": "40a53a85",
   "metadata": {},
   "outputs": [],
   "source": [
    "driver = webdriver.Chrome()"
   ]
  },
  {
   "cell_type": "code",
   "execution_count": 95,
   "id": "1842554a",
   "metadata": {},
   "outputs": [],
   "source": [
    "driver.get('https:/www.billboard.com/')"
   ]
  },
  {
   "cell_type": "code",
   "execution_count": 96,
   "id": "9d726004",
   "metadata": {},
   "outputs": [],
   "source": [
    "clicks = driver.find_element(By.XPATH,'/html/body/div[3]/header/div/div[3]/div/nav/ul/li[1]/a')\n",
    "clicks.click()"
   ]
  },
  {
   "cell_type": "code",
   "execution_count": 97,
   "id": "4bcb49e8",
   "metadata": {},
   "outputs": [],
   "source": [
    "song_name = []\n",
    "for i in driver.find_elements(By.XPATH,'//li[@class=\"lrv-u-width-100p\"]/ul/li/h3'):\n",
    "    song_name.append(i.text)"
   ]
  },
  {
   "cell_type": "code",
   "execution_count": 100,
   "id": "6a555d81",
   "metadata": {},
   "outputs": [
    {
     "name": "stdout",
     "output_type": "stream",
     "text": [
      "100 ['Like That', 'Type Shit', 'Beautiful Things', 'Lose Control', 'Too Sweet', 'Cinderella', 'Lovin On Me', \"We Don't Trust You\", 'Young Metro', \"We Can't Be Friends (Wait For Your Love)\", \"Texas Hold 'Em\", 'Carnival', 'Ice Attack', 'Obsessed', 'I Remember Everything', 'Cruel Summer', 'Greedy', 'Stick Season', 'Water', 'Slimed In', 'End Of Beginning', 'Agora Hills', 'Snooze', 'Claustrophobic', 'Fast Car', 'Saturn', 'Magic Don Juan (Princess Diana)', 'Get It Sexyy', 'Never Lose Me', 'Redrum', 'Act II: Date @ 8', 'Whatever She Wants', 'Fried (She A Vibe)', 'Made For Me', 'Feather', 'Runnin Outta Time', 'Man Made A Bar', 'Everyday Hustle', 'Truck Bed', 'GTA', \"Ain't No Love\", 'Houdini', 'Paint The Town Red', 'Enough (Miami)', 'Slow It Down', 'Selfish', \"Is It Over Now? (Taylor's Version) [From The Vault]\", '23', 'Yeah Glo!', 'Where The Wild Things Are', 'Burn It Down', 'WTFYM', 'Austin', 'Seen It All', 'Wild Ones', 'La Diabla', 'Exes', 'So American', 'Wildflowers And Wild Horses', 'The Boy Is Mine', 'Yes, And?', 'Where My Twin @', 'Get In With Me', 'Soak City', 'Scared To Start', 'Everybody', 'Praise Jah In The Moonlight', \"Mamaw's House\", 'La People II', 'I Like The Way You Kiss Me', 'Training Season', 'Punteria', 'Corazon de Piedra', 'One Of The Girls', 'Stranger', 'Mmhmm', 'Bandit', 'Surround Sound', 'Where It Ends', 'Supernatural', 'Tu Name', 'FTCU', 'Gata Only', 'I Can Feel It', 'Breathe', 'Bye', 'Eternal Sunshine', 'Wildflower And Barley', 'Sensational', 'Scared Of My Guitar', 'Spin You Around (1/24)', 'One Call', 'Best For Me', 'You Broke My Heart', 'Home', 'La Victima', 'Tucson Too Late', 'Empire Now', \"Girl I've Always Been\", 'Outskirts']\n"
     ]
    }
   ],
   "source": [
    "\n",
    "print(len(song_name),song_name)"
   ]
  },
  {
   "cell_type": "code",
   "execution_count": 101,
   "id": "7752c432",
   "metadata": {},
   "outputs": [],
   "source": [
    "Artist_name = []\n",
    "for i in driver.find_elements(By.XPATH,'//li[@class=\"lrv-u-width-100p\"]/ul/li[1]/span'):\n",
    "    Artist_name.append(i.text)"
   ]
  },
  {
   "cell_type": "code",
   "execution_count": 102,
   "id": "7e001f5e",
   "metadata": {},
   "outputs": [
    {
     "name": "stdout",
     "output_type": "stream",
     "text": [
      "100 ['Future, Metro Boomin & Kendrick Lamar', 'Future, Metro Boomin, Travis Scott & Playboi Carti', 'Benson Boone', 'Teddy Swims', 'Hozier', 'Future, Metro Boomin & Travis Scott', 'Jack Harlow', 'Future & Metro Boomin', 'Future, Metro Boomin & The Weeknd', 'Ariana Grande', 'Beyonce', '¥$: Ye & Ty Dolla $ign Featuring Rich The Kid & Playboi Carti', 'Future & Metro Boomin', 'Olivia Rodrigo', 'Zach Bryan Featuring Kacey Musgraves', 'Taylor Swift', 'Tate McRae', 'Noah Kahan', 'Tyla', 'Future & Metro Boomin', 'Djo', 'Doja Cat', 'SZA', 'Future & Metro Boomin', 'Luke Combs', 'SZA', 'Future & Metro Boomin', 'Sexyy Red', 'Flo Milli', '21 Savage', '4Batz Featuring Drake', 'Bryson Tiller', 'Future & Metro Boomin', 'Muni Long', 'Sabrina Carpenter', 'Future & Metro Boomin', 'Morgan Wallen Featuring Eric Church', 'Future, Metro Boomin & Rick Ross', 'HARDY', 'Future & Metro Boomin', 'Future & Metro Boomin', 'Dua Lipa', 'Doja Cat', 'Cardi B', 'Benson Boone', 'Justin Timberlake', 'Taylor Swift', 'Chayce Beckham', 'GloRilla', 'Luke Combs', 'Parker McCollum', 'Future & Metro Boomin', 'Dasha', 'Future & Metro Boomin', 'Jessie Murph & Jelly Roll', 'Xavi', 'Tate McRae', 'Olivia Rodrigo', 'Lainey Wilson', 'Ariana Grande', 'Ariana Grande', 'Future & Metro Boomin', 'BossMan Dlow', '310babii', 'Michael Marcagi', 'Nicki Minaj Featuring Lil Uzi Vert', 'YG Marley', 'Thomas Rhett Featuring Morgan Wallen', 'Peso Pluma, Tito Double P & Joel de La P', 'Artemas', 'Dua Lipa', 'Shakira & Cardi B', 'Xavi', 'The Weeknd, Jennie & Lily Rose Depp', 'Olivia Rodrigo', 'BigXthaPlug', 'Don Toliver', 'JID Featuring 21 Savage & Baby Tate', 'Bailey Zimmerman', 'Ariana Grande', 'Fuerza Regida', 'Nicki Minaj', 'FloyyMenor X Cris Mj', 'Kane Brown', 'Yeat', 'Ariana Grande', 'Ariana Grande', 'Hozier & Allison Russell', 'Chris Brown Featuring Davido & Lojay', 'Olivia Rodrigo', 'Morgan Wallen', 'Rich Amiri', 'Joyner Lucas & Jelly Roll', 'Drake', 'Good Neighbours', 'Xavi', 'Jordan Davis', 'Hozier', 'Olivia Rodrigo', 'Sam Hunt']\n"
     ]
    }
   ],
   "source": [
    "print(len(Artist_name),Artist_name)"
   ]
  },
  {
   "cell_type": "code",
   "execution_count": 103,
   "id": "6c9b90ac",
   "metadata": {},
   "outputs": [],
   "source": [
    "Last_week_rank = []\n",
    "for i in driver.find_elements(By.XPATH,'//li[@class=\"lrv-u-width-100p\"]/ul/li[4]'):\n",
    "    Last_week_rank.append(i.text)"
   ]
  },
  {
   "cell_type": "code",
   "execution_count": 104,
   "id": "4a8fcd03",
   "metadata": {},
   "outputs": [
    {
     "name": "stdout",
     "output_type": "stream",
     "text": [
      "100 ['-', '-', '2', '1', '-', '-', '4', '-', '-', '3', '6', '5', '-', '-', '7', '10', '8', '12', '20', '-', '11', '13', '14', '-', '18', '17', '-', '23', '15', '22', '19', '24', '-', '25', '26', '-', '28', '-', '27', '-', '-', '29', '32', '9', '-', '30', '31', '45', '35', '41', '42', '-', '59', '-', '37', '44', '43', '-', '48', '34', '36', '-', '50', '53', '56', '51', '62', '55', '-', '-', '61', '-', '-', '58', '-', '70', '60', '57', '67', '40', '74', '71', '98', '63', '64', '52', '49', '-', '73', '-', '78', '75', '-', '69', '80', '77', '81', '-', '-', '92']\n"
     ]
    }
   ],
   "source": [
    "print(len(Last_week_rank),Last_week_rank)"
   ]
  },
  {
   "cell_type": "code",
   "execution_count": 106,
   "id": "cd5ccfe7",
   "metadata": {},
   "outputs": [],
   "source": [
    "Peak_rank = []\n",
    "for i in driver.find_elements(By.XPATH,'//li[@class=\"lrv-u-width-100p\"]/ul/li[5]'):\n",
    "    Peak_rank.append(i.text)"
   ]
  },
  {
   "cell_type": "code",
   "execution_count": 107,
   "id": "f0c23b15",
   "metadata": {},
   "outputs": [
    {
     "name": "stdout",
     "output_type": "stream",
     "text": [
      "100 ['1', '2', '2', '1', '5', '6', '1', '8', '9', '1', '1', '1', '13', '14', '1', '1', '3', '10', '7', '20', '11', '7', '2', '24', '2', '6', '27', '23', '15', '5', '7', '19', '33', '20', '26', '36', '15', '38', '27', '40', '41', '11', '1', '9', '45', '19', '1', '45', '35', '26', '42', '52', '53', '54', '35', '20', '34', '58', '48', '16', '1', '62', '49', '53', '56', '24', '34', '55', '69', '70', '27', '72', '73', '51', '75', '65', '38', '40', '32', '17', '66', '15', '83', '50', '42', '25', '23', '88', '71', '90', '24', '60', '93', '11', '77', '46', '81', '98', '99', '92']\n"
     ]
    }
   ],
   "source": [
    "print(len(Peak_rank),Peak_rank)"
   ]
  },
  {
   "cell_type": "code",
   "execution_count": 108,
   "id": "7dc47f9c",
   "metadata": {},
   "outputs": [],
   "source": [
    "Weeks_on_board = []\n",
    "for i in driver.find_elements(By.XPATH,'//li[@class=\"lrv-u-width-100p\"]/ul/li[6]'):\n",
    "    Weeks_on_board.append(i.text)"
   ]
  },
  {
   "cell_type": "code",
   "execution_count": 109,
   "id": "39560224",
   "metadata": {},
   "outputs": [
    {
     "name": "stdout",
     "output_type": "stream",
     "text": [
      "100 ['1', '1', '10', '33', '1', '1', '20', '1', '1', '3', '7', '7', '1', '1', '31', '47', '28', '26', '26', '1', '6', '27', '67', '1', '53', '5', '1', '2', '15', '11', '12', '6', '1', '11', '17', '1', '27', '1', '41', '1', '1', '20', '34', '2', '1', '9', '22', '13', '7', '19', '23', '1', '3', '1', '25', '15', '19', '1', '9', '3', '11', '1', '8', '15', '6', '16', '9', '13', '1', '1', '6', '1', '1', '14', '1', '14', '8', '20', '13', '3', '6', '16', '2', '13', '6', '3', '3', '1', '8', '1', '9', '9', '1', '19', '8', '15', '4', '1', '1', '3']\n"
     ]
    }
   ],
   "source": [
    "print(len(Weeks_on_board),Weeks_on_board)"
   ]
  },
  {
   "cell_type": "code",
   "execution_count": 110,
   "id": "b61e656a",
   "metadata": {},
   "outputs": [
    {
     "data": {
      "text/html": [
       "<div>\n",
       "<style scoped>\n",
       "    .dataframe tbody tr th:only-of-type {\n",
       "        vertical-align: middle;\n",
       "    }\n",
       "\n",
       "    .dataframe tbody tr th {\n",
       "        vertical-align: top;\n",
       "    }\n",
       "\n",
       "    .dataframe thead th {\n",
       "        text-align: right;\n",
       "    }\n",
       "</style>\n",
       "<table border=\"1\" class=\"dataframe\">\n",
       "  <thead>\n",
       "    <tr style=\"text-align: right;\">\n",
       "      <th></th>\n",
       "      <th>song_name</th>\n",
       "      <th>Artist_name</th>\n",
       "      <th>Last_week_rank</th>\n",
       "      <th>Peak_rank</th>\n",
       "      <th>Weeks_on_board</th>\n",
       "    </tr>\n",
       "  </thead>\n",
       "  <tbody>\n",
       "    <tr>\n",
       "      <th>0</th>\n",
       "      <td>Like That</td>\n",
       "      <td>Future, Metro Boomin &amp; Kendrick Lamar</td>\n",
       "      <td>-</td>\n",
       "      <td>1</td>\n",
       "      <td>1</td>\n",
       "    </tr>\n",
       "    <tr>\n",
       "      <th>1</th>\n",
       "      <td>Type Shit</td>\n",
       "      <td>Future, Metro Boomin, Travis Scott &amp; Playboi C...</td>\n",
       "      <td>-</td>\n",
       "      <td>2</td>\n",
       "      <td>1</td>\n",
       "    </tr>\n",
       "    <tr>\n",
       "      <th>2</th>\n",
       "      <td>Beautiful Things</td>\n",
       "      <td>Benson Boone</td>\n",
       "      <td>2</td>\n",
       "      <td>2</td>\n",
       "      <td>10</td>\n",
       "    </tr>\n",
       "    <tr>\n",
       "      <th>3</th>\n",
       "      <td>Lose Control</td>\n",
       "      <td>Teddy Swims</td>\n",
       "      <td>1</td>\n",
       "      <td>1</td>\n",
       "      <td>33</td>\n",
       "    </tr>\n",
       "    <tr>\n",
       "      <th>4</th>\n",
       "      <td>Too Sweet</td>\n",
       "      <td>Hozier</td>\n",
       "      <td>-</td>\n",
       "      <td>5</td>\n",
       "      <td>1</td>\n",
       "    </tr>\n",
       "    <tr>\n",
       "      <th>...</th>\n",
       "      <td>...</td>\n",
       "      <td>...</td>\n",
       "      <td>...</td>\n",
       "      <td>...</td>\n",
       "      <td>...</td>\n",
       "    </tr>\n",
       "    <tr>\n",
       "      <th>95</th>\n",
       "      <td>La Victima</td>\n",
       "      <td>Xavi</td>\n",
       "      <td>77</td>\n",
       "      <td>46</td>\n",
       "      <td>15</td>\n",
       "    </tr>\n",
       "    <tr>\n",
       "      <th>96</th>\n",
       "      <td>Tucson Too Late</td>\n",
       "      <td>Jordan Davis</td>\n",
       "      <td>81</td>\n",
       "      <td>81</td>\n",
       "      <td>4</td>\n",
       "    </tr>\n",
       "    <tr>\n",
       "      <th>97</th>\n",
       "      <td>Empire Now</td>\n",
       "      <td>Hozier</td>\n",
       "      <td>-</td>\n",
       "      <td>98</td>\n",
       "      <td>1</td>\n",
       "    </tr>\n",
       "    <tr>\n",
       "      <th>98</th>\n",
       "      <td>Girl I've Always Been</td>\n",
       "      <td>Olivia Rodrigo</td>\n",
       "      <td>-</td>\n",
       "      <td>99</td>\n",
       "      <td>1</td>\n",
       "    </tr>\n",
       "    <tr>\n",
       "      <th>99</th>\n",
       "      <td>Outskirts</td>\n",
       "      <td>Sam Hunt</td>\n",
       "      <td>92</td>\n",
       "      <td>92</td>\n",
       "      <td>3</td>\n",
       "    </tr>\n",
       "  </tbody>\n",
       "</table>\n",
       "<p>100 rows × 5 columns</p>\n",
       "</div>"
      ],
      "text/plain": [
       "                song_name                                        Artist_name  \\\n",
       "0               Like That              Future, Metro Boomin & Kendrick Lamar   \n",
       "1               Type Shit  Future, Metro Boomin, Travis Scott & Playboi C...   \n",
       "2        Beautiful Things                                       Benson Boone   \n",
       "3            Lose Control                                        Teddy Swims   \n",
       "4               Too Sweet                                             Hozier   \n",
       "..                    ...                                                ...   \n",
       "95             La Victima                                               Xavi   \n",
       "96        Tucson Too Late                                       Jordan Davis   \n",
       "97             Empire Now                                             Hozier   \n",
       "98  Girl I've Always Been                                     Olivia Rodrigo   \n",
       "99              Outskirts                                           Sam Hunt   \n",
       "\n",
       "   Last_week_rank Peak_rank Weeks_on_board  \n",
       "0               -         1              1  \n",
       "1               -         2              1  \n",
       "2               2         2             10  \n",
       "3               1         1             33  \n",
       "4               -         5              1  \n",
       "..            ...       ...            ...  \n",
       "95             77        46             15  \n",
       "96             81        81              4  \n",
       "97              -        98              1  \n",
       "98              -        99              1  \n",
       "99             92        92              3  \n",
       "\n",
       "[100 rows x 5 columns]"
      ]
     },
     "execution_count": 110,
     "metadata": {},
     "output_type": "execute_result"
    }
   ],
   "source": [
    "df = pd.DataFrame({'song_name':song_name,'Artist_name':Artist_name,'Last_week_rank':Last_week_rank,'Peak_rank':Peak_rank,'Weeks_on_board':Weeks_on_board})\n",
    "df"
   ]
  },
  {
   "cell_type": "code",
   "execution_count": 111,
   "id": "ea742c90",
   "metadata": {},
   "outputs": [],
   "source": [
    "driver.close()"
   ]
  },
  {
   "cell_type": "markdown",
   "id": "27b83d2e",
   "metadata": {},
   "source": [
    "### Q6 Scrape the details of Highest selling novels. \n",
    "\n",
    "A) Book name \n",
    "\n",
    "B) Author name \n",
    "\n",
    "C) Volumes sold \n",
    "\n",
    "D) Publisher \n",
    "\n",
    "E) Genre \n",
    "\n",
    "Url - https://www.theguardian.com/news/datablog/2012/aug/09/best-selling-books-all-time-fifty-shades-grey-compare"
   ]
  },
  {
   "cell_type": "code",
   "execution_count": 113,
   "id": "3ab1ff20",
   "metadata": {},
   "outputs": [],
   "source": [
    "driver = webdriver.Chrome()"
   ]
  },
  {
   "cell_type": "code",
   "execution_count": 114,
   "id": "e90343d3",
   "metadata": {},
   "outputs": [],
   "source": [
    "driver.get('https://www.theguardian.com/news/datablog/2012/aug/09/best-selling-books-all-time-fifty-shades-grey-compare')"
   ]
  },
  {
   "cell_type": "code",
   "execution_count": 126,
   "id": "eff4065f",
   "metadata": {},
   "outputs": [],
   "source": [
    "Book_name = []\n",
    "Author_name = []\n",
    "Volumes_sold = []\n",
    "Publisher = []\n",
    "Genre = []\n",
    "\n",
    "for i in driver.find_elements(By.XPATH,'//td[@class=\"left\"][2]'):\n",
    "    Book_name.append(i.text)\n",
    "for j in driver.find_elements(By.XPATH,'//td[@class=\"left\"][3]'):\n",
    "    Author_name.append(j.text)\n",
    "    \n",
    "for k in driver.find_elements(By.XPATH,'//td[@class=\"left\"][4]'):\n",
    "    Volumes_sold.append(k.text)\n",
    "for l in driver.find_elements(By.XPATH,'//td[@class=\"left\"][5]'):\n",
    "    Publisher.append(l.text)\n",
    "for m in driver.find_elements(By.XPATH,'//td[@class=\"last left\"]'):\n",
    "    Genre.append(m.text)"
   ]
  },
  {
   "cell_type": "code",
   "execution_count": 127,
   "id": "acfbe161",
   "metadata": {},
   "outputs": [
    {
     "data": {
      "text/plain": [
       "100"
      ]
     },
     "execution_count": 127,
     "metadata": {},
     "output_type": "execute_result"
    }
   ],
   "source": [
    "len(Book_name)"
   ]
  },
  {
   "cell_type": "code",
   "execution_count": 128,
   "id": "d2efa641",
   "metadata": {},
   "outputs": [
    {
     "data": {
      "text/plain": [
       "100"
      ]
     },
     "execution_count": 128,
     "metadata": {},
     "output_type": "execute_result"
    }
   ],
   "source": [
    "len(Author_name)"
   ]
  },
  {
   "cell_type": "code",
   "execution_count": 129,
   "id": "cc910e78",
   "metadata": {},
   "outputs": [
    {
     "data": {
      "text/plain": [
       "100"
      ]
     },
     "execution_count": 129,
     "metadata": {},
     "output_type": "execute_result"
    }
   ],
   "source": [
    "len(Volumes_sold)"
   ]
  },
  {
   "cell_type": "code",
   "execution_count": 130,
   "id": "31a9ac77",
   "metadata": {},
   "outputs": [
    {
     "data": {
      "text/plain": [
       "100"
      ]
     },
     "execution_count": 130,
     "metadata": {},
     "output_type": "execute_result"
    }
   ],
   "source": [
    "len(Publisher)"
   ]
  },
  {
   "cell_type": "code",
   "execution_count": 131,
   "id": "470e091f",
   "metadata": {},
   "outputs": [
    {
     "data": {
      "text/plain": [
       "100"
      ]
     },
     "execution_count": 131,
     "metadata": {},
     "output_type": "execute_result"
    }
   ],
   "source": [
    "len(Genre)"
   ]
  },
  {
   "cell_type": "code",
   "execution_count": 132,
   "id": "60d5b4fa",
   "metadata": {},
   "outputs": [
    {
     "data": {
      "text/html": [
       "<div>\n",
       "<style scoped>\n",
       "    .dataframe tbody tr th:only-of-type {\n",
       "        vertical-align: middle;\n",
       "    }\n",
       "\n",
       "    .dataframe tbody tr th {\n",
       "        vertical-align: top;\n",
       "    }\n",
       "\n",
       "    .dataframe thead th {\n",
       "        text-align: right;\n",
       "    }\n",
       "</style>\n",
       "<table border=\"1\" class=\"dataframe\">\n",
       "  <thead>\n",
       "    <tr style=\"text-align: right;\">\n",
       "      <th></th>\n",
       "      <th>Book_name</th>\n",
       "      <th>Author_name</th>\n",
       "      <th>Volumes_sold</th>\n",
       "      <th>Publisher</th>\n",
       "      <th>Genre</th>\n",
       "    </tr>\n",
       "  </thead>\n",
       "  <tbody>\n",
       "    <tr>\n",
       "      <th>0</th>\n",
       "      <td>Da Vinci Code,The</td>\n",
       "      <td>Brown, Dan</td>\n",
       "      <td>5,094,805</td>\n",
       "      <td>Transworld</td>\n",
       "      <td>Crime, Thriller &amp; Adventure</td>\n",
       "    </tr>\n",
       "    <tr>\n",
       "      <th>1</th>\n",
       "      <td>Harry Potter and the Deathly Hallows</td>\n",
       "      <td>Rowling, J.K.</td>\n",
       "      <td>4,475,152</td>\n",
       "      <td>Bloomsbury</td>\n",
       "      <td>Children's Fiction</td>\n",
       "    </tr>\n",
       "    <tr>\n",
       "      <th>2</th>\n",
       "      <td>Harry Potter and the Philosopher's Stone</td>\n",
       "      <td>Rowling, J.K.</td>\n",
       "      <td>4,200,654</td>\n",
       "      <td>Bloomsbury</td>\n",
       "      <td>Children's Fiction</td>\n",
       "    </tr>\n",
       "    <tr>\n",
       "      <th>3</th>\n",
       "      <td>Harry Potter and the Order of the Phoenix</td>\n",
       "      <td>Rowling, J.K.</td>\n",
       "      <td>4,179,479</td>\n",
       "      <td>Bloomsbury</td>\n",
       "      <td>Children's Fiction</td>\n",
       "    </tr>\n",
       "    <tr>\n",
       "      <th>4</th>\n",
       "      <td>Fifty Shades of Grey</td>\n",
       "      <td>James, E. L.</td>\n",
       "      <td>3,758,936</td>\n",
       "      <td>Random House</td>\n",
       "      <td>Romance &amp; Sagas</td>\n",
       "    </tr>\n",
       "    <tr>\n",
       "      <th>...</th>\n",
       "      <td>...</td>\n",
       "      <td>...</td>\n",
       "      <td>...</td>\n",
       "      <td>...</td>\n",
       "      <td>...</td>\n",
       "    </tr>\n",
       "    <tr>\n",
       "      <th>95</th>\n",
       "      <td>Ghost,The</td>\n",
       "      <td>Harris, Robert</td>\n",
       "      <td>807,311</td>\n",
       "      <td>Random House</td>\n",
       "      <td>General &amp; Literary Fiction</td>\n",
       "    </tr>\n",
       "    <tr>\n",
       "      <th>96</th>\n",
       "      <td>Happy Days with the Naked Chef</td>\n",
       "      <td>Oliver, Jamie</td>\n",
       "      <td>794,201</td>\n",
       "      <td>Penguin</td>\n",
       "      <td>Food &amp; Drink: General</td>\n",
       "    </tr>\n",
       "    <tr>\n",
       "      <th>97</th>\n",
       "      <td>Hunger Games,The:Hunger Games Trilogy</td>\n",
       "      <td>Collins, Suzanne</td>\n",
       "      <td>792,187</td>\n",
       "      <td>Scholastic Ltd.</td>\n",
       "      <td>Young Adult Fiction</td>\n",
       "    </tr>\n",
       "    <tr>\n",
       "      <th>98</th>\n",
       "      <td>Lost Boy,The:A Foster Child's Search for the L...</td>\n",
       "      <td>Pelzer, Dave</td>\n",
       "      <td>791,507</td>\n",
       "      <td>Orion</td>\n",
       "      <td>Biography: General</td>\n",
       "    </tr>\n",
       "    <tr>\n",
       "      <th>99</th>\n",
       "      <td>Jamie's Ministry of Food:Anyone Can Learn to C...</td>\n",
       "      <td>Oliver, Jamie</td>\n",
       "      <td>791,095</td>\n",
       "      <td>Penguin</td>\n",
       "      <td>Food &amp; Drink: General</td>\n",
       "    </tr>\n",
       "  </tbody>\n",
       "</table>\n",
       "<p>100 rows × 5 columns</p>\n",
       "</div>"
      ],
      "text/plain": [
       "                                            Book_name       Author_name  \\\n",
       "0                                   Da Vinci Code,The        Brown, Dan   \n",
       "1                Harry Potter and the Deathly Hallows     Rowling, J.K.   \n",
       "2            Harry Potter and the Philosopher's Stone     Rowling, J.K.   \n",
       "3           Harry Potter and the Order of the Phoenix     Rowling, J.K.   \n",
       "4                                Fifty Shades of Grey      James, E. L.   \n",
       "..                                                ...               ...   \n",
       "95                                          Ghost,The    Harris, Robert   \n",
       "96                     Happy Days with the Naked Chef     Oliver, Jamie   \n",
       "97              Hunger Games,The:Hunger Games Trilogy  Collins, Suzanne   \n",
       "98  Lost Boy,The:A Foster Child's Search for the L...      Pelzer, Dave   \n",
       "99  Jamie's Ministry of Food:Anyone Can Learn to C...     Oliver, Jamie   \n",
       "\n",
       "   Volumes_sold        Publisher                        Genre  \n",
       "0     5,094,805       Transworld  Crime, Thriller & Adventure  \n",
       "1     4,475,152       Bloomsbury           Children's Fiction  \n",
       "2     4,200,654       Bloomsbury           Children's Fiction  \n",
       "3     4,179,479       Bloomsbury           Children's Fiction  \n",
       "4     3,758,936     Random House              Romance & Sagas  \n",
       "..          ...              ...                          ...  \n",
       "95      807,311     Random House   General & Literary Fiction  \n",
       "96      794,201          Penguin        Food & Drink: General  \n",
       "97      792,187  Scholastic Ltd.          Young Adult Fiction  \n",
       "98      791,507            Orion           Biography: General  \n",
       "99      791,095          Penguin        Food & Drink: General  \n",
       "\n",
       "[100 rows x 5 columns]"
      ]
     },
     "execution_count": 132,
     "metadata": {},
     "output_type": "execute_result"
    }
   ],
   "source": [
    "df = pd.DataFrame({'Book_name':Book_name,'Author_name':Author_name,'Volumes_sold':Volumes_sold,'Publisher':Publisher,'Genre':Genre})\n",
    "df"
   ]
  },
  {
   "cell_type": "code",
   "execution_count": 133,
   "id": "f4fd4814",
   "metadata": {},
   "outputs": [],
   "source": [
    "driver.close()"
   ]
  },
  {
   "cell_type": "markdown",
   "id": "b8af00f2",
   "metadata": {},
   "source": [
    "### Q8 Details of Datasets from UCI machine learning repositories. \n",
    "\n",
    "Url = https://archive.ics.uci.edu/ \n",
    "\n",
    "You have to find the following details: \n",
    "\n",
    "A) Dataset name \n",
    "\n",
    "B) Data type \n",
    "\n",
    "C) Task \n",
    "\n",
    "D) Attribute type \n",
    "\n",
    "E) No of instances \n",
    "\n",
    "F) No of attribute G) Year \n",
    "\n",
    "Note: - from the home page you have to go to the Show All Dataset page through code."
   ]
  },
  {
   "cell_type": "code",
   "execution_count": 152,
   "id": "032322c7",
   "metadata": {},
   "outputs": [],
   "source": [
    "driver = webdriver.Chrome()"
   ]
  },
  {
   "cell_type": "code",
   "execution_count": 153,
   "id": "7242d951",
   "metadata": {},
   "outputs": [],
   "source": [
    "driver.get('https://archive.ics.uci.edu/')"
   ]
  },
  {
   "cell_type": "code",
   "execution_count": 154,
   "id": "6cf90dca",
   "metadata": {},
   "outputs": [],
   "source": [
    "clicks = driver.find_element(By.XPATH,'/html/body/div/div[1]/div[1]/main/div/div[1]/div/div/div/a[1]')\n",
    "clicks.click()"
   ]
  },
  {
   "cell_type": "code",
   "execution_count": 161,
   "id": "e0c6c649",
   "metadata": {},
   "outputs": [],
   "source": [
    "links = []\n",
    "start = 0\n",
    "end = 10\n",
    "time.sleep(3)\n",
    "\n",
    "for page in range(start,end):\n",
    "    lnk = driver.find_elements(By.XPATH,'//a[@class=\"link-hover link text-xl font-semibold\"]')\n",
    "    for i in lnk:\n",
    "        links.append(i.get_attribute('href'))\n",
    "    \n",
    "    next_button = driver.find_element(By.XPATH,'//button[@class=\"btn-primary btn-sm btn\"][2]')\n",
    "    next_button.click()\n",
    "    time.sleep(3)\n",
    "    "
   ]
  },
  {
   "cell_type": "code",
   "execution_count": 182,
   "id": "6285fba9",
   "metadata": {},
   "outputs": [
    {
     "data": {
      "text/plain": [
       "100"
      ]
     },
     "execution_count": 182,
     "metadata": {},
     "output_type": "execute_result"
    }
   ],
   "source": [
    "len(links)"
   ]
  },
  {
   "cell_type": "code",
   "execution_count": 188,
   "id": "ab172a88",
   "metadata": {},
   "outputs": [],
   "source": [
    "Year = []\n",
    "\n",
    "for i in links:\n",
    "    driver.get(i)\n",
    "    time.sleep(5)\n",
    "    \n",
    "    yr = driver.find_elements(By.XPATH,'//h2[@class=\"text-sm text-primary-content\"]')\n",
    "    for i in yr:\n",
    "        Year.append(i.text)"
   ]
  },
  {
   "cell_type": "code",
   "execution_count": 156,
   "id": "8a0fbd2e",
   "metadata": {},
   "outputs": [],
   "source": [
    "Dataset_name = []\n",
    "Data_type = []\n",
    "Task = []\n",
    "No_of_instances = []\n",
    "start = 0\n",
    "end = 10\n",
    "\n",
    "for page in range(start,end):\n",
    "    name = driver.find_elements(By.XPATH,'//a[@class=\"link-hover link text-xl font-semibold\"]')\n",
    "    for i in name:\n",
    "        Dataset_name.append(i.text)\n",
    "        \n",
    "    types = driver.find_elements(By.XPATH,'//div[@class=\"col-span-3 flex items-center gap-2\"][2]/span')\n",
    "    for j in types:\n",
    "        if j.text is None:\n",
    "            Data_type.append('--')\n",
    "        else:\n",
    "            Data_type.append(j.text)\n",
    "        \n",
    "    tk = driver.find_elements(By.XPATH,'//div[@class=\"col-span-3 flex items-center gap-2\"][1]/span')    \n",
    "    for k in tk:\n",
    "        Task.append(k.text)\n",
    "        \n",
    "    instance = driver.find_elements(By.XPATH,'//div[@class=\"col-span-3 flex items-center gap-2\"][3]/span')\n",
    "    for l in instance:\n",
    "        if l.text is None:\n",
    "            No_of_instances.append('--')\n",
    "        else:\n",
    "            No_of_instances.append(l.text)   \n",
    "         \n",
    "    next_button = driver.find_element(By.XPATH,'//button[@class=\"btn-primary btn-sm btn\"][2]')\n",
    "    next_button.click()\n",
    "    time.sleep(8)\n",
    "    "
   ]
  },
  {
   "cell_type": "code",
   "execution_count": 181,
   "id": "b60d48dc",
   "metadata": {},
   "outputs": [],
   "source": [
    "No_of_attribute = []\n",
    "start = 0\n",
    "end = 10\n",
    "\n",
    "for page in range(start,end):\n",
    "    attr = driver.find_elements(By.XPATH,'//div[@class=\"col-span-3 flex items-center gap-2\"][4]/span')\n",
    "    for i in attr:\n",
    "        if i.text is None:\n",
    "            No_of_attribute.append('--')\n",
    "        else:\n",
    "            No_of_attribute.append(i.text)\n",
    "        \n",
    "    next_button = driver.find_element(By.XPATH,'//button[@class=\"btn-primary btn-sm btn\"][2]')\n",
    "    next_button.click()\n",
    "    time.sleep(6)"
   ]
  },
  {
   "cell_type": "code",
   "execution_count": 189,
   "id": "eaaa384c",
   "metadata": {},
   "outputs": [
    {
     "name": "stdout",
     "output_type": "stream",
     "text": [
      "93 ['Donated on 6/30/1988', 'Donated on 9/13/2020', 'Donated on 6/30/1988', 'Donated on 10/5/2019', 'Donated on 4/30/1996', 'Donated on 8/13/2023', 'Donated on 10/31/1995', 'Donated on 6/30/1991', 'Donated on 10/6/2009', 'Donated on 2/13/2012', 'Donated on 5/31/1997', 'Donated on 4/26/1987', 'Donated on 11/30/1995', 'Donated on 11/26/2014', 'Donated on 11/5/2015', 'Donated on 4/30/1996', 'Donated on 5/18/1987', 'Donated on 11/16/1994', 'Donated on 7/10/1988', 'Donated on 7/6/1993', 'Donated on 12/12/2021', 'Donated on 6/30/1999', 'Donated on 7/14/1992', 'Donated on 8/31/1987', 'Donated on 3/22/2016', 'Donated on 1/25/2016', 'Donated on 12/31/1986', 'Donated on 12/9/2012', 'Donated on 9/20/2019', 'Donated on 12/19/2013', 'Donated on 6/30/1998', 'Donated on 6/21/2012', 'Donated on 5/14/1990', 'Donated on 8/29/2012', 'Donated on 8/26/2019', 'Donated on 4/30/2007', 'Donated on 8/30/2018', 'Donated on 2/28/2008', 'Donated on 9/20/2019', 'Donated on 12/19/2013', 'Donated on 6/30/1998', 'Donated on 6/21/2012', 'Donated on 5/14/1990', 'Donated on 8/29/2012', 'Donated on 8/26/2019', 'Donated on 4/30/2007', 'Donated on 8/30/2018', 'Donated on 2/28/2008', 'Linked on 9/25/2023', 'Donated on 9/28/2012', 'Donated on 4/26/1987', 'Donated on 8/17/2018', 'Donated on 8/31/1996', 'Donated on 8/18/1991', 'Donated on 11/29/2012', 'Donated on 10/31/1990', 'Donated on 2/29/2020', 'Donated on 3/30/2014', 'Donated on 6/30/1998', 'Donated on 8/2/2007', 'Donated on 12/31/1997', 'Donated on 6/25/2008', 'Donated on 5/31/1997', 'Donated on 8/29/2020', 'Donated on 12/25/2019', 'Donated on 7/2/2015', 'Donated on 10/12/1999', 'Donated on 11/30/1995', 'Donated on 4/21/1994', 'Donated on 7/10/1988', 'Donated on 3/12/2015', 'Donated on 5/30/2015', 'Donated on 12/31/1997', 'Donated on 3/25/2015', 'Donated on 4/15/2013', 'Donated on 9/8/1999', 'Donated on 9/25/1997', 'Donated on 2/28/1989', 'Donated on 2/14/2017', 'Donated on 7/6/1999', 'Donated on 8/31/1996', 'Donated on 7/11/2020', 'Donated on 2/12/1993', 'Donated on 3/25/2014', 'Donated on 8/2/2020', 'Donated on 7/2/2000', 'Donated on 7/12/2009', 'Donated on 7/6/1997', 'Donated on 9/11/1994', 'Donated on 8/14/2023', 'Donated on 10/3/2018', 'Donated on 5/14/1990', 'Donated on 2/11/2014']\n"
     ]
    }
   ],
   "source": [
    "print(len(Year),Year)"
   ]
  },
  {
   "cell_type": "code",
   "execution_count": 183,
   "id": "f9a279c6",
   "metadata": {},
   "outputs": [
    {
     "name": "stdout",
     "output_type": "stream",
     "text": [
      "84 ['4 Features', '16 Features', '13 Features', '7 Features', '14 Features', '8 Features', '30 Features', '13 Features', '12 Features', '20 Features', '17 Features', '6 Features', '22 Features', '8 Features', '33 Features', '8 Features', '14 Features', '25 Features', '20 Features', '9 Features', '7 Features', '36 Features', '57 Features', '9 Features', '9 Features', '15 Features', '15 Features', '23 Features', '5 Features', '561 Features', '541.91K Features', '13 Features', '64 Features', '16 Features', '9 Features', '16 Features', '10 Features', '18 Features', '541.91K Features', '13 Features', '64 Features', '16 Features', '9 Features', '16 Features', '10 Features', '18 Features', '21 Features', '16 Features', '6 Features', '60 Features', '8 Features', '9 Features', '8 Features', '19 Features', '14 Features', '8 Features', '16 Features', '9 Features', '8 Features', '14 Features', '21 Features', '25 Features', '14 Features', '4 Features', '140.26K Features', '35 Features', '61 Features', '5 Features', '10 Features', '29 Features', '8 Features', '17 Features', '36 Features', '4 Features', '8 Features', '15 Features', '86 Features', '128 Features', '18 Features', '617 Features', '33 Features', '6 Features', '30 Features', '28 Features']\n"
     ]
    }
   ],
   "source": [
    "print(len(No_of_attribute),No_of_attribute)"
   ]
  },
  {
   "cell_type": "code",
   "execution_count": 157,
   "id": "9b1a0df0",
   "metadata": {},
   "outputs": [
    {
     "name": "stdout",
     "output_type": "stream",
     "text": [
      "100 ['Iris', 'Dry Bean', 'Heart Disease', 'Rice (Cammeo and Osmancik)', 'Adult', 'Raisin', 'Breast Cancer Wisconsin (Diagnostic)', 'Wine', 'Wine Quality', 'Diabetes', 'Bank Marketing', 'Car Evaluation', 'Mushroom', 'Abalone', 'Student Performance', 'Online Retail', 'Census Income', 'Automobile', 'Statlog (German Credit Data)', 'Breast Cancer', 'Bank Marketing', 'Car Evaluation', 'Mushroom', 'Abalone', 'Student Performance', 'Online Retail', 'Census Income', 'Automobile', 'Statlog (German Credit Data)', 'Breast Cancer', 'Online Retail II', 'Bike Sharing', 'Optical Recognition of Handwritten Digits', 'SMS Spam Collection', 'Zoo', 'Individual Household Electric Power Consumption', 'Estimation of Obesity Levels Based On Eating Habits and Physical Condition', 'MAGIC Gamma Telescope', 'Online Shoppers Purchasing Intention Dataset', 'Forest Fires', 'Lung Cancer', 'Covertype', 'Liver Disorders', 'Letter Recognition', 'Heart Failure Clinical Records', 'Diabetes 130-US Hospitals for Years 1999-2008', 'Ionosphere', 'Computer Hardware', 'Hepatitis', 'Internet Advertisements', 'CDC Diabetes Health Indicators', 'Seeds', 'Congressional Voting Records', 'Real Estate Valuation', 'Connectionist Bench (Sonar, Mines vs. Rocks)', 'Yeast', 'Tic-Tac-Toe Endgame', 'Energy Efficiency', 'Image Segmentation', 'Seoul Bike Sharing Demand', 'Wholesale customers', 'Pen-Based Recognition of Handwritten Digits', 'Concrete Compressive Strength', 'Arrhythmia', 'Parkinsons', 'Nursery', 'AI4I 2020 Predictive Maintenance Dataset', 'Apartment for Rent Classified', 'Chronic Kidney Disease', 'Statlog (Australian Credit Approval)', 'EEG Database', 'Breast Cancer Wisconsin (Prognostic)', 'Statlog (Heart)', 'Balance Scale', 'Soybean (Large)', 'ElectricityLoadDiagrams20112014', 'Online News Popularity', 'Dermatology', 'Phishing Websites', 'Banknote Authentication', 'Twenty Newsgroups', 'Reuters-21578 Text Categorization Collection', 'Solar Flare', 'Appliances Energy Prediction', 'Movie', 'Ecoli', 'Early Stage Diabetes Risk Prediction', 'Statlog (Landsat Satellite)', 'Combined Cycle Power Plant', 'Statlog (Shuttle)', 'Productivity Prediction of Garment Employees', 'Insurance Company Benchmark (COIL 2000)', 'Communities and Crime', 'Statlog (Vehicle Silhouettes)', 'Contraceptive Method Choice', 'ISOLET', 'Higher Education Students Performance Evaluation', 'Drug Reviews (Drugs.com)', 'Flags', 'HIGGS']\n"
     ]
    }
   ],
   "source": [
    "print(len(Dataset_name),Dataset_name)"
   ]
  },
  {
   "cell_type": "code",
   "execution_count": 158,
   "id": "fec58469",
   "metadata": {},
   "outputs": [
    {
     "name": "stdout",
     "output_type": "stream",
     "text": [
      "98 ['Tabular', 'Multivariate', 'Multivariate', 'Multivariate', 'Multivariate', 'Multivariate', 'Multivariate', 'Tabular', 'Multivariate', 'Multivariate, Time-Series', 'Multivariate', 'Multivariate', 'Multivariate', 'Tabular', 'Multivariate', 'Multivariate, Sequential, Time-Series', 'Multivariate', 'Multivariate', 'Multivariate', 'Multivariate', 'Multivariate', 'Multivariate', 'Multivariate', 'Tabular', 'Multivariate', 'Multivariate, Sequential, Time-Series', 'Multivariate', 'Multivariate', 'Multivariate', 'Multivariate', 'Multivariate, Sequential, Time-Series, Text', 'Multivariate', 'Multivariate', 'Multivariate, Text, Domain-Theory', 'Multivariate', 'Multivariate, Time-Series', 'Multivariate', 'Multivariate', 'Multivariate', 'Multivariate', 'Multivariate', 'Multivariate', 'Multivariate', 'Multivariate', 'Multivariate', 'Multivariate', 'Multivariate', 'Multivariate', 'Multivariate', 'Multivariate', 'Tabular, Multivariate', 'Multivariate', 'Multivariate', 'Multivariate', 'Multivariate', 'Multivariate', 'Multivariate', 'Multivariate', 'Multivariate', 'Multivariate', 'Multivariate', 'Multivariate', 'Multivariate', 'Multivariate', 'Multivariate', 'Multivariate', 'Multivariate, Time-Series', 'Multivariate', 'Multivariate', 'Multivariate', 'Multivariate, Time-Series', 'Multivariate', 'Multivariate', 'Multivariate', 'Multivariate', 'Time-Series', 'Multivariate', 'Multivariate', 'Tabular', 'Multivariate', 'Text', 'Multivariate', 'Multivariate, Time-Series', 'Multivariate', 'Multivariate', 'Multivariate', 'Multivariate', 'Multivariate', 'Multivariate, Time-Series', 'Multivariate', 'Multivariate', 'Multivariate', 'Multivariate', 'Multivariate', 'Multivariate', 'Multivariate, Text', 'Multivariate', 'null']\n"
     ]
    }
   ],
   "source": [
    "print(len(Data_type),Data_type)"
   ]
  },
  {
   "cell_type": "code",
   "execution_count": 159,
   "id": "5ec1adbc",
   "metadata": {},
   "outputs": [
    {
     "name": "stdout",
     "output_type": "stream",
     "text": [
      "100 ['Classification', 'Classification', 'Classification', 'Classification', 'Classification', 'Classification', 'Classification', 'Classification', 'Classification, Regression', 'Classification', 'Classification', 'Classification', 'Classification', 'Classification, Regression', 'Classification, Regression', 'Classification, Clustering', 'Classification', 'Regression', 'Classification', 'Classification', 'Classification', 'Classification', 'Classification', 'Classification, Regression', 'Classification, Regression', 'Classification, Clustering', 'Classification', 'Regression', 'Classification', 'Classification', 'Classification, Regression, Clustering', 'Regression', 'Classification', 'Classification, Clustering', 'Classification', 'Regression, Clustering', 'Classification, Regression, Clustering', 'Classification', 'Classification, Clustering', 'Regression', 'Classification', 'Classification', 'Regression', 'Classification', 'Classification, Regression, Clustering', 'Classification, Clustering', 'Classification', 'Regression', 'Classification', 'Classification', 'Classification', 'Classification, Clustering', 'Classification', 'Regression', 'Classification', 'Classification', 'Classification', 'Classification, Regression', 'Classification', 'Regression', 'Classification, Clustering', 'Classification', 'Regression', 'Classification', 'Classification', 'Classification', 'Classification, Regression, Causal-Discovery', 'Classification, Regression, Clustering', 'Classification', 'Classification', 'Classification', 'Classification, Regression', 'Classification', 'Classification', 'Classification', 'Regression, Clustering', 'Classification, Regression', 'Classification', 'Classification', 'Classification', '20K Instances', 'Classification', 'Regression', 'Regression', '10K Instances', 'Classification', 'Classification', 'Classification', 'Regression', 'Classification', 'Classification, Regression', 'Regression, Description', 'Regression', 'Classification', 'Classification', 'Classification', 'Classification', 'Classification, Regression, Clustering', 'Classification', 'Classification']\n"
     ]
    }
   ],
   "source": [
    "print(len(Task),Task)"
   ]
  },
  {
   "cell_type": "code",
   "execution_count": 160,
   "id": "dd68e252",
   "metadata": {},
   "outputs": [
    {
     "name": "stdout",
     "output_type": "stream",
     "text": [
      "98 ['150 Instances', '13.61K Instances', '303 Instances', '3.81K Instances', '48.84K Instances', '900 Instances', '569 Instances', '178 Instances', '4.9K Instances', '1 Instances', '45.21K Instances', '1.73K Instances', '8.12K Instances', '4.18K Instances', '649 Instances', '541.91K Instances', '48.84K Instances', '205 Instances', '1K Instances', '286 Instances', '45.21K Instances', '1.73K Instances', '8.12K Instances', '4.18K Instances', '649 Instances', '541.91K Instances', '48.84K Instances', '205 Instances', '1K Instances', '286 Instances', '1.07M Instances', '17.39K Instances', '5.62K Instances', '5.57K Instances', '101 Instances', '2.08M Instances', '2.11K Instances', '19.02K Instances', '12.33K Instances', '517 Instances', '32 Instances', '581.01K Instances', '345 Instances', '20K Instances', '299 Instances', '101.77K Instances', '351 Instances', '209 Instances', '155 Instances', '3.28K Instances', '253.68K Instances', '210 Instances', '435 Instances', '414 Instances', '208 Instances', '1.48K Instances', '958 Instances', '768 Instances', '2.31K Instances', '8.76K Instances', '440 Instances', '10.99K Instances', '1.03K Instances', '452 Instances', '197 Instances', '12.96K Instances', '10K Instances', '10K Instances', '400 Instances', '690 Instances', '122 Instances', '198 Instances', '270 Instances', '625 Instances', '307 Instances', '370 Instances', '39.8K Instances', '366 Instances', '11.06K Instances', '1.37K Instances', '21.58K Instances', '1.39K Instances', '19.74K Instances', '336 Instances', '520 Instances', '6.44K Instances', '9.57K Instances', '58K Instances', '1.2K Instances', '9K Instances', '1.99K Instances', '946 Instances', '1.47K Instances', '7.8K Instances', '145 Instances', '215.06K Instances', '194 Instances', '11M Instances']\n"
     ]
    }
   ],
   "source": [
    "print(len(No_of_instances),No_of_instances)"
   ]
  }
 ],
 "metadata": {
  "kernelspec": {
   "display_name": "Python 3 (ipykernel)",
   "language": "python",
   "name": "python3"
  },
  "language_info": {
   "codemirror_mode": {
    "name": "ipython",
    "version": 3
   },
   "file_extension": ".py",
   "mimetype": "text/x-python",
   "name": "python",
   "nbconvert_exporter": "python",
   "pygments_lexer": "ipython3",
   "version": "3.11.5"
  }
 },
 "nbformat": 4,
 "nbformat_minor": 5
}
