{
 "cells": [
  {
   "cell_type": "code",
   "execution_count": 2,
   "id": "ae58adde",
   "metadata": {},
   "outputs": [
    {
     "name": "stdout",
     "output_type": "stream",
     "text": [
      "Requirement already satisfied: selenium in c:\\users\\sumit garg\\anaconda3\\lib\\site-packages (4.18.1)\n",
      "Requirement already satisfied: urllib3[socks]<3,>=1.26 in c:\\users\\sumit garg\\anaconda3\\lib\\site-packages (from selenium) (1.26.16)\n",
      "Requirement already satisfied: trio~=0.17 in c:\\users\\sumit garg\\anaconda3\\lib\\site-packages (from selenium) (0.24.0)\n",
      "Requirement already satisfied: trio-websocket~=0.9 in c:\\users\\sumit garg\\anaconda3\\lib\\site-packages (from selenium) (0.11.1)\n",
      "Requirement already satisfied: certifi>=2021.10.8 in c:\\users\\sumit garg\\anaconda3\\lib\\site-packages (from selenium) (2023.5.7)\n",
      "Requirement already satisfied: typing_extensions>=4.9.0 in c:\\users\\sumit garg\\anaconda3\\lib\\site-packages (from selenium) (4.10.0)\n",
      "Requirement already satisfied: attrs>=20.1.0 in c:\\users\\sumit garg\\anaconda3\\lib\\site-packages (from trio~=0.17->selenium) (22.1.0)\n",
      "Requirement already satisfied: sortedcontainers in c:\\users\\sumit garg\\anaconda3\\lib\\site-packages (from trio~=0.17->selenium) (2.4.0)\n",
      "Requirement already satisfied: idna in c:\\users\\sumit garg\\anaconda3\\lib\\site-packages (from trio~=0.17->selenium) (3.4)\n",
      "Requirement already satisfied: outcome in c:\\users\\sumit garg\\anaconda3\\lib\\site-packages (from trio~=0.17->selenium) (1.3.0.post0)\n",
      "Requirement already satisfied: sniffio>=1.3.0 in c:\\users\\sumit garg\\anaconda3\\lib\\site-packages (from trio~=0.17->selenium) (1.3.1)\n",
      "Requirement already satisfied: cffi>=1.14 in c:\\users\\sumit garg\\anaconda3\\lib\\site-packages (from trio~=0.17->selenium) (1.15.1)\n",
      "Requirement already satisfied: wsproto>=0.14 in c:\\users\\sumit garg\\anaconda3\\lib\\site-packages (from trio-websocket~=0.9->selenium) (1.2.0)\n",
      "Requirement already satisfied: PySocks!=1.5.7,<2.0,>=1.5.6 in c:\\users\\sumit garg\\anaconda3\\lib\\site-packages (from urllib3[socks]<3,>=1.26->selenium) (1.7.1)\n",
      "Requirement already satisfied: pycparser in c:\\users\\sumit garg\\anaconda3\\lib\\site-packages (from cffi>=1.14->trio~=0.17->selenium) (2.21)\n",
      "Requirement already satisfied: h11<1,>=0.9.0 in c:\\users\\sumit garg\\anaconda3\\lib\\site-packages (from wsproto>=0.14->trio-websocket~=0.9->selenium) (0.14.0)\n"
     ]
    }
   ],
   "source": [
    "!pip install selenium"
   ]
  },
  {
   "cell_type": "code",
   "execution_count": 29,
   "id": "300681eb",
   "metadata": {},
   "outputs": [],
   "source": [
    "import selenium \n",
    "from selenium import webdriver\n",
    "import warnings\n",
    "warnings.filterwarnings('ignore')\n",
    "import pandas as pd\n",
    "from selenium.webdriver.common.by import By  \n",
    "import time"
   ]
  },
  {
   "cell_type": "markdown",
   "id": "c829ce6b",
   "metadata": {},
   "source": [
    "### Q1: Write a python program to scrape data for “Data Analyst” Job position in “Bangalore” location.\n",
    "You have to scrape the job-title, job-location, company_name, experience_required. You have to scrape first 10 jobs data.\n",
    "\n",
    "link = https://www.shine.com/"
   ]
  },
  {
   "cell_type": "code",
   "execution_count": 30,
   "id": "6250becd",
   "metadata": {},
   "outputs": [],
   "source": [
    "driver = webdriver.Chrome()"
   ]
  },
  {
   "cell_type": "code",
   "execution_count": 31,
   "id": "478584c3",
   "metadata": {},
   "outputs": [],
   "source": [
    "driver.get('https://www.shine.com/')"
   ]
  },
  {
   "cell_type": "code",
   "execution_count": 32,
   "id": "b9bacfde",
   "metadata": {},
   "outputs": [],
   "source": [
    "designation = driver.find_element(By.CLASS_NAME,'input')\n",
    "designation.send_keys('data analyst')"
   ]
  },
  {
   "cell_type": "code",
   "execution_count": 33,
   "id": "1af90ffd",
   "metadata": {},
   "outputs": [],
   "source": [
    "search = driver.find_element(By.CLASS_NAME,'iconH-zoom-white')\n",
    "search.click()"
   ]
  },
  {
   "cell_type": "code",
   "execution_count": 34,
   "id": "06d6cc2d",
   "metadata": {},
   "outputs": [],
   "source": [
    "designation = driver.find_element(By.CLASS_NAME,'form-control')\n",
    "designation.send_keys('data analyst')"
   ]
  },
  {
   "cell_type": "code",
   "execution_count": 35,
   "id": "f70ddc8c",
   "metadata": {},
   "outputs": [],
   "source": [
    "location = driver.find_element(By.XPATH,'//li[@class=\"searchForm_search_item__hr6Du form-group\"][1]/div/input')\n",
    "location.send_keys('Bangalore')"
   ]
  },
  {
   "cell_type": "code",
   "execution_count": 39,
   "id": "3ce39d62",
   "metadata": {},
   "outputs": [],
   "source": [
    "search = driver.find_element(By.CLASS_NAME,\"searchForm_btnWrap_advance__VYBHN\")\n",
    "search.click()"
   ]
  },
  {
   "cell_type": "code",
   "execution_count": 40,
   "id": "8b9aa963",
   "metadata": {},
   "outputs": [],
   "source": [
    "job_title = []\n",
    "title_tag = driver.find_elements(By.XPATH,'/html/body/div[1]/div[2]/div[4]/div/div[2]/div[1]/div/div/div[1]/div[1]/div[1]/h2')\n",
    "for i in title_tag:\n",
    "    title = i.text\n",
    "    job_title.append(title)"
   ]
  },
  {
   "cell_type": "code",
   "execution_count": 41,
   "id": "3d19e3b3",
   "metadata": {},
   "outputs": [
    {
     "data": {
      "text/plain": [
       "['Clinical Data Analyst']"
      ]
     },
     "execution_count": 41,
     "metadata": {},
     "output_type": "execute_result"
    }
   ],
   "source": [
    "job_title"
   ]
  },
  {
   "cell_type": "code",
   "execution_count": 42,
   "id": "34052017",
   "metadata": {},
   "outputs": [],
   "source": [
    "company_name = []\n",
    "name = driver.find_elements(By.XPATH,'//div[@class=\"jobCard_jobCard_cName__mYnow\"]/span')\n",
    "for i in name[0:10]:\n",
    "    title = i.text\n",
    "    company_name.append(title)"
   ]
  },
  {
   "cell_type": "code",
   "execution_count": 43,
   "id": "1506a391",
   "metadata": {},
   "outputs": [
    {
     "data": {
      "text/plain": [
       "['techno endura',\n",
       " 'sahast sales corporation',\n",
       " 'radhika enterprises',\n",
       " 'ara resources private limited',\n",
       " 'diraa hr services hiring for mncs',\n",
       " 'uprighthc solutions private limited',\n",
       " 'symphoni hr pvt. ltd.',\n",
       " 'spm hr solutions',\n",
       " 'techno endura',\n",
       " 'aspect solution']"
      ]
     },
     "execution_count": 43,
     "metadata": {},
     "output_type": "execute_result"
    }
   ],
   "source": [
    "company_name"
   ]
  },
  {
   "cell_type": "code",
   "execution_count": 44,
   "id": "a003b0f6",
   "metadata": {},
   "outputs": [],
   "source": [
    "Experience_req = []\n",
    "name = driver.find_elements(By.XPATH,'//div[@class=\"jobCard_jobCard_lists__fdnsc\"]/div[1]')\n",
    "for i in name[0:10]:\n",
    "    title = i.text\n",
    "    Experience_req.append(title)"
   ]
  },
  {
   "cell_type": "code",
   "execution_count": 45,
   "id": "a7791520",
   "metadata": {},
   "outputs": [
    {
     "data": {
      "text/plain": [
       "['0 to 1 Yr',\n",
       " '12 to 22 Yrs',\n",
       " '0 to 4 Yrs',\n",
       " '4 to 9 Yrs',\n",
       " '0 to 1 Yr',\n",
       " '10 to 20 Yrs',\n",
       " '8 to 10 Yrs',\n",
       " '4 to 6 Yrs',\n",
       " '0 to 1 Yr',\n",
       " '0 to 1 Yr']"
      ]
     },
     "execution_count": 45,
     "metadata": {},
     "output_type": "execute_result"
    }
   ],
   "source": [
    "Experience_req"
   ]
  },
  {
   "cell_type": "code",
   "execution_count": 46,
   "id": "57c36d0d",
   "metadata": {},
   "outputs": [],
   "source": [
    "job_location = []\n",
    "location = driver.find_elements(By.XPATH,'//div[@class=\"jobCard_jobCard_lists__fdnsc\"]/div[2]')\n",
    "for i in location[0:10]:\n",
    "    title = i.text.replace('\\n','')\n",
    "    job_location.append(title)"
   ]
  },
  {
   "cell_type": "code",
   "execution_count": 47,
   "id": "bfd3b73c",
   "metadata": {},
   "outputs": [
    {
     "data": {
      "text/plain": [
       "['Bangalore+6',\n",
       " 'Bangalore+9',\n",
       " 'Bangalore+12',\n",
       " 'Bangalore',\n",
       " 'Bangalore+3',\n",
       " 'Bangalore',\n",
       " 'Bangalore+4',\n",
       " 'Bangalore',\n",
       " 'Bangalore+6',\n",
       " 'Bangalore+9']"
      ]
     },
     "execution_count": 47,
     "metadata": {},
     "output_type": "execute_result"
    }
   ],
   "source": [
    "job_location"
   ]
  },
  {
   "cell_type": "code",
   "execution_count": 48,
   "id": "ec655a80",
   "metadata": {},
   "outputs": [
    {
     "data": {
      "text/html": [
       "<div>\n",
       "<style scoped>\n",
       "    .dataframe tbody tr th:only-of-type {\n",
       "        vertical-align: middle;\n",
       "    }\n",
       "\n",
       "    .dataframe tbody tr th {\n",
       "        vertical-align: top;\n",
       "    }\n",
       "\n",
       "    .dataframe thead th {\n",
       "        text-align: right;\n",
       "    }\n",
       "</style>\n",
       "<table border=\"1\" class=\"dataframe\">\n",
       "  <thead>\n",
       "    <tr style=\"text-align: right;\">\n",
       "      <th></th>\n",
       "      <th>company_name</th>\n",
       "      <th>Experience_req</th>\n",
       "      <th>job_location</th>\n",
       "    </tr>\n",
       "  </thead>\n",
       "  <tbody>\n",
       "    <tr>\n",
       "      <th>0</th>\n",
       "      <td>techno endura</td>\n",
       "      <td>0 to 1 Yr</td>\n",
       "      <td>Bangalore+6</td>\n",
       "    </tr>\n",
       "    <tr>\n",
       "      <th>1</th>\n",
       "      <td>sahast sales corporation</td>\n",
       "      <td>12 to 22 Yrs</td>\n",
       "      <td>Bangalore+9</td>\n",
       "    </tr>\n",
       "    <tr>\n",
       "      <th>2</th>\n",
       "      <td>radhika enterprises</td>\n",
       "      <td>0 to 4 Yrs</td>\n",
       "      <td>Bangalore+12</td>\n",
       "    </tr>\n",
       "    <tr>\n",
       "      <th>3</th>\n",
       "      <td>ara resources private limited</td>\n",
       "      <td>4 to 9 Yrs</td>\n",
       "      <td>Bangalore</td>\n",
       "    </tr>\n",
       "    <tr>\n",
       "      <th>4</th>\n",
       "      <td>diraa hr services hiring for mncs</td>\n",
       "      <td>0 to 1 Yr</td>\n",
       "      <td>Bangalore+3</td>\n",
       "    </tr>\n",
       "    <tr>\n",
       "      <th>5</th>\n",
       "      <td>uprighthc solutions private limited</td>\n",
       "      <td>10 to 20 Yrs</td>\n",
       "      <td>Bangalore</td>\n",
       "    </tr>\n",
       "    <tr>\n",
       "      <th>6</th>\n",
       "      <td>symphoni hr pvt. ltd.</td>\n",
       "      <td>8 to 10 Yrs</td>\n",
       "      <td>Bangalore+4</td>\n",
       "    </tr>\n",
       "    <tr>\n",
       "      <th>7</th>\n",
       "      <td>spm hr solutions</td>\n",
       "      <td>4 to 6 Yrs</td>\n",
       "      <td>Bangalore</td>\n",
       "    </tr>\n",
       "    <tr>\n",
       "      <th>8</th>\n",
       "      <td>techno endura</td>\n",
       "      <td>0 to 1 Yr</td>\n",
       "      <td>Bangalore+6</td>\n",
       "    </tr>\n",
       "    <tr>\n",
       "      <th>9</th>\n",
       "      <td>aspect solution</td>\n",
       "      <td>0 to 1 Yr</td>\n",
       "      <td>Bangalore+9</td>\n",
       "    </tr>\n",
       "  </tbody>\n",
       "</table>\n",
       "</div>"
      ],
      "text/plain": [
       "                          company_name Experience_req  job_location\n",
       "0                        techno endura      0 to 1 Yr   Bangalore+6\n",
       "1             sahast sales corporation   12 to 22 Yrs   Bangalore+9\n",
       "2                  radhika enterprises     0 to 4 Yrs  Bangalore+12\n",
       "3        ara resources private limited     4 to 9 Yrs     Bangalore\n",
       "4    diraa hr services hiring for mncs      0 to 1 Yr   Bangalore+3\n",
       "5  uprighthc solutions private limited   10 to 20 Yrs     Bangalore\n",
       "6                symphoni hr pvt. ltd.    8 to 10 Yrs   Bangalore+4\n",
       "7                     spm hr solutions     4 to 6 Yrs     Bangalore\n",
       "8                        techno endura      0 to 1 Yr   Bangalore+6\n",
       "9                      aspect solution      0 to 1 Yr   Bangalore+9"
      ]
     },
     "execution_count": 48,
     "metadata": {},
     "output_type": "execute_result"
    }
   ],
   "source": [
    "df4 = pd.DataFrame({'company_name':company_name,'Experience_req':Experience_req,'job_location':job_location})\n",
    "df4"
   ]
  },
  {
   "cell_type": "markdown",
   "id": "bb30eba6",
   "metadata": {},
   "source": [
    "### 2: Write a python program to scrape data for “Data Analyst” Job position in “Bangalore” location.\n",
    "link = https://www.naukri.com/\n",
    "\n",
    "You have to scrape the job-title, job-location, company_name, experience_required. You have to scrape first 10 jobs data."
   ]
  },
  {
   "cell_type": "code",
   "execution_count": 61,
   "id": "df69967d",
   "metadata": {},
   "outputs": [],
   "source": [
    "driver = webdriver.Chrome()"
   ]
  },
  {
   "cell_type": "code",
   "execution_count": 62,
   "id": "714f5e98",
   "metadata": {},
   "outputs": [],
   "source": [
    "driver.get('https://www.naukri.com/')"
   ]
  },
  {
   "cell_type": "code",
   "execution_count": 63,
   "id": "d501e19b",
   "metadata": {},
   "outputs": [],
   "source": [
    "designation = driver.find_element(By.CLASS_NAME,'suggestor-input')\n",
    "designation.send_keys('data analyst')"
   ]
  },
  {
   "cell_type": "code",
   "execution_count": 64,
   "id": "9e560d7d",
   "metadata": {},
   "outputs": [],
   "source": [
    "location = driver.find_element(By.XPATH,'/html/body/div[1]/div[7]/div/div/div[5]/div/div/div/div[1]/div/input')\n",
    "location.send_keys('Bangalore')"
   ]
  },
  {
   "cell_type": "code",
   "execution_count": 65,
   "id": "c2c68c97",
   "metadata": {},
   "outputs": [],
   "source": [
    "search= driver.find_element(By.CLASS_NAME,'qsbSubmit')\n",
    "search.click()"
   ]
  },
  {
   "cell_type": "code",
   "execution_count": 66,
   "id": "ec846b7b",
   "metadata": {},
   "outputs": [],
   "source": [
    "job_title = []"
   ]
  },
  {
   "cell_type": "code",
   "execution_count": 67,
   "id": "899fae8a",
   "metadata": {},
   "outputs": [],
   "source": [
    "title_tag = driver.find_elements(By.XPATH,'//div[@class=\"cust-job-tuple layout-wrapper lay-2 sjw__tuple \"]/div/a')\n",
    "for i in title_tag[0:10]:\n",
    "    title = i.text\n",
    "    job_title.append(title)"
   ]
  },
  {
   "cell_type": "code",
   "execution_count": 68,
   "id": "55c8406d",
   "metadata": {},
   "outputs": [
    {
     "data": {
      "text/plain": [
       "['Data Analyst',\n",
       " 'Data Analyst',\n",
       " 'Data Analyst',\n",
       " 'Data Analyst',\n",
       " 'Data Analyst',\n",
       " 'Job opportunity _ Data Analyst',\n",
       " 'Data Sourcing & Triage Analyst',\n",
       " 'Online Data Analyst',\n",
       " 'Data Analyst',\n",
       " 'Data Services Analyst III']"
      ]
     },
     "execution_count": 68,
     "metadata": {},
     "output_type": "execute_result"
    }
   ],
   "source": [
    "job_title"
   ]
  },
  {
   "cell_type": "code",
   "execution_count": 70,
   "id": "99eb02f5",
   "metadata": {},
   "outputs": [
    {
     "data": {
      "text/plain": [
       "['Bengaluru',\n",
       " 'Mumbai, Bengaluru',\n",
       " 'Remote',\n",
       " 'Hybrid - Bangalore Rural, Karnataka, Hyderabad, Telangana, Chennai, Tamil Nadu',\n",
       " 'Bengaluru(4th Phase JP Nagar)',\n",
       " 'Bangalore Rural, Karnataka, Hyderabad, Telangana, India',\n",
       " 'Bengaluru',\n",
       " 'Kolkata, Mumbai, New Delhi, Hyderabad, Pune, Chennai, Bengaluru',\n",
       " 'Hyderabad, Bengaluru, Delhi / NCR',\n",
       " 'Bengaluru']"
      ]
     },
     "execution_count": 70,
     "metadata": {},
     "output_type": "execute_result"
    }
   ],
   "source": [
    "job_location = []\n",
    "location = driver.find_elements(By.XPATH,'//span[@class=\"locWdth\"]')\n",
    "for j in location[0:10]:\n",
    "    locate = j.text\n",
    "    job_location.append(locate)\n",
    "job_location"
   ]
  },
  {
   "cell_type": "code",
   "execution_count": 73,
   "id": "c1cc923f",
   "metadata": {},
   "outputs": [
    {
     "data": {
      "text/plain": [
       "['Target',\n",
       " 'FedEx TSCS (India) Pvt Ltd',\n",
       " 'Puresoftware',\n",
       " 'Tsit Digital Technologies',\n",
       " 'Objectwin Technology',\n",
       " 'Talent Sketchers',\n",
       " 'Janes',\n",
       " 'TELUS International',\n",
       " 'Incanus Technologies',\n",
       " 'Zoom Info']"
      ]
     },
     "execution_count": 73,
     "metadata": {},
     "output_type": "execute_result"
    }
   ],
   "source": [
    "company_name = []\n",
    "company_tag = driver.find_elements(By.XPATH,'//div[@class=\" row2\"]/span/a[1]')\n",
    "for k in company_tag[0:10]:\n",
    "    company_name.append(k.text)\n",
    "company_name"
   ]
  },
  {
   "cell_type": "code",
   "execution_count": 74,
   "id": "5a4ba364",
   "metadata": {},
   "outputs": [
    {
     "data": {
      "text/plain": [
       "['2-4 Yrs',\n",
       " '1-4 Yrs',\n",
       " '5-10 Yrs',\n",
       " '5-10 Yrs',\n",
       " '1-5 Yrs',\n",
       " '6-10 Yrs',\n",
       " '0-3 Yrs',\n",
       " '1-4 Yrs',\n",
       " '0-5 Yrs',\n",
       " '4-8 Yrs']"
      ]
     },
     "execution_count": 74,
     "metadata": {},
     "output_type": "execute_result"
    }
   ],
   "source": [
    "experience_required = []\n",
    "experience_tag = driver.find_elements(By.XPATH,'//span[@class=\"expwdth\"]')\n",
    "for l in experience_tag[0:10]:\n",
    "    exp = l.text\n",
    "    experience_required.append(exp)\n",
    "experience_required"
   ]
  },
  {
   "cell_type": "code",
   "execution_count": 75,
   "id": "c417992a",
   "metadata": {},
   "outputs": [
    {
     "name": "stdout",
     "output_type": "stream",
     "text": [
      "10 10 10 10\n"
     ]
    }
   ],
   "source": [
    "print(len(job_title),len(job_location),len(company_name),len(experience_required))"
   ]
  },
  {
   "cell_type": "code",
   "execution_count": 76,
   "id": "bbf27347",
   "metadata": {},
   "outputs": [
    {
     "data": {
      "text/html": [
       "<div>\n",
       "<style scoped>\n",
       "    .dataframe tbody tr th:only-of-type {\n",
       "        vertical-align: middle;\n",
       "    }\n",
       "\n",
       "    .dataframe tbody tr th {\n",
       "        vertical-align: top;\n",
       "    }\n",
       "\n",
       "    .dataframe thead th {\n",
       "        text-align: right;\n",
       "    }\n",
       "</style>\n",
       "<table border=\"1\" class=\"dataframe\">\n",
       "  <thead>\n",
       "    <tr style=\"text-align: right;\">\n",
       "      <th></th>\n",
       "      <th>job_title</th>\n",
       "      <th>job_location</th>\n",
       "      <th>company_name</th>\n",
       "      <th>experience_required</th>\n",
       "    </tr>\n",
       "  </thead>\n",
       "  <tbody>\n",
       "    <tr>\n",
       "      <th>0</th>\n",
       "      <td>Data Analyst</td>\n",
       "      <td>Bengaluru</td>\n",
       "      <td>Target</td>\n",
       "      <td>2-4 Yrs</td>\n",
       "    </tr>\n",
       "    <tr>\n",
       "      <th>1</th>\n",
       "      <td>Data Analyst</td>\n",
       "      <td>Mumbai, Bengaluru</td>\n",
       "      <td>FedEx TSCS (India) Pvt Ltd</td>\n",
       "      <td>1-4 Yrs</td>\n",
       "    </tr>\n",
       "    <tr>\n",
       "      <th>2</th>\n",
       "      <td>Data Analyst</td>\n",
       "      <td>Remote</td>\n",
       "      <td>Puresoftware</td>\n",
       "      <td>5-10 Yrs</td>\n",
       "    </tr>\n",
       "    <tr>\n",
       "      <th>3</th>\n",
       "      <td>Data Analyst</td>\n",
       "      <td>Hybrid - Bangalore Rural, Karnataka, Hyderabad...</td>\n",
       "      <td>Tsit Digital Technologies</td>\n",
       "      <td>5-10 Yrs</td>\n",
       "    </tr>\n",
       "    <tr>\n",
       "      <th>4</th>\n",
       "      <td>Data Analyst</td>\n",
       "      <td>Bengaluru(4th Phase JP Nagar)</td>\n",
       "      <td>Objectwin Technology</td>\n",
       "      <td>1-5 Yrs</td>\n",
       "    </tr>\n",
       "    <tr>\n",
       "      <th>5</th>\n",
       "      <td>Job opportunity _ Data Analyst</td>\n",
       "      <td>Bangalore Rural, Karnataka, Hyderabad, Telanga...</td>\n",
       "      <td>Talent Sketchers</td>\n",
       "      <td>6-10 Yrs</td>\n",
       "    </tr>\n",
       "    <tr>\n",
       "      <th>6</th>\n",
       "      <td>Data Sourcing &amp; Triage Analyst</td>\n",
       "      <td>Bengaluru</td>\n",
       "      <td>Janes</td>\n",
       "      <td>0-3 Yrs</td>\n",
       "    </tr>\n",
       "    <tr>\n",
       "      <th>7</th>\n",
       "      <td>Online Data Analyst</td>\n",
       "      <td>Kolkata, Mumbai, New Delhi, Hyderabad, Pune, C...</td>\n",
       "      <td>TELUS International</td>\n",
       "      <td>1-4 Yrs</td>\n",
       "    </tr>\n",
       "    <tr>\n",
       "      <th>8</th>\n",
       "      <td>Data Analyst</td>\n",
       "      <td>Hyderabad, Bengaluru, Delhi / NCR</td>\n",
       "      <td>Incanus Technologies</td>\n",
       "      <td>0-5 Yrs</td>\n",
       "    </tr>\n",
       "    <tr>\n",
       "      <th>9</th>\n",
       "      <td>Data Services Analyst III</td>\n",
       "      <td>Bengaluru</td>\n",
       "      <td>Zoom Info</td>\n",
       "      <td>4-8 Yrs</td>\n",
       "    </tr>\n",
       "  </tbody>\n",
       "</table>\n",
       "</div>"
      ],
      "text/plain": [
       "                        job_title  \\\n",
       "0                    Data Analyst   \n",
       "1                    Data Analyst   \n",
       "2                    Data Analyst   \n",
       "3                    Data Analyst   \n",
       "4                    Data Analyst   \n",
       "5  Job opportunity _ Data Analyst   \n",
       "6  Data Sourcing & Triage Analyst   \n",
       "7             Online Data Analyst   \n",
       "8                    Data Analyst   \n",
       "9       Data Services Analyst III   \n",
       "\n",
       "                                        job_location  \\\n",
       "0                                          Bengaluru   \n",
       "1                                  Mumbai, Bengaluru   \n",
       "2                                             Remote   \n",
       "3  Hybrid - Bangalore Rural, Karnataka, Hyderabad...   \n",
       "4                      Bengaluru(4th Phase JP Nagar)   \n",
       "5  Bangalore Rural, Karnataka, Hyderabad, Telanga...   \n",
       "6                                          Bengaluru   \n",
       "7  Kolkata, Mumbai, New Delhi, Hyderabad, Pune, C...   \n",
       "8                  Hyderabad, Bengaluru, Delhi / NCR   \n",
       "9                                          Bengaluru   \n",
       "\n",
       "                 company_name experience_required  \n",
       "0                      Target             2-4 Yrs  \n",
       "1  FedEx TSCS (India) Pvt Ltd             1-4 Yrs  \n",
       "2                Puresoftware            5-10 Yrs  \n",
       "3   Tsit Digital Technologies            5-10 Yrs  \n",
       "4        Objectwin Technology             1-5 Yrs  \n",
       "5            Talent Sketchers            6-10 Yrs  \n",
       "6                       Janes             0-3 Yrs  \n",
       "7         TELUS International             1-4 Yrs  \n",
       "8        Incanus Technologies             0-5 Yrs  \n",
       "9                   Zoom Info             4-8 Yrs  "
      ]
     },
     "execution_count": 76,
     "metadata": {},
     "output_type": "execute_result"
    }
   ],
   "source": [
    "df = pd.DataFrame({'job_title':job_title,'job_location':job_location,'company_name':company_name,'experience_required':experience_required})\n",
    "df"
   ]
  },
  {
   "cell_type": "markdown",
   "id": "2808efc4",
   "metadata": {},
   "source": [
    "### Q3: Scrape data of first 100 sunglasses listings on flipkart.com. You have to scrape four attributes:\n",
    "1. Brand\n",
    "2. ProductDescription\n",
    "3. Price"
   ]
  },
  {
   "cell_type": "code",
   "execution_count": 78,
   "id": "3b341d56",
   "metadata": {},
   "outputs": [],
   "source": [
    "import selenium \n",
    "from selenium import webdriver\n",
    "import pandas as pd\n",
    "import warnings\n",
    "warnings.filterwarnings('ignore')\n",
    "from selenium.webdriver.common.by import By   \n",
    "import time"
   ]
  },
  {
   "cell_type": "code",
   "execution_count": 95,
   "id": "275a3156",
   "metadata": {},
   "outputs": [],
   "source": [
    "driver = webdriver.Chrome()"
   ]
  },
  {
   "cell_type": "code",
   "execution_count": 96,
   "id": "66119244",
   "metadata": {},
   "outputs": [],
   "source": [
    "driver.get('https://www.flipkart.com/')"
   ]
  },
  {
   "cell_type": "code",
   "execution_count": 97,
   "id": "4be379c5",
   "metadata": {},
   "outputs": [],
   "source": [
    "keyword = driver.find_element(By.CLASS_NAME,\"Pke_EE\")\n",
    "keyword.send_keys('sunglasses')"
   ]
  },
  {
   "cell_type": "code",
   "execution_count": 98,
   "id": "c26029a7",
   "metadata": {},
   "outputs": [],
   "source": [
    "searches = driver.find_element(By.CLASS_NAME,'_2iLD__')\n",
    "searches.click()"
   ]
  },
  {
   "cell_type": "code",
   "execution_count": 99,
   "id": "ec0bbe3b",
   "metadata": {},
   "outputs": [],
   "source": [
    "Brands = []\n",
    "brand = driver.find_elements(By.CLASS_NAME,\"_2WkVRV\")\n",
    "for i in brand:\n",
    "    Brands.append(i.text)"
   ]
  },
  {
   "cell_type": "code",
   "execution_count": 100,
   "id": "57e5ee9a",
   "metadata": {},
   "outputs": [
    {
     "data": {
      "text/plain": [
       "['VINCENT CHASE',\n",
       " 'VINCENT CHASE',\n",
       " 'Elligator',\n",
       " 'ROADWAY',\n",
       " 'Elligator',\n",
       " 'Fastrack',\n",
       " 'Aarna Fashion',\n",
       " 'VINCENT CHASE',\n",
       " 'ROADWAY',\n",
       " 'Elligator',\n",
       " 'VINCENT CHASE',\n",
       " 'ROZZETTA CRAFT',\n",
       " 'PIRASO',\n",
       " 'SPORT COLLECTION',\n",
       " 'Hooper',\n",
       " 'PIRASO',\n",
       " 'VINCENT CHASE',\n",
       " 'Lenskart STUDIO',\n",
       " 'Woggles',\n",
       " 'VINCENT CHASE',\n",
       " 'Eyenaks',\n",
       " 'Lenskart STUDIO',\n",
       " 'Elligator',\n",
       " 'VINCENT CHASE',\n",
       " 'VINCENT CHASE',\n",
       " 'DEIXELS',\n",
       " 'Eyewearlabs',\n",
       " 'Eyewearlabs',\n",
       " 'Aarna Fashion',\n",
       " 'ROADWAY',\n",
       " 'VINCENT CHASE',\n",
       " 'VINCENT CHASE',\n",
       " 'hipe',\n",
       " 'Fastrack',\n",
       " 'GOOD FRIENDS',\n",
       " 'VINCENT CHASE',\n",
       " 'VINCENT CHASE',\n",
       " 'ROYAL SON',\n",
       " 'PIRASO',\n",
       " 'VINCENT CHASE']"
      ]
     },
     "execution_count": 100,
     "metadata": {},
     "output_type": "execute_result"
    }
   ],
   "source": [
    "Brands"
   ]
  },
  {
   "cell_type": "code",
   "execution_count": 101,
   "id": "543a07fd",
   "metadata": {},
   "outputs": [],
   "source": [
    "Product_description = []\n",
    "product = driver.find_elements(By.CLASS_NAME,\"IRpwTa\")\n",
    "for j in product:\n",
    "    Product_description.append(j.text)"
   ]
  },
  {
   "cell_type": "code",
   "execution_count": 102,
   "id": "f37a26b9",
   "metadata": {},
   "outputs": [
    {
     "data": {
      "text/plain": [
       "['by Lenskart Polarized, UV Protection Aviator Sunglasses...',\n",
       " 'by Lenskart Polarized, UV Protection Round Sunglasses (...',\n",
       " 'UV Protection, Mirrored Wayfarer Sunglasses (52)',\n",
       " 'UV Protection Retro Square Sunglasses (Free Size)',\n",
       " 'UV Protection Wayfarer Sunglasses (53)',\n",
       " 'Gradient, UV Protection Wayfarer Sunglasses (Free Size)',\n",
       " 'UV Protection Retro Square Sunglasses (50)',\n",
       " 'by Lenskart UV Protection Wayfarer Sunglasses (59)',\n",
       " 'UV Protection Wayfarer, Sports, Spectacle , Retro Squar...',\n",
       " 'UV Protection Wayfarer Sunglasses (50)',\n",
       " 'by Lenskart Polarized, UV Protection Round Sunglasses (...',\n",
       " 'UV Protection, Gradient Round Sunglasses (Free Size)',\n",
       " 'UV Protection Over-sized Sunglasses (60)',\n",
       " 'Polarized Aviator Sunglasses (Free Size)',\n",
       " 'UV Protection Wayfarer Sunglasses (45)',\n",
       " 'UV Protection Aviator Sunglasses (54)',\n",
       " 'by Lenskart UV Protection Clubmaster Sunglasses (55)',\n",
       " 'UV Protection Rectangular Sunglasses (52)',\n",
       " 'Polarized Cat-eye Sunglasses (Free Size)',\n",
       " 'by Lenskart Polarized, UV Protection Wayfarer Sunglasse...',\n",
       " 'UV Protection Rectangular Sunglasses (Free Size)',\n",
       " 'Polarized, UV Protection Rectangular Sunglasses (54)',\n",
       " 'UV Protection Wayfarer Sunglasses (52)',\n",
       " 'by Lenskart Polarized, UV Protection Round Sunglasses (...',\n",
       " 'by Lenskart UV Protection Clubmaster Sunglasses (55)',\n",
       " 'Polarized, UV Protection, Riding Glasses Wayfarer Sungl...',\n",
       " 'Polarized, UV Protection Wayfarer Sunglasses (51)',\n",
       " 'Polarized, UV Protection Rectangular Sunglasses (65)',\n",
       " 'UV Protection Aviator Sunglasses (50)',\n",
       " 'UV Protection Retro Square, Wayfarer, Sports Sunglasses...',\n",
       " 'by Lenskart Polarized, UV Protection Cat-eye Sunglasses...',\n",
       " 'by Lenskart Polarized, UV Protection Retro Square Sungl...',\n",
       " 'UV Protection, Riding Glasses, Gradient Wrap-around, Sp...',\n",
       " 'UV Protection Wayfarer Sunglasses (Free Size)',\n",
       " 'Polarized Aviator Sunglasses (Free Size)',\n",
       " 'by Lenskart Polarized, UV Protection Wayfarer Sunglasse...',\n",
       " 'by Lenskart Polarized, UV Protection Wayfarer Sunglasse...',\n",
       " 'Mirrored Aviator Sunglasses (58)',\n",
       " 'UV Protection Butterfly Sunglasses (60)',\n",
       " 'by Lenskart Polarized, UV Protection Round Sunglasses (...']"
      ]
     },
     "execution_count": 102,
     "metadata": {},
     "output_type": "execute_result"
    }
   ],
   "source": [
    "Product_description"
   ]
  },
  {
   "cell_type": "code",
   "execution_count": 103,
   "id": "cef5c2df",
   "metadata": {},
   "outputs": [],
   "source": [
    "price  = []\n",
    "price_product= driver.find_elements(By.XPATH,'//div[@class=\"_30jeq3\"]')\n",
    "for k in price_product:\n",
    "    price.append(k.text)"
   ]
  },
  {
   "cell_type": "code",
   "execution_count": 104,
   "id": "39d292f7",
   "metadata": {},
   "outputs": [
    {
     "data": {
      "text/plain": [
       "['₹649',\n",
       " '₹879',\n",
       " '₹169',\n",
       " '₹349',\n",
       " '₹169',\n",
       " '₹599',\n",
       " '₹519',\n",
       " '₹499',\n",
       " '₹254',\n",
       " '₹169',\n",
       " '₹699',\n",
       " '₹390',\n",
       " '₹279',\n",
       " '₹243',\n",
       " '₹487',\n",
       " '₹210',\n",
       " '₹699',\n",
       " '₹974',\n",
       " '₹1,529',\n",
       " '₹499',\n",
       " '₹385',\n",
       " '₹1,388',\n",
       " '₹169',\n",
       " '₹599',\n",
       " '₹749',\n",
       " '₹187',\n",
       " '₹1,236',\n",
       " '₹2,199',\n",
       " '₹399',\n",
       " '₹209',\n",
       " '₹749',\n",
       " '₹699',\n",
       " '₹269',\n",
       " '₹589',\n",
       " '₹247',\n",
       " '₹449',\n",
       " '₹399',\n",
       " '₹359',\n",
       " '₹299',\n",
       " '₹699']"
      ]
     },
     "execution_count": 104,
     "metadata": {},
     "output_type": "execute_result"
    }
   ],
   "source": [
    "price"
   ]
  },
  {
   "cell_type": "code",
   "execution_count": 105,
   "id": "c923aa87",
   "metadata": {},
   "outputs": [
    {
     "data": {
      "text/html": [
       "<div>\n",
       "<style scoped>\n",
       "    .dataframe tbody tr th:only-of-type {\n",
       "        vertical-align: middle;\n",
       "    }\n",
       "\n",
       "    .dataframe tbody tr th {\n",
       "        vertical-align: top;\n",
       "    }\n",
       "\n",
       "    .dataframe thead th {\n",
       "        text-align: right;\n",
       "    }\n",
       "</style>\n",
       "<table border=\"1\" class=\"dataframe\">\n",
       "  <thead>\n",
       "    <tr style=\"text-align: right;\">\n",
       "      <th></th>\n",
       "      <th>Brands</th>\n",
       "      <th>Product_description</th>\n",
       "      <th>price</th>\n",
       "    </tr>\n",
       "  </thead>\n",
       "  <tbody>\n",
       "    <tr>\n",
       "      <th>0</th>\n",
       "      <td>VINCENT CHASE</td>\n",
       "      <td>by Lenskart Polarized, UV Protection Aviator S...</td>\n",
       "      <td>₹649</td>\n",
       "    </tr>\n",
       "    <tr>\n",
       "      <th>1</th>\n",
       "      <td>VINCENT CHASE</td>\n",
       "      <td>by Lenskart Polarized, UV Protection Round Sun...</td>\n",
       "      <td>₹879</td>\n",
       "    </tr>\n",
       "    <tr>\n",
       "      <th>2</th>\n",
       "      <td>Elligator</td>\n",
       "      <td>UV Protection, Mirrored Wayfarer Sunglasses (52)</td>\n",
       "      <td>₹169</td>\n",
       "    </tr>\n",
       "    <tr>\n",
       "      <th>3</th>\n",
       "      <td>ROADWAY</td>\n",
       "      <td>UV Protection Retro Square Sunglasses (Free Size)</td>\n",
       "      <td>₹349</td>\n",
       "    </tr>\n",
       "    <tr>\n",
       "      <th>4</th>\n",
       "      <td>Elligator</td>\n",
       "      <td>UV Protection Wayfarer Sunglasses (53)</td>\n",
       "      <td>₹169</td>\n",
       "    </tr>\n",
       "    <tr>\n",
       "      <th>5</th>\n",
       "      <td>Fastrack</td>\n",
       "      <td>Gradient, UV Protection Wayfarer Sunglasses (F...</td>\n",
       "      <td>₹599</td>\n",
       "    </tr>\n",
       "    <tr>\n",
       "      <th>6</th>\n",
       "      <td>Aarna Fashion</td>\n",
       "      <td>UV Protection Retro Square Sunglasses (50)</td>\n",
       "      <td>₹519</td>\n",
       "    </tr>\n",
       "    <tr>\n",
       "      <th>7</th>\n",
       "      <td>VINCENT CHASE</td>\n",
       "      <td>by Lenskart UV Protection Wayfarer Sunglasses ...</td>\n",
       "      <td>₹499</td>\n",
       "    </tr>\n",
       "    <tr>\n",
       "      <th>8</th>\n",
       "      <td>ROADWAY</td>\n",
       "      <td>UV Protection Wayfarer, Sports, Spectacle , Re...</td>\n",
       "      <td>₹254</td>\n",
       "    </tr>\n",
       "    <tr>\n",
       "      <th>9</th>\n",
       "      <td>Elligator</td>\n",
       "      <td>UV Protection Wayfarer Sunglasses (50)</td>\n",
       "      <td>₹169</td>\n",
       "    </tr>\n",
       "    <tr>\n",
       "      <th>10</th>\n",
       "      <td>VINCENT CHASE</td>\n",
       "      <td>by Lenskart Polarized, UV Protection Round Sun...</td>\n",
       "      <td>₹699</td>\n",
       "    </tr>\n",
       "    <tr>\n",
       "      <th>11</th>\n",
       "      <td>ROZZETTA CRAFT</td>\n",
       "      <td>UV Protection, Gradient Round Sunglasses (Free...</td>\n",
       "      <td>₹390</td>\n",
       "    </tr>\n",
       "    <tr>\n",
       "      <th>12</th>\n",
       "      <td>PIRASO</td>\n",
       "      <td>UV Protection Over-sized Sunglasses (60)</td>\n",
       "      <td>₹279</td>\n",
       "    </tr>\n",
       "    <tr>\n",
       "      <th>13</th>\n",
       "      <td>SPORT COLLECTION</td>\n",
       "      <td>Polarized Aviator Sunglasses (Free Size)</td>\n",
       "      <td>₹243</td>\n",
       "    </tr>\n",
       "    <tr>\n",
       "      <th>14</th>\n",
       "      <td>Hooper</td>\n",
       "      <td>UV Protection Wayfarer Sunglasses (45)</td>\n",
       "      <td>₹487</td>\n",
       "    </tr>\n",
       "    <tr>\n",
       "      <th>15</th>\n",
       "      <td>PIRASO</td>\n",
       "      <td>UV Protection Aviator Sunglasses (54)</td>\n",
       "      <td>₹210</td>\n",
       "    </tr>\n",
       "    <tr>\n",
       "      <th>16</th>\n",
       "      <td>VINCENT CHASE</td>\n",
       "      <td>by Lenskart UV Protection Clubmaster Sunglasse...</td>\n",
       "      <td>₹699</td>\n",
       "    </tr>\n",
       "    <tr>\n",
       "      <th>17</th>\n",
       "      <td>Lenskart STUDIO</td>\n",
       "      <td>UV Protection Rectangular Sunglasses (52)</td>\n",
       "      <td>₹974</td>\n",
       "    </tr>\n",
       "    <tr>\n",
       "      <th>18</th>\n",
       "      <td>Woggles</td>\n",
       "      <td>Polarized Cat-eye Sunglasses (Free Size)</td>\n",
       "      <td>₹1,529</td>\n",
       "    </tr>\n",
       "    <tr>\n",
       "      <th>19</th>\n",
       "      <td>VINCENT CHASE</td>\n",
       "      <td>by Lenskart Polarized, UV Protection Wayfarer ...</td>\n",
       "      <td>₹499</td>\n",
       "    </tr>\n",
       "    <tr>\n",
       "      <th>20</th>\n",
       "      <td>Eyenaks</td>\n",
       "      <td>UV Protection Rectangular Sunglasses (Free Size)</td>\n",
       "      <td>₹385</td>\n",
       "    </tr>\n",
       "    <tr>\n",
       "      <th>21</th>\n",
       "      <td>Lenskart STUDIO</td>\n",
       "      <td>Polarized, UV Protection Rectangular Sunglasse...</td>\n",
       "      <td>₹1,388</td>\n",
       "    </tr>\n",
       "    <tr>\n",
       "      <th>22</th>\n",
       "      <td>Elligator</td>\n",
       "      <td>UV Protection Wayfarer Sunglasses (52)</td>\n",
       "      <td>₹169</td>\n",
       "    </tr>\n",
       "    <tr>\n",
       "      <th>23</th>\n",
       "      <td>VINCENT CHASE</td>\n",
       "      <td>by Lenskart Polarized, UV Protection Round Sun...</td>\n",
       "      <td>₹599</td>\n",
       "    </tr>\n",
       "    <tr>\n",
       "      <th>24</th>\n",
       "      <td>VINCENT CHASE</td>\n",
       "      <td>by Lenskart UV Protection Clubmaster Sunglasse...</td>\n",
       "      <td>₹749</td>\n",
       "    </tr>\n",
       "    <tr>\n",
       "      <th>25</th>\n",
       "      <td>DEIXELS</td>\n",
       "      <td>Polarized, UV Protection, Riding Glasses Wayfa...</td>\n",
       "      <td>₹187</td>\n",
       "    </tr>\n",
       "    <tr>\n",
       "      <th>26</th>\n",
       "      <td>Eyewearlabs</td>\n",
       "      <td>Polarized, UV Protection Wayfarer Sunglasses (51)</td>\n",
       "      <td>₹1,236</td>\n",
       "    </tr>\n",
       "    <tr>\n",
       "      <th>27</th>\n",
       "      <td>Eyewearlabs</td>\n",
       "      <td>Polarized, UV Protection Rectangular Sunglasse...</td>\n",
       "      <td>₹2,199</td>\n",
       "    </tr>\n",
       "    <tr>\n",
       "      <th>28</th>\n",
       "      <td>Aarna Fashion</td>\n",
       "      <td>UV Protection Aviator Sunglasses (50)</td>\n",
       "      <td>₹399</td>\n",
       "    </tr>\n",
       "    <tr>\n",
       "      <th>29</th>\n",
       "      <td>ROADWAY</td>\n",
       "      <td>UV Protection Retro Square, Wayfarer, Sports S...</td>\n",
       "      <td>₹209</td>\n",
       "    </tr>\n",
       "    <tr>\n",
       "      <th>30</th>\n",
       "      <td>VINCENT CHASE</td>\n",
       "      <td>by Lenskart Polarized, UV Protection Cat-eye S...</td>\n",
       "      <td>₹749</td>\n",
       "    </tr>\n",
       "    <tr>\n",
       "      <th>31</th>\n",
       "      <td>VINCENT CHASE</td>\n",
       "      <td>by Lenskart Polarized, UV Protection Retro Squ...</td>\n",
       "      <td>₹699</td>\n",
       "    </tr>\n",
       "    <tr>\n",
       "      <th>32</th>\n",
       "      <td>hipe</td>\n",
       "      <td>UV Protection, Riding Glasses, Gradient Wrap-a...</td>\n",
       "      <td>₹269</td>\n",
       "    </tr>\n",
       "    <tr>\n",
       "      <th>33</th>\n",
       "      <td>Fastrack</td>\n",
       "      <td>UV Protection Wayfarer Sunglasses (Free Size)</td>\n",
       "      <td>₹589</td>\n",
       "    </tr>\n",
       "    <tr>\n",
       "      <th>34</th>\n",
       "      <td>GOOD FRIENDS</td>\n",
       "      <td>Polarized Aviator Sunglasses (Free Size)</td>\n",
       "      <td>₹247</td>\n",
       "    </tr>\n",
       "    <tr>\n",
       "      <th>35</th>\n",
       "      <td>VINCENT CHASE</td>\n",
       "      <td>by Lenskart Polarized, UV Protection Wayfarer ...</td>\n",
       "      <td>₹449</td>\n",
       "    </tr>\n",
       "    <tr>\n",
       "      <th>36</th>\n",
       "      <td>VINCENT CHASE</td>\n",
       "      <td>by Lenskart Polarized, UV Protection Wayfarer ...</td>\n",
       "      <td>₹399</td>\n",
       "    </tr>\n",
       "    <tr>\n",
       "      <th>37</th>\n",
       "      <td>ROYAL SON</td>\n",
       "      <td>Mirrored Aviator Sunglasses (58)</td>\n",
       "      <td>₹359</td>\n",
       "    </tr>\n",
       "    <tr>\n",
       "      <th>38</th>\n",
       "      <td>PIRASO</td>\n",
       "      <td>UV Protection Butterfly Sunglasses (60)</td>\n",
       "      <td>₹299</td>\n",
       "    </tr>\n",
       "    <tr>\n",
       "      <th>39</th>\n",
       "      <td>VINCENT CHASE</td>\n",
       "      <td>by Lenskart Polarized, UV Protection Round Sun...</td>\n",
       "      <td>₹699</td>\n",
       "    </tr>\n",
       "  </tbody>\n",
       "</table>\n",
       "</div>"
      ],
      "text/plain": [
       "              Brands                                Product_description  \\\n",
       "0      VINCENT CHASE  by Lenskart Polarized, UV Protection Aviator S...   \n",
       "1      VINCENT CHASE  by Lenskart Polarized, UV Protection Round Sun...   \n",
       "2          Elligator   UV Protection, Mirrored Wayfarer Sunglasses (52)   \n",
       "3            ROADWAY  UV Protection Retro Square Sunglasses (Free Size)   \n",
       "4          Elligator             UV Protection Wayfarer Sunglasses (53)   \n",
       "5           Fastrack  Gradient, UV Protection Wayfarer Sunglasses (F...   \n",
       "6      Aarna Fashion         UV Protection Retro Square Sunglasses (50)   \n",
       "7      VINCENT CHASE  by Lenskart UV Protection Wayfarer Sunglasses ...   \n",
       "8            ROADWAY  UV Protection Wayfarer, Sports, Spectacle , Re...   \n",
       "9          Elligator             UV Protection Wayfarer Sunglasses (50)   \n",
       "10     VINCENT CHASE  by Lenskart Polarized, UV Protection Round Sun...   \n",
       "11    ROZZETTA CRAFT  UV Protection, Gradient Round Sunglasses (Free...   \n",
       "12            PIRASO           UV Protection Over-sized Sunglasses (60)   \n",
       "13  SPORT COLLECTION           Polarized Aviator Sunglasses (Free Size)   \n",
       "14            Hooper             UV Protection Wayfarer Sunglasses (45)   \n",
       "15            PIRASO              UV Protection Aviator Sunglasses (54)   \n",
       "16     VINCENT CHASE  by Lenskart UV Protection Clubmaster Sunglasse...   \n",
       "17   Lenskart STUDIO          UV Protection Rectangular Sunglasses (52)   \n",
       "18           Woggles           Polarized Cat-eye Sunglasses (Free Size)   \n",
       "19     VINCENT CHASE  by Lenskart Polarized, UV Protection Wayfarer ...   \n",
       "20           Eyenaks   UV Protection Rectangular Sunglasses (Free Size)   \n",
       "21   Lenskart STUDIO  Polarized, UV Protection Rectangular Sunglasse...   \n",
       "22         Elligator             UV Protection Wayfarer Sunglasses (52)   \n",
       "23     VINCENT CHASE  by Lenskart Polarized, UV Protection Round Sun...   \n",
       "24     VINCENT CHASE  by Lenskart UV Protection Clubmaster Sunglasse...   \n",
       "25           DEIXELS  Polarized, UV Protection, Riding Glasses Wayfa...   \n",
       "26       Eyewearlabs  Polarized, UV Protection Wayfarer Sunglasses (51)   \n",
       "27       Eyewearlabs  Polarized, UV Protection Rectangular Sunglasse...   \n",
       "28     Aarna Fashion              UV Protection Aviator Sunglasses (50)   \n",
       "29           ROADWAY  UV Protection Retro Square, Wayfarer, Sports S...   \n",
       "30     VINCENT CHASE  by Lenskart Polarized, UV Protection Cat-eye S...   \n",
       "31     VINCENT CHASE  by Lenskart Polarized, UV Protection Retro Squ...   \n",
       "32              hipe  UV Protection, Riding Glasses, Gradient Wrap-a...   \n",
       "33          Fastrack      UV Protection Wayfarer Sunglasses (Free Size)   \n",
       "34      GOOD FRIENDS           Polarized Aviator Sunglasses (Free Size)   \n",
       "35     VINCENT CHASE  by Lenskart Polarized, UV Protection Wayfarer ...   \n",
       "36     VINCENT CHASE  by Lenskart Polarized, UV Protection Wayfarer ...   \n",
       "37         ROYAL SON                   Mirrored Aviator Sunglasses (58)   \n",
       "38            PIRASO            UV Protection Butterfly Sunglasses (60)   \n",
       "39     VINCENT CHASE  by Lenskart Polarized, UV Protection Round Sun...   \n",
       "\n",
       "     price  \n",
       "0     ₹649  \n",
       "1     ₹879  \n",
       "2     ₹169  \n",
       "3     ₹349  \n",
       "4     ₹169  \n",
       "5     ₹599  \n",
       "6     ₹519  \n",
       "7     ₹499  \n",
       "8     ₹254  \n",
       "9     ₹169  \n",
       "10    ₹699  \n",
       "11    ₹390  \n",
       "12    ₹279  \n",
       "13    ₹243  \n",
       "14    ₹487  \n",
       "15    ₹210  \n",
       "16    ₹699  \n",
       "17    ₹974  \n",
       "18  ₹1,529  \n",
       "19    ₹499  \n",
       "20    ₹385  \n",
       "21  ₹1,388  \n",
       "22    ₹169  \n",
       "23    ₹599  \n",
       "24    ₹749  \n",
       "25    ₹187  \n",
       "26  ₹1,236  \n",
       "27  ₹2,199  \n",
       "28    ₹399  \n",
       "29    ₹209  \n",
       "30    ₹749  \n",
       "31    ₹699  \n",
       "32    ₹269  \n",
       "33    ₹589  \n",
       "34    ₹247  \n",
       "35    ₹449  \n",
       "36    ₹399  \n",
       "37    ₹359  \n",
       "38    ₹299  \n",
       "39    ₹699  "
      ]
     },
     "execution_count": 105,
     "metadata": {},
     "output_type": "execute_result"
    }
   ],
   "source": [
    "df = pd.DataFrame({'Brands':Brands,'Product_description':Product_description,'price':price})\n",
    "df"
   ]
  },
  {
   "cell_type": "code",
   "execution_count": 106,
   "id": "8219b02d",
   "metadata": {},
   "outputs": [],
   "source": [
    "Brands = []\n",
    "Product_Description = []\n",
    "Price_list = []"
   ]
  },
  {
   "cell_type": "code",
   "execution_count": 107,
   "id": "cec07762",
   "metadata": {},
   "outputs": [],
   "source": [
    "start = 0\n",
    "end = 4\n",
    "for page in range(start,end):\n",
    "    brand = driver.find_elements(By.CLASS_NAME,\"_2WkVRV\")\n",
    "    for i in brand:\n",
    "        Brands.append(i.text)\n",
    "    product = driver.find_elements(By.CLASS_NAME,\"IRpwTa\")\n",
    "    for j in product:\n",
    "        Product_Description.append(j.text)\n",
    "    \n",
    "    price_product= driver.find_elements(By.XPATH,'//div[@class=\"_30jeq3\"]')\n",
    "    for k in price_product:\n",
    "        Price_list.append(k.text)\n",
    "    next_button = driver.find_element(By.XPATH,'/html/body/div/div/div[3]/div[1]/div[2]/div[12]/div/div/nav/a[11]')\n",
    "    next_button.click()\n",
    "    time.sleep(3)"
   ]
  },
  {
   "cell_type": "code",
   "execution_count": 108,
   "id": "5d054e0a",
   "metadata": {},
   "outputs": [
    {
     "name": "stdout",
     "output_type": "stream",
     "text": [
      "160 160 160\n"
     ]
    }
   ],
   "source": [
    "print(len(Brands),len(Product_Description),len(Price_list))\n"
   ]
  },
  {
   "cell_type": "code",
   "execution_count": 109,
   "id": "21bc480f",
   "metadata": {},
   "outputs": [
    {
     "data": {
      "text/html": [
       "<div>\n",
       "<style scoped>\n",
       "    .dataframe tbody tr th:only-of-type {\n",
       "        vertical-align: middle;\n",
       "    }\n",
       "\n",
       "    .dataframe tbody tr th {\n",
       "        vertical-align: top;\n",
       "    }\n",
       "\n",
       "    .dataframe thead th {\n",
       "        text-align: right;\n",
       "    }\n",
       "</style>\n",
       "<table border=\"1\" class=\"dataframe\">\n",
       "  <thead>\n",
       "    <tr style=\"text-align: right;\">\n",
       "      <th></th>\n",
       "      <th>Brands</th>\n",
       "      <th>Product_Description</th>\n",
       "      <th>Price_list</th>\n",
       "    </tr>\n",
       "  </thead>\n",
       "  <tbody>\n",
       "    <tr>\n",
       "      <th>0</th>\n",
       "      <td>VINCENT CHASE</td>\n",
       "      <td>by Lenskart Polarized, UV Protection Aviator S...</td>\n",
       "      <td>₹649</td>\n",
       "    </tr>\n",
       "    <tr>\n",
       "      <th>1</th>\n",
       "      <td>VINCENT CHASE</td>\n",
       "      <td>by Lenskart Polarized, UV Protection Round Sun...</td>\n",
       "      <td>₹879</td>\n",
       "    </tr>\n",
       "    <tr>\n",
       "      <th>2</th>\n",
       "      <td>Elligator</td>\n",
       "      <td>UV Protection, Mirrored Wayfarer Sunglasses (52)</td>\n",
       "      <td>₹169</td>\n",
       "    </tr>\n",
       "    <tr>\n",
       "      <th>3</th>\n",
       "      <td>ROADWAY</td>\n",
       "      <td>UV Protection Retro Square Sunglasses (Free Size)</td>\n",
       "      <td>₹349</td>\n",
       "    </tr>\n",
       "    <tr>\n",
       "      <th>4</th>\n",
       "      <td>Elligator</td>\n",
       "      <td>UV Protection Wayfarer Sunglasses (53)</td>\n",
       "      <td>₹169</td>\n",
       "    </tr>\n",
       "    <tr>\n",
       "      <th>...</th>\n",
       "      <td>...</td>\n",
       "      <td>...</td>\n",
       "      <td>...</td>\n",
       "    </tr>\n",
       "    <tr>\n",
       "      <th>155</th>\n",
       "      <td>POLICE</td>\n",
       "      <td>Gradient Round Sunglasses (47)</td>\n",
       "      <td>₹3,629</td>\n",
       "    </tr>\n",
       "    <tr>\n",
       "      <th>156</th>\n",
       "      <td>ROYAL SON</td>\n",
       "      <td>Polarized, UV Protection Wayfarer, Retro Squar...</td>\n",
       "      <td>₹719</td>\n",
       "    </tr>\n",
       "    <tr>\n",
       "      <th>157</th>\n",
       "      <td>NuVew</td>\n",
       "      <td>UV Protection Oval Sunglasses (64)</td>\n",
       "      <td>₹449</td>\n",
       "    </tr>\n",
       "    <tr>\n",
       "      <th>158</th>\n",
       "      <td>VINCENT CHASE</td>\n",
       "      <td>by Lenskart Polarized, UV Protection Aviator S...</td>\n",
       "      <td>₹806</td>\n",
       "    </tr>\n",
       "    <tr>\n",
       "      <th>159</th>\n",
       "      <td>ROYAL SON</td>\n",
       "      <td>Polarized, UV Protection Wayfarer Sunglasses (61)</td>\n",
       "      <td>₹594</td>\n",
       "    </tr>\n",
       "  </tbody>\n",
       "</table>\n",
       "<p>160 rows × 3 columns</p>\n",
       "</div>"
      ],
      "text/plain": [
       "            Brands                                Product_Description  \\\n",
       "0    VINCENT CHASE  by Lenskart Polarized, UV Protection Aviator S...   \n",
       "1    VINCENT CHASE  by Lenskart Polarized, UV Protection Round Sun...   \n",
       "2        Elligator   UV Protection, Mirrored Wayfarer Sunglasses (52)   \n",
       "3          ROADWAY  UV Protection Retro Square Sunglasses (Free Size)   \n",
       "4        Elligator             UV Protection Wayfarer Sunglasses (53)   \n",
       "..             ...                                                ...   \n",
       "155         POLICE                     Gradient Round Sunglasses (47)   \n",
       "156      ROYAL SON  Polarized, UV Protection Wayfarer, Retro Squar...   \n",
       "157          NuVew                 UV Protection Oval Sunglasses (64)   \n",
       "158  VINCENT CHASE  by Lenskart Polarized, UV Protection Aviator S...   \n",
       "159      ROYAL SON  Polarized, UV Protection Wayfarer Sunglasses (61)   \n",
       "\n",
       "    Price_list  \n",
       "0         ₹649  \n",
       "1         ₹879  \n",
       "2         ₹169  \n",
       "3         ₹349  \n",
       "4         ₹169  \n",
       "..         ...  \n",
       "155     ₹3,629  \n",
       "156       ₹719  \n",
       "157       ₹449  \n",
       "158       ₹806  \n",
       "159       ₹594  \n",
       "\n",
       "[160 rows x 3 columns]"
      ]
     },
     "execution_count": 109,
     "metadata": {},
     "output_type": "execute_result"
    }
   ],
   "source": [
    "df1 = pd.DataFrame({'Brands':Brands,'Product_Description':Product_Description,'Price_list':Price_list})\n",
    "df1"
   ]
  },
  {
   "cell_type": "code",
   "execution_count": null,
   "id": "bc517c9c",
   "metadata": {},
   "outputs": [],
   "source": []
  }
 ],
 "metadata": {
  "kernelspec": {
   "display_name": "Python 3 (ipykernel)",
   "language": "python",
   "name": "python3"
  },
  "language_info": {
   "codemirror_mode": {
    "name": "ipython",
    "version": 3
   },
   "file_extension": ".py",
   "mimetype": "text/x-python",
   "name": "python",
   "nbconvert_exporter": "python",
   "pygments_lexer": "ipython3",
   "version": "3.11.3"
  }
 },
 "nbformat": 4,
 "nbformat_minor": 5
}
