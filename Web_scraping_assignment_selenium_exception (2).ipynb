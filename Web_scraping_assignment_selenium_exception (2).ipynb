{
 "cells": [
  {
   "cell_type": "code",
   "execution_count": 26,
   "id": "56522809",
   "metadata": {},
   "outputs": [],
   "source": [
    "from selenium import webdriver\n",
    "import time\n",
    "import warnings\n",
    "warnings.filterwarnings('ignore')\n",
    "from selenium.webdriver.common.by import By\n",
    "from selenium.webdriver.support.ui import WebDriverWait\n",
    "from selenium.webdriver.support import expected_conditions as EC\n",
    "from selenium.common.exceptions import StaleElementReferenceException , NoSuchElementException"
   ]
  },
  {
   "cell_type": "markdown",
   "id": "84b0208e",
   "metadata": {},
   "source": [
    "### Q 1) Write a python program which searches all the product under a particular product from www.amazon.in. The product to be searched will be taken as input from user. For e.g. If user input is ‘guitar’. Then search for guitars"
   ]
  },
  {
   "cell_type": "code",
   "execution_count": 27,
   "id": "2c420265",
   "metadata": {},
   "outputs": [],
   "source": [
    "driver = webdriver.Chrome()"
   ]
  },
  {
   "cell_type": "code",
   "execution_count": 28,
   "id": "ab1c2835",
   "metadata": {},
   "outputs": [],
   "source": [
    "driver.get('https://www.amazon.in./')\n",
    "time.sleep(5)"
   ]
  },
  {
   "cell_type": "code",
   "execution_count": 30,
   "id": "9d9e51ca",
   "metadata": {},
   "outputs": [
    {
     "name": "stdout",
     "output_type": "stream",
     "text": [
      "enter the keyword for searchguitar\n"
     ]
    }
   ],
   "source": [
    "search = driver.find_element(By.XPATH,'//div[@class=\"nav-search-field \"]/input')\n",
    "search.send_keys(input('enter the keyword for search'))"
   ]
  },
  {
   "cell_type": "code",
   "execution_count": 31,
   "id": "ee26885c",
   "metadata": {},
   "outputs": [],
   "source": [
    "clicks = driver.find_element(By.XPATH,'//span[@class=\"nav-search-submit-text nav-sprite nav-progressive-attribute\"]/input')\n",
    "clicks.click()"
   ]
  },
  {
   "cell_type": "markdown",
   "id": "74cf0550",
   "metadata": {},
   "source": [
    "### Q 2. In the above question, now scrape the following details of each product listed in first 3 pages of your search results and save it in a data frame and csv. In case if any product has less than 3 pages in search results then scrape all the products available under that product name. \n",
    "Details to be scraped are: \"Brand Name\", \"Name of the Product\", \"Price\", \"Return/Exchange\", \"Expected Delivery\", \"Availability\" and “Product URL”. In case, if any of the details are missing for any of the product then replace it by “-“"
   ]
  },
  {
   "cell_type": "code",
   "execution_count": null,
   "id": "3833c09f",
   "metadata": {},
   "outputs": [],
   "source": [
    "url = []\n",
    "start = 0\n",
    "end = 3\n",
    "for page in range(start,end):\n",
    "    link = driver.find_elements(By.XPATH,'//a[@class=\"a-link-normal s-no-outline\"]')\n",
    "    for i in link:\n",
    "        url.append(i.get_attribute('href'))\n",
    "    next_button = driver.find_element(By.XPATH,'//a[@class=\"s-pagination-item s-pagination-next s-pagination-button s-pagination-button-accessibility s-pagination-separator\"]')\n",
    "    next_button.click()\n",
    "    time.sleep(3)"
   ]
  },
  {
   "cell_type": "code",
   "execution_count": null,
   "id": "0cf599b9",
   "metadata": {},
   "outputs": [],
   "source": [
    "Brand = []\n",
    "Name_of_product = []\n",
    "price = []\n",
    "return_exchange = []\n",
    "Expected_delivery = []\n",
    "Availability = []\n",
    "for i in url:\n",
    "    driver.get(i)\n",
    "    time.sleep(4)\n",
    "    try:\n",
    "        name = driver.find_element(By.XPATH,'/html/body/div[2]/div/div[5]/div[3]/div[4]/div[48]/div/table/tbody/tr[1]/td[2]/span')\n",
    "        Brand.append(name.text)\n",
    "    except NoSuchElementException:\n",
    "        Brand.append('-')\n",
    "\n",
    "    try:\n",
    "        name = driver.find_element(By.XPATH,'//div[@class=\"a-section a-spacing-none\"]/h1/span')\n",
    "        Name_of_product.append(name.text)\n",
    "    except NoSuchElementException:\n",
    "        Name_of_product.append('-')\n",
    "    try:\n",
    "        name = driver.find_element(By.XPATH,'//span[@class=\"a-price aok-align-center reinventPricePriceToPayMargin priceToPay\"]/span/span[2]')\n",
    "        price.append(name.text)\n",
    "    except NoSuchElementException:\n",
    "        price.append('-')\n",
    "    try:\n",
    "        name = driver.find_element(By.XPATH,'/html/body/div[2]/div/div[6]/div[3]/div[4]/div[23]/div[2]/div/div/div/div[2]/div/ol/li[3]/div/span')\n",
    "        return_exchange.append(name.text)\n",
    "    except NoSuchElementException:\n",
    "        return_exchange.append('-')\n",
    "    try:\n",
    "        name = driver.find_element(By.XPATH,'/html/body/div[2]/div/div[6]/div[3]/div[1]/div[3]/div/div[1]/div/div/div/form/div/div/div/div/div[4]/div/div[5]/div/div[1]/span')\n",
    "        Availability.append(name.text)\n",
    "    except NoSuchElementException:\n",
    "        Availability.append('-')"
   ]
  },
  {
   "cell_type": "code",
   "execution_count": 12,
   "id": "de8645b6",
   "metadata": {},
   "outputs": [
    {
     "data": {
      "text/plain": [
       "210"
      ]
     },
     "execution_count": 12,
     "metadata": {},
     "output_type": "execute_result"
    }
   ],
   "source": [
    "len(Brand)"
   ]
  },
  {
   "cell_type": "code",
   "execution_count": 13,
   "id": "76098a23",
   "metadata": {},
   "outputs": [
    {
     "data": {
      "text/plain": [
       "210"
      ]
     },
     "execution_count": 13,
     "metadata": {},
     "output_type": "execute_result"
    }
   ],
   "source": [
    "len(Name_of_product)"
   ]
  },
  {
   "cell_type": "code",
   "execution_count": 14,
   "id": "4cabac08",
   "metadata": {},
   "outputs": [
    {
     "data": {
      "text/plain": [
       "210"
      ]
     },
     "execution_count": 14,
     "metadata": {},
     "output_type": "execute_result"
    }
   ],
   "source": [
    "len(price)"
   ]
  },
  {
   "cell_type": "code",
   "execution_count": 15,
   "id": "b88683cc",
   "metadata": {},
   "outputs": [
    {
     "data": {
      "text/plain": [
       "210"
      ]
     },
     "execution_count": 15,
     "metadata": {},
     "output_type": "execute_result"
    }
   ],
   "source": [
    "len(return_exchange)"
   ]
  },
  {
   "cell_type": "code",
   "execution_count": 16,
   "id": "9cbcf1a6",
   "metadata": {},
   "outputs": [
    {
     "data": {
      "text/plain": [
       "210"
      ]
     },
     "execution_count": 16,
     "metadata": {},
     "output_type": "execute_result"
    }
   ],
   "source": [
    "len(Availability)"
   ]
  },
  {
   "cell_type": "code",
   "execution_count": 17,
   "id": "747894e6",
   "metadata": {},
   "outputs": [],
   "source": [
    "import pandas as pd"
   ]
  },
  {
   "cell_type": "code",
   "execution_count": 18,
   "id": "1e2457a7",
   "metadata": {},
   "outputs": [],
   "source": [
    "df = pd.DataFrame({'Brand':Brand,'Name_of_product':Name_of_product,'price':price,'return_exchange':return_exchange,'Availability':Availability})"
   ]
  },
  {
   "cell_type": "code",
   "execution_count": 19,
   "id": "b6b761f9",
   "metadata": {},
   "outputs": [
    {
     "data": {
      "text/html": [
       "<div>\n",
       "<style scoped>\n",
       "    .dataframe tbody tr th:only-of-type {\n",
       "        vertical-align: middle;\n",
       "    }\n",
       "\n",
       "    .dataframe tbody tr th {\n",
       "        vertical-align: top;\n",
       "    }\n",
       "\n",
       "    .dataframe thead th {\n",
       "        text-align: right;\n",
       "    }\n",
       "</style>\n",
       "<table border=\"1\" class=\"dataframe\">\n",
       "  <thead>\n",
       "    <tr style=\"text-align: right;\">\n",
       "      <th></th>\n",
       "      <th>Brand</th>\n",
       "      <th>Name_of_product</th>\n",
       "      <th>price</th>\n",
       "      <th>return_exchange</th>\n",
       "      <th>Availability</th>\n",
       "    </tr>\n",
       "  </thead>\n",
       "  <tbody>\n",
       "    <tr>\n",
       "      <th>0</th>\n",
       "      <td>-</td>\n",
       "      <td>-</td>\n",
       "      <td>-</td>\n",
       "      <td>-</td>\n",
       "      <td>-</td>\n",
       "    </tr>\n",
       "    <tr>\n",
       "      <th>1</th>\n",
       "      <td>-</td>\n",
       "      <td>-</td>\n",
       "      <td>-</td>\n",
       "      <td>-</td>\n",
       "      <td>-</td>\n",
       "    </tr>\n",
       "    <tr>\n",
       "      <th>2</th>\n",
       "      <td>-</td>\n",
       "      <td>-</td>\n",
       "      <td>-</td>\n",
       "      <td>-</td>\n",
       "      <td>-</td>\n",
       "    </tr>\n",
       "    <tr>\n",
       "      <th>3</th>\n",
       "      <td>-</td>\n",
       "      <td>-</td>\n",
       "      <td>-</td>\n",
       "      <td>-</td>\n",
       "      <td>-</td>\n",
       "    </tr>\n",
       "    <tr>\n",
       "      <th>4</th>\n",
       "      <td>-</td>\n",
       "      <td>-</td>\n",
       "      <td>-</td>\n",
       "      <td>-</td>\n",
       "      <td>-</td>\n",
       "    </tr>\n",
       "    <tr>\n",
       "      <th>...</th>\n",
       "      <td>...</td>\n",
       "      <td>...</td>\n",
       "      <td>...</td>\n",
       "      <td>...</td>\n",
       "      <td>...</td>\n",
       "    </tr>\n",
       "    <tr>\n",
       "      <th>205</th>\n",
       "      <td>-</td>\n",
       "      <td>-</td>\n",
       "      <td>-</td>\n",
       "      <td>-</td>\n",
       "      <td>-</td>\n",
       "    </tr>\n",
       "    <tr>\n",
       "      <th>206</th>\n",
       "      <td>-</td>\n",
       "      <td>-</td>\n",
       "      <td>-</td>\n",
       "      <td>-</td>\n",
       "      <td>-</td>\n",
       "    </tr>\n",
       "    <tr>\n",
       "      <th>207</th>\n",
       "      <td>-</td>\n",
       "      <td>-</td>\n",
       "      <td>-</td>\n",
       "      <td>-</td>\n",
       "      <td>-</td>\n",
       "    </tr>\n",
       "    <tr>\n",
       "      <th>208</th>\n",
       "      <td>-</td>\n",
       "      <td>-</td>\n",
       "      <td>-</td>\n",
       "      <td>-</td>\n",
       "      <td>-</td>\n",
       "    </tr>\n",
       "    <tr>\n",
       "      <th>209</th>\n",
       "      <td>-</td>\n",
       "      <td>-</td>\n",
       "      <td>-</td>\n",
       "      <td>-</td>\n",
       "      <td>-</td>\n",
       "    </tr>\n",
       "  </tbody>\n",
       "</table>\n",
       "<p>210 rows × 5 columns</p>\n",
       "</div>"
      ],
      "text/plain": [
       "    Brand Name_of_product price return_exchange Availability\n",
       "0       -               -     -               -            -\n",
       "1       -               -     -               -            -\n",
       "2       -               -     -               -            -\n",
       "3       -               -     -               -            -\n",
       "4       -               -     -               -            -\n",
       "..    ...             ...   ...             ...          ...\n",
       "205     -               -     -               -            -\n",
       "206     -               -     -               -            -\n",
       "207     -               -     -               -            -\n",
       "208     -               -     -               -            -\n",
       "209     -               -     -               -            -\n",
       "\n",
       "[210 rows x 5 columns]"
      ]
     },
     "execution_count": 19,
     "metadata": {},
     "output_type": "execute_result"
    }
   ],
   "source": [
    "df"
   ]
  },
  {
   "cell_type": "markdown",
   "id": "147e1fd6",
   "metadata": {},
   "source": [
    "### Q 3) Write a python program to access the search bar and search button on images.google.com and scrape 10 images each for keywords ‘fruits’, ‘cars’ and ‘Machine Learning’, ‘Guitar’, ‘Cakes’."
   ]
  },
  {
   "cell_type": "code",
   "execution_count": 53,
   "id": "7527400f",
   "metadata": {},
   "outputs": [],
   "source": [
    "driver = webdriver.Chrome()"
   ]
  },
  {
   "cell_type": "code",
   "execution_count": 54,
   "id": "1f77fc8d",
   "metadata": {},
   "outputs": [],
   "source": [
    "driver.get('https://images.google.com/')"
   ]
  },
  {
   "cell_type": "code",
   "execution_count": 55,
   "id": "7e5e5fb0",
   "metadata": {},
   "outputs": [],
   "source": [
    "key1 = driver.find_element(By.XPATH,'/html/body/div[1]/div[3]/form/div[1]/div[1]/div[1]/div/div[2]/textarea')\n",
    "key1.send_keys('fruits')"
   ]
  },
  {
   "cell_type": "code",
   "execution_count": 57,
   "id": "3de19ae9",
   "metadata": {},
   "outputs": [],
   "source": [
    "search = driver.find_element(By.CLASS_NAME,'zgAlFc')\n",
    "search.click()"
   ]
  },
  {
   "cell_type": "code",
   "execution_count": 61,
   "id": "3bb1c4bd",
   "metadata": {},
   "outputs": [],
   "source": [
    "import requests"
   ]
  },
  {
   "cell_type": "code",
   "execution_count": 67,
   "id": "37cbfd04",
   "metadata": {},
   "outputs": [
    {
     "name": "stdout",
     "output_type": "stream",
     "text": [
      "Downloading 0 of 10 images\n",
      "Downloading 1 of 10 images\n",
      "Downloading 2 of 10 images\n",
      "Downloading 3 of 10 images\n",
      "Downloading 4 of 10 images\n",
      "Downloading 5 of 10 images\n",
      "Downloading 6 of 10 images\n",
      "Downloading 7 of 10 images\n",
      "Downloading 8 of 10 images\n",
      "Downloading 9 of 10 images\n",
      "Downloading 10 of 10 images\n"
     ]
    },
    {
     "ename": "NameError",
     "evalue": "name 'breakBy' is not defined",
     "output_type": "error",
     "traceback": [
      "\u001b[1;31m---------------------------------------------------------------------------\u001b[0m",
      "\u001b[1;31mNameError\u001b[0m                                 Traceback (most recent call last)",
      "Cell \u001b[1;32mIn[67], line 16\u001b[0m\n\u001b[0;32m     14\u001b[0m \u001b[38;5;28;01mfor\u001b[39;00m i \u001b[38;5;129;01min\u001b[39;00m \u001b[38;5;28mrange\u001b[39m(\u001b[38;5;28mlen\u001b[39m(img_url)):\n\u001b[0;32m     15\u001b[0m     \u001b[38;5;28;01mif\u001b[39;00m i \u001b[38;5;241m>\u001b[39m\u001b[38;5;241m10\u001b[39m:\n\u001b[1;32m---> 16\u001b[0m         breakBy\u001b[38;5;241m.\u001b[39mXPATH,\n\u001b[0;32m     17\u001b[0m     \u001b[38;5;28mprint\u001b[39m(\u001b[38;5;124m'\u001b[39m\u001b[38;5;124mDownloading \u001b[39m\u001b[38;5;132;01m{0}\u001b[39;00m\u001b[38;5;124m of \u001b[39m\u001b[38;5;132;01m{1}\u001b[39;00m\u001b[38;5;124m images\u001b[39m\u001b[38;5;124m'\u001b[39m\u001b[38;5;241m.\u001b[39mformat(i,\u001b[38;5;241m10\u001b[39m))\n\u001b[0;32m     18\u001b[0m     response \u001b[38;5;241m=\u001b[39m requests\u001b[38;5;241m.\u001b[39mget(img_url[i])\n",
      "\u001b[1;31mNameError\u001b[0m: name 'breakBy' is not defined"
     ]
    }
   ],
   "source": [
    "for _ in range(20):\n",
    "    driver.execute_script(\"window.scrollBy(0,500)\")\n",
    "    \n",
    "    \n",
    "img_url = []\n",
    "images= driver.find_elements(By.XPATH,'//img[@class=\"rg_i Q4LuWd\"]')\n",
    "for img in images:\n",
    "    source = img.get_attribute('src')\n",
    "    if source is not None:\n",
    "        if(source[0:4] == 'http'):\n",
    "            img_url.append(source)\n",
    "            \n",
    "            \n",
    "for i in range(len(img_url)):\n",
    "    if i >10:\n",
    "        breakBy.XPATH,\n",
    "    print('Downloading {0} of {1} images'.format(i,10))\n",
    "    response = requests.get(img_url[i])\n",
    "    file = open(r\"D:\\Intern\"+str(i)+\".jpg\",\"wb\")\n",
    "    file.write(response.content)"
   ]
  },
  {
   "cell_type": "code",
   "execution_count": 70,
   "id": "53c3a0ec",
   "metadata": {},
   "outputs": [],
   "source": [
    "driver.get('https://images.google.com/')"
   ]
  },
  {
   "cell_type": "code",
   "execution_count": 71,
   "id": "5fb6320a",
   "metadata": {},
   "outputs": [],
   "source": [
    "key1 = driver.find_element(By.XPATH,'/html/body/div[1]/div[3]/form/div[1]/div[1]/div[1]/div/div[2]/textarea')\n",
    "key1.send_keys('cars')"
   ]
  },
  {
   "cell_type": "code",
   "execution_count": 72,
   "id": "46e93e0e",
   "metadata": {},
   "outputs": [],
   "source": [
    "search = driver.find_element(By.CLASS_NAME,'zgAlFc')\n",
    "search.click()"
   ]
  },
  {
   "cell_type": "code",
   "execution_count": 73,
   "id": "f1ae5e56",
   "metadata": {},
   "outputs": [
    {
     "name": "stdout",
     "output_type": "stream",
     "text": [
      "Downloading 0 of 10 images\n",
      "Downloading 1 of 10 images\n",
      "Downloading 2 of 10 images\n",
      "Downloading 3 of 10 images\n",
      "Downloading 4 of 10 images\n",
      "Downloading 5 of 10 images\n",
      "Downloading 6 of 10 images\n",
      "Downloading 7 of 10 images\n",
      "Downloading 8 of 10 images\n",
      "Downloading 9 of 10 images\n",
      "Downloading 10 of 10 images\n"
     ]
    },
    {
     "ename": "NameError",
     "evalue": "name 'breakBy' is not defined",
     "output_type": "error",
     "traceback": [
      "\u001b[1;31m---------------------------------------------------------------------------\u001b[0m",
      "\u001b[1;31mNameError\u001b[0m                                 Traceback (most recent call last)",
      "Cell \u001b[1;32mIn[73], line 16\u001b[0m\n\u001b[0;32m     14\u001b[0m \u001b[38;5;28;01mfor\u001b[39;00m i \u001b[38;5;129;01min\u001b[39;00m \u001b[38;5;28mrange\u001b[39m(\u001b[38;5;28mlen\u001b[39m(img_url)):\n\u001b[0;32m     15\u001b[0m     \u001b[38;5;28;01mif\u001b[39;00m i \u001b[38;5;241m>\u001b[39m\u001b[38;5;241m10\u001b[39m:\n\u001b[1;32m---> 16\u001b[0m         breakBy\u001b[38;5;241m.\u001b[39mXPATH,\n\u001b[0;32m     17\u001b[0m     \u001b[38;5;28mprint\u001b[39m(\u001b[38;5;124m'\u001b[39m\u001b[38;5;124mDownloading \u001b[39m\u001b[38;5;132;01m{0}\u001b[39;00m\u001b[38;5;124m of \u001b[39m\u001b[38;5;132;01m{1}\u001b[39;00m\u001b[38;5;124m images\u001b[39m\u001b[38;5;124m'\u001b[39m\u001b[38;5;241m.\u001b[39mformat(i,\u001b[38;5;241m10\u001b[39m))\n\u001b[0;32m     18\u001b[0m     response \u001b[38;5;241m=\u001b[39m requests\u001b[38;5;241m.\u001b[39mget(img_url[i])\n",
      "\u001b[1;31mNameError\u001b[0m: name 'breakBy' is not defined"
     ]
    }
   ],
   "source": [
    "for _ in range(20):\n",
    "    driver.execute_script(\"window.scrollBy(0,500)\")\n",
    "    \n",
    "    \n",
    "img_url = []\n",
    "images= driver.find_elements(By.XPATH,'//img[@class=\"rg_i Q4LuWd\"]')\n",
    "for img in images:\n",
    "    source = img.get_attribute('src')\n",
    "    if source is not None:\n",
    "        if(source[0:4] == 'http'):\n",
    "            img_url.append(source)\n",
    "            \n",
    "            \n",
    "for i in range(len(img_url)):\n",
    "    if i >10:\n",
    "        breakBy.XPATH,\n",
    "    print('Downloading {0} of {1} images'.format(i,10))\n",
    "    response = requests.get(img_url[i])\n",
    "    file = open(r\"D:\\Intern\"+str(i)+\".jpg\",\"wb\")\n",
    "    file.write(response.content)"
   ]
  },
  {
   "cell_type": "code",
   "execution_count": 74,
   "id": "060e49b5",
   "metadata": {},
   "outputs": [],
   "source": [
    "driver.get('https://images.google.com/')"
   ]
  },
  {
   "cell_type": "code",
   "execution_count": 75,
   "id": "4c5ddc26",
   "metadata": {},
   "outputs": [],
   "source": [
    "key1 = driver.find_element(By.XPATH,'/html/body/div[1]/div[3]/form/div[1]/div[1]/div[1]/div/div[2]/textarea')\n",
    "key1.send_keys('Machine Learning')"
   ]
  },
  {
   "cell_type": "code",
   "execution_count": 76,
   "id": "1444df42",
   "metadata": {},
   "outputs": [],
   "source": [
    "search = driver.find_element(By.CLASS_NAME,'zgAlFc')\n",
    "search.click()"
   ]
  },
  {
   "cell_type": "code",
   "execution_count": 77,
   "id": "65e42f29",
   "metadata": {},
   "outputs": [
    {
     "name": "stdout",
     "output_type": "stream",
     "text": [
      "Downloading 0 of 10 images\n",
      "Downloading 1 of 10 images\n",
      "Downloading 2 of 10 images\n",
      "Downloading 3 of 10 images\n",
      "Downloading 4 of 10 images\n",
      "Downloading 5 of 10 images\n",
      "Downloading 6 of 10 images\n",
      "Downloading 7 of 10 images\n",
      "Downloading 8 of 10 images\n",
      "Downloading 9 of 10 images\n",
      "Downloading 10 of 10 images\n"
     ]
    },
    {
     "ename": "NameError",
     "evalue": "name 'breakBy' is not defined",
     "output_type": "error",
     "traceback": [
      "\u001b[1;31m---------------------------------------------------------------------------\u001b[0m",
      "\u001b[1;31mNameError\u001b[0m                                 Traceback (most recent call last)",
      "Cell \u001b[1;32mIn[77], line 16\u001b[0m\n\u001b[0;32m     14\u001b[0m \u001b[38;5;28;01mfor\u001b[39;00m i \u001b[38;5;129;01min\u001b[39;00m \u001b[38;5;28mrange\u001b[39m(\u001b[38;5;28mlen\u001b[39m(img_url)):\n\u001b[0;32m     15\u001b[0m     \u001b[38;5;28;01mif\u001b[39;00m i \u001b[38;5;241m>\u001b[39m\u001b[38;5;241m10\u001b[39m:\n\u001b[1;32m---> 16\u001b[0m         breakBy\u001b[38;5;241m.\u001b[39mXPATH,\n\u001b[0;32m     17\u001b[0m     \u001b[38;5;28mprint\u001b[39m(\u001b[38;5;124m'\u001b[39m\u001b[38;5;124mDownloading \u001b[39m\u001b[38;5;132;01m{0}\u001b[39;00m\u001b[38;5;124m of \u001b[39m\u001b[38;5;132;01m{1}\u001b[39;00m\u001b[38;5;124m images\u001b[39m\u001b[38;5;124m'\u001b[39m\u001b[38;5;241m.\u001b[39mformat(i,\u001b[38;5;241m10\u001b[39m))\n\u001b[0;32m     18\u001b[0m     response \u001b[38;5;241m=\u001b[39m requests\u001b[38;5;241m.\u001b[39mget(img_url[i])\n",
      "\u001b[1;31mNameError\u001b[0m: name 'breakBy' is not defined"
     ]
    }
   ],
   "source": [
    "for _ in range(20):\n",
    "    driver.execute_script(\"window.scrollBy(0,500)\")\n",
    "    \n",
    "    \n",
    "img_url = []\n",
    "images= driver.find_elements(By.XPATH,'//img[@class=\"rg_i Q4LuWd\"]')\n",
    "for img in images:\n",
    "    source = img.get_attribute('src')\n",
    "    if source is not None:\n",
    "        if(source[0:4] == 'http'):\n",
    "            img_url.append(source)\n",
    "            \n",
    "            \n",
    "for i in range(len(img_url)):\n",
    "    if i >10:\n",
    "        breakBy.XPATH,\n",
    "    print('Downloading {0} of {1} images'.format(i,10))\n",
    "    response = requests.get(img_url[i])\n",
    "    file = open(r\"D:\\Intern\"+str(i)+\".jpg\",\"wb\")\n",
    "    file.write(response.content)"
   ]
  },
  {
   "cell_type": "code",
   "execution_count": 78,
   "id": "cc34df8f",
   "metadata": {},
   "outputs": [],
   "source": [
    "driver.get('https://images.google.com/')"
   ]
  },
  {
   "cell_type": "code",
   "execution_count": 79,
   "id": "8572baf1",
   "metadata": {},
   "outputs": [],
   "source": [
    "key1 = driver.find_element(By.XPATH,'/html/body/div[1]/div[3]/form/div[1]/div[1]/div[1]/div/div[2]/textarea')\n",
    "key1.send_keys('Guitar')"
   ]
  },
  {
   "cell_type": "code",
   "execution_count": 80,
   "id": "3bff6237",
   "metadata": {},
   "outputs": [],
   "source": [
    "search = driver.find_element(By.CLASS_NAME,'zgAlFc')\n",
    "search.click()"
   ]
  },
  {
   "cell_type": "code",
   "execution_count": 81,
   "id": "658a56a5",
   "metadata": {},
   "outputs": [
    {
     "name": "stdout",
     "output_type": "stream",
     "text": [
      "Downloading 0 of 10 images\n",
      "Downloading 1 of 10 images\n",
      "Downloading 2 of 10 images\n",
      "Downloading 3 of 10 images\n",
      "Downloading 4 of 10 images\n",
      "Downloading 5 of 10 images\n",
      "Downloading 6 of 10 images\n",
      "Downloading 7 of 10 images\n",
      "Downloading 8 of 10 images\n",
      "Downloading 9 of 10 images\n",
      "Downloading 10 of 10 images\n"
     ]
    },
    {
     "ename": "NameError",
     "evalue": "name 'breakBy' is not defined",
     "output_type": "error",
     "traceback": [
      "\u001b[1;31m---------------------------------------------------------------------------\u001b[0m",
      "\u001b[1;31mNameError\u001b[0m                                 Traceback (most recent call last)",
      "Cell \u001b[1;32mIn[81], line 16\u001b[0m\n\u001b[0;32m     14\u001b[0m \u001b[38;5;28;01mfor\u001b[39;00m i \u001b[38;5;129;01min\u001b[39;00m \u001b[38;5;28mrange\u001b[39m(\u001b[38;5;28mlen\u001b[39m(img_url)):\n\u001b[0;32m     15\u001b[0m     \u001b[38;5;28;01mif\u001b[39;00m i \u001b[38;5;241m>\u001b[39m\u001b[38;5;241m10\u001b[39m:\n\u001b[1;32m---> 16\u001b[0m         breakBy\u001b[38;5;241m.\u001b[39mXPATH,\n\u001b[0;32m     17\u001b[0m     \u001b[38;5;28mprint\u001b[39m(\u001b[38;5;124m'\u001b[39m\u001b[38;5;124mDownloading \u001b[39m\u001b[38;5;132;01m{0}\u001b[39;00m\u001b[38;5;124m of \u001b[39m\u001b[38;5;132;01m{1}\u001b[39;00m\u001b[38;5;124m images\u001b[39m\u001b[38;5;124m'\u001b[39m\u001b[38;5;241m.\u001b[39mformat(i,\u001b[38;5;241m10\u001b[39m))\n\u001b[0;32m     18\u001b[0m     response \u001b[38;5;241m=\u001b[39m requests\u001b[38;5;241m.\u001b[39mget(img_url[i])\n",
      "\u001b[1;31mNameError\u001b[0m: name 'breakBy' is not defined"
     ]
    }
   ],
   "source": [
    "for _ in range(20):\n",
    "    driver.execute_script(\"window.scrollBy(0,500)\")\n",
    "    \n",
    "    \n",
    "img_url = []\n",
    "images= driver.find_elements(By.XPATH,'//img[@class=\"rg_i Q4LuWd\"]')\n",
    "for img in images:\n",
    "    source = img.get_attribute('src')\n",
    "    if source is not None:\n",
    "        if(source[0:4] == 'http'):\n",
    "            img_url.append(source)\n",
    "            \n",
    "            \n",
    "for i in range(len(img_url)):\n",
    "    if i >10:\n",
    "        breakBy.XPATH,\n",
    "    print('Downloading {0} of {1} images'.format(i,10))\n",
    "    response = requests.get(img_url[i])\n",
    "    file = open(r\"D:\\Intern\"+str(i)+\".jpg\",\"wb\")\n",
    "    file.write(response.content)"
   ]
  },
  {
   "cell_type": "code",
   "execution_count": 86,
   "id": "9e4a2842",
   "metadata": {},
   "outputs": [],
   "source": [
    "driver.get('https://images.google.com/')"
   ]
  },
  {
   "cell_type": "code",
   "execution_count": 87,
   "id": "36afd314",
   "metadata": {},
   "outputs": [],
   "source": [
    "key1 = driver.find_element(By.XPATH,'/html/body/div[1]/div[3]/form/div[1]/div[1]/div[1]/div/div[2]/textarea')\n",
    "key1.send_keys('Cakes')"
   ]
  },
  {
   "cell_type": "code",
   "execution_count": 88,
   "id": "4fac7c3f",
   "metadata": {},
   "outputs": [],
   "source": [
    "search = driver.find_element(By.CLASS_NAME,'zgAlFc')\n",
    "search.click()"
   ]
  },
  {
   "cell_type": "code",
   "execution_count": 89,
   "id": "18c6c07c",
   "metadata": {},
   "outputs": [
    {
     "name": "stdout",
     "output_type": "stream",
     "text": [
      "Downloading 0 of 10 images\n",
      "Downloading 1 of 10 images\n",
      "Downloading 2 of 10 images\n",
      "Downloading 3 of 10 images\n",
      "Downloading 4 of 10 images\n",
      "Downloading 5 of 10 images\n",
      "Downloading 6 of 10 images\n",
      "Downloading 7 of 10 images\n",
      "Downloading 8 of 10 images\n",
      "Downloading 9 of 10 images\n",
      "Downloading 10 of 10 images\n"
     ]
    },
    {
     "ename": "NameError",
     "evalue": "name 'breakBy' is not defined",
     "output_type": "error",
     "traceback": [
      "\u001b[1;31m---------------------------------------------------------------------------\u001b[0m",
      "\u001b[1;31mNameError\u001b[0m                                 Traceback (most recent call last)",
      "Cell \u001b[1;32mIn[89], line 16\u001b[0m\n\u001b[0;32m     14\u001b[0m \u001b[38;5;28;01mfor\u001b[39;00m i \u001b[38;5;129;01min\u001b[39;00m \u001b[38;5;28mrange\u001b[39m(\u001b[38;5;28mlen\u001b[39m(img_url)):\n\u001b[0;32m     15\u001b[0m     \u001b[38;5;28;01mif\u001b[39;00m i \u001b[38;5;241m>\u001b[39m\u001b[38;5;241m10\u001b[39m:\n\u001b[1;32m---> 16\u001b[0m         breakBy\u001b[38;5;241m.\u001b[39mXPATH,\n\u001b[0;32m     17\u001b[0m     \u001b[38;5;28mprint\u001b[39m(\u001b[38;5;124m'\u001b[39m\u001b[38;5;124mDownloading \u001b[39m\u001b[38;5;132;01m{0}\u001b[39;00m\u001b[38;5;124m of \u001b[39m\u001b[38;5;132;01m{1}\u001b[39;00m\u001b[38;5;124m images\u001b[39m\u001b[38;5;124m'\u001b[39m\u001b[38;5;241m.\u001b[39mformat(i,\u001b[38;5;241m10\u001b[39m))\n\u001b[0;32m     18\u001b[0m     response \u001b[38;5;241m=\u001b[39m requests\u001b[38;5;241m.\u001b[39mget(img_url[i])\n",
      "\u001b[1;31mNameError\u001b[0m: name 'breakBy' is not defined"
     ]
    }
   ],
   "source": [
    "for _ in range(20):\n",
    "    driver.execute_script(\"window.scrollBy(0,500)\")\n",
    "    \n",
    "    \n",
    "img_url = []\n",
    "images= driver.find_elements(By.XPATH,'//img[@class=\"rg_i Q4LuWd\"]')\n",
    "for img in images:\n",
    "    source = img.get_attribute('src')\n",
    "    if source is not None:\n",
    "        if(source[0:4] == 'http'):\n",
    "            img_url.append(source)\n",
    "            \n",
    "            \n",
    "for i in range(len(img_url)):\n",
    "    if i >10:\n",
    "        breakBy.XPATH,\n",
    "    print('Downloading {0} of {1} images'.format(i,10))\n",
    "    response = requests.get(img_url[i])\n",
    "    file = open(r\"D:\\Intern\"+str(i)+\".jpg\",\"wb\")\n",
    "    file.write(response.content)"
   ]
  },
  {
   "cell_type": "code",
   "execution_count": null,
   "id": "2ad7a1f1",
   "metadata": {},
   "outputs": [],
   "source": []
  },
  {
   "cell_type": "markdown",
   "id": "8198429e",
   "metadata": {},
   "source": [
    "### Q4. Write a python program to search for a smartphone(e.g.: Oneplus Nord, pixel 4A, etc.) on www.flipkart.com\n",
    "and scrape following details for all the search results displayed on 1st page. Details to be scraped: “Brand \n",
    "Name”, “Smartphone name”, “Colour”, “RAM”, “Storage(ROM)”, “Primary Camera”, \n",
    "“Secondary Camera”, “Display Size”, “Battery Capacity”, “Price”, “Product URL”. Incase if any of the \n",
    "details is missing then replace it by “- “. Save your results in a dataframe and CSV. "
   ]
  },
  {
   "cell_type": "code",
   "execution_count": 112,
   "id": "4dbe531c",
   "metadata": {},
   "outputs": [],
   "source": [
    "driver = webdriver.Chrome()"
   ]
  },
  {
   "cell_type": "code",
   "execution_count": 113,
   "id": "bb4baf78",
   "metadata": {},
   "outputs": [],
   "source": [
    "driver.get('https://www.flipkart.com/')"
   ]
  },
  {
   "cell_type": "code",
   "execution_count": 114,
   "id": "f7772b97",
   "metadata": {},
   "outputs": [],
   "source": [
    "search = driver.find_element(By.XPATH,'//div[@class=\"_2SmNnR\"]/input')\n",
    "search.send_keys('Oneplus Nord')"
   ]
  },
  {
   "cell_type": "code",
   "execution_count": 115,
   "id": "482b4317",
   "metadata": {},
   "outputs": [],
   "source": [
    "button = driver.find_element(By.CLASS_NAME,'_2iLD__')\n",
    "button.click()"
   ]
  },
  {
   "cell_type": "code",
   "execution_count": 116,
   "id": "2b88d4a3",
   "metadata": {},
   "outputs": [],
   "source": [
    "url = [] \n",
    "for i in driver.find_elements(By.CLASS_NAME,'_1fQZEK'):\n",
    "    url.append(i.get_attribute('href'))"
   ]
  },
  {
   "cell_type": "code",
   "execution_count": 118,
   "id": "8a1ce361",
   "metadata": {},
   "outputs": [
    {
     "data": {
      "text/plain": [
       "24"
      ]
     },
     "execution_count": 118,
     "metadata": {},
     "output_type": "execute_result"
    }
   ],
   "source": [
    "len(url)"
   ]
  },
  {
   "cell_type": "code",
   "execution_count": 125,
   "id": "25ba5872",
   "metadata": {},
   "outputs": [],
   "source": [
    "Brand_Name = []\n",
    "Smartphone_name = []\n",
    "Colour = []\n",
    "Storage = []\n",
    "Primary_Camera = []\n",
    "Secondary_Camera = []\n",
    "Display_Size = []\n",
    "Battery_Capacity = []\n",
    "Price = []\n",
    "\n",
    "for i in url:\n",
    "    driver.get(i)\n",
    "    time.sleep(4)\n",
    "    \n",
    "    try:\n",
    "        name = driver.find_element(By.XPATH,'/html/body/div[1]/div/div[3]/div[1]/div[2]/div[8]/div[4]/div/div[2]/div/div[1]/table/tbody/tr[3]/td[2]')\n",
    "        Brand_Name.append(name.text)\n",
    "    except NoSuchElementException:\n",
    "        Brand_Name.append('-')\n",
    "    try:\n",
    "        name = driver.find_element(By.CLASS_NAME,'B_NuCI')\n",
    "        Smartphone_name.append(name.text)\n",
    "    except NoSuchElementException:\n",
    "        Smartphone_name.append('-')\n",
    "    try:\n",
    "        name = driver.find_element(By.XPATH,'/html/body/div[1]/div/div[3]/div[1]/div[2]/div[8]/div[4]/div/div[2]/div[1]/div[1]/table/tbody/tr[4]/td[2]/ul/li')\n",
    "        Colour.append(name.text)\n",
    "    except NoSuchElementException:\n",
    "        Colour.append('-')\n",
    "    try:\n",
    "        name = driver.find_element(By.XPATH,'/html/body/div[1]/div/div[3]/div[1]/div[2]/div[7]/div[1]/div/div[2]/ul/li[3]')\n",
    "        Secondary_Camera.append(name.text)\n",
    "    except NoSuchElementException:\n",
    "        Secondary_Camera.append('-')\n",
    "    try:\n",
    "        name = driver.find_element(By.XPATH,'/html/body/div[1]/div/div[3]/div[1]/div[2]/div[7]/div[1]/div/div[2]/ul/li[2]')\n",
    "        Display_Size.append(name.text)\n",
    "    except NoSuchElementException:\n",
    "        Display_Size.append('-')\n",
    "    try:\n",
    "        name = driver.find_element(By.XPATH,'/html/body/div[1]/div/div[3]/div[1]/div[2]/div[7]/div[1]/div/div[2]/ul/li[4]')\n",
    "        Battery_Capacity.append(name.text)\n",
    "    except NoSuchElementException:\n",
    "        Battery_Capacity.append('-')\n",
    "    try:\n",
    "        name = driver.find_element(By.XPATH,'/html/body/div[1]/div/div[3]/div[1]/div[2]/div[2]/div/div[4]/div[1]/div/div[1]')\n",
    "        Price.append(name.text)\n",
    "    except NoSuchElementException:\n",
    "        Price.append('-')"
   ]
  },
  {
   "cell_type": "code",
   "execution_count": 126,
   "id": "e5d61bc9",
   "metadata": {},
   "outputs": [
    {
     "data": {
      "text/plain": [
       "['Nord CE 3 Lite 5G',\n",
       " 'Nord CE 3 Lite 5G',\n",
       " 'Nord CE 3 Lite 5G',\n",
       " 'Nord CE 3 Lite 5G',\n",
       " 'Nord CE3 5G',\n",
       " '-',\n",
       " '-',\n",
       " 'Nord 3 5G',\n",
       " '-',\n",
       " 'Nord CE3 5G',\n",
       " 'Nord 3 5G',\n",
       " '-',\n",
       " 'Nord CE 2 Lite 5G',\n",
       " '-',\n",
       " '-',\n",
       " '-',\n",
       " '-',\n",
       " '-',\n",
       " '-',\n",
       " '-',\n",
       " 'Nord CE 5G',\n",
       " 'Nord CE 5G',\n",
       " '-',\n",
       " 'Nord CE 5G']"
      ]
     },
     "execution_count": 126,
     "metadata": {},
     "output_type": "execute_result"
    }
   ],
   "source": [
    "Brand_Name"
   ]
  },
  {
   "cell_type": "code",
   "execution_count": 127,
   "id": "71fcf64d",
   "metadata": {},
   "outputs": [
    {
     "data": {
      "text/plain": [
       "['OnePlus Nord CE 3 Lite 5G (Pastel Lime, 128 GB)  (8 GB RAM)',\n",
       " 'OnePlus Nord CE 3 Lite 5G (Chromatic Gray, 256 GB)  (8 GB RAM)',\n",
       " 'OnePlus Nord CE 3 Lite 5G (Chromatic Gray, 128 GB)  (8 GB RAM)',\n",
       " 'OnePlus Nord CE 3 Lite 5G (Pastel Lime, 256 GB)  (8 GB RAM)',\n",
       " 'OnePlus Nord CE3 5G (Grey Shimmer, 128 GB)  (8 GB RAM)',\n",
       " 'OnePlus Nord 3 5G (Misty Green, 256 GB)  (16 GB RAM)',\n",
       " 'OnePlus Nord 3 5G (Tempest Gray, 256 GB)  (16 GB RAM)',\n",
       " 'OnePlus Nord 3 5G (Misty Green, 128 GB)  (8 GB RAM)',\n",
       " 'OnePlus Nord CE3 5G (Grey Shimmer, 256 GB)  (12 GB RAM)',\n",
       " 'OnePlus Nord CE3 5G (Aqua Surge, 128 GB)  (8 GB RAM)',\n",
       " 'OnePlus Nord 3 5G (Tempest Gray, 128 GB)  (8 GB RAM)',\n",
       " 'OnePlus Nord CE3 5G (Aqua Surge, 256 GB)  (12 GB RAM)',\n",
       " 'OnePlus Nord CE 2 Lite 5G (Blue Tide, 128 GB)  (6 GB RAM)',\n",
       " 'OnePlus Nord CE 2 Lite 5G (Black Dusk, 128 GB)  (6 GB RAM)',\n",
       " 'OnePlus Nord CE 2 5G (Bahama Blue, 128 GB)  (8 GB RAM)',\n",
       " 'OnePlus Nord CE 2 5G (Bahama Blue, 128 GB)  (8 GB RAM)',\n",
       " 'OnePlus Nord CE 2 5G (Bahama Blue, 128 GB)  (8 GB RAM)',\n",
       " 'OnePlus Nord CE 5G (Charcoal Ink, 128 GB)  (6 GB RAM)',\n",
       " 'OnePlus Nord 2T 5G (Gray Shadow, 128 GB)  (8 GB RAM)',\n",
       " 'OnePlus Nord CE 5G (Blue Void, 256 GB)  (12 GB RAM)',\n",
       " 'OnePlus Nord CE 5G (Silver Ray, 256 GB)  (12 GB RAM)',\n",
       " 'OnePlus Nord CE 5G (Charcoal Ink, 256 GB)  (12 GB RAM)',\n",
       " 'OnePlus Nord 2T 5G (Gray Shadow, 128 GB)  (8 GB RAM)',\n",
       " 'OnePlus Nord CE 5G (Charcoal Ink, 128 GB)  (8 GB RAM)']"
      ]
     },
     "execution_count": 127,
     "metadata": {},
     "output_type": "execute_result"
    }
   ],
   "source": [
    "Smartphone_name"
   ]
  },
  {
   "cell_type": "code",
   "execution_count": 128,
   "id": "9302a876",
   "metadata": {},
   "outputs": [
    {
     "data": {
      "text/plain": [
       "['Pastel Lime',\n",
       " 'Chromatic Gray',\n",
       " 'Chromatic Gray',\n",
       " 'Pastel Lime',\n",
       " 'Grey Shimmer',\n",
       " '-',\n",
       " '-',\n",
       " 'Misty Green',\n",
       " '-',\n",
       " 'Aqua Surge',\n",
       " 'Tempest Gray',\n",
       " '-',\n",
       " 'Blue Tide',\n",
       " '-',\n",
       " '-',\n",
       " '-',\n",
       " '-',\n",
       " '-',\n",
       " '-',\n",
       " '-',\n",
       " 'Silver Ray',\n",
       " 'Charcoal Ink',\n",
       " '-',\n",
       " 'Charcoal Ink']"
      ]
     },
     "execution_count": 128,
     "metadata": {},
     "output_type": "execute_result"
    }
   ],
   "source": [
    "Colour"
   ]
  },
  {
   "cell_type": "code",
   "execution_count": 130,
   "id": "1ef3f0f3",
   "metadata": {},
   "outputs": [
    {
     "data": {
      "text/plain": [
       "['108MP Rear Camera',\n",
       " '108MP Rear Camera',\n",
       " '108MP Rear Camera',\n",
       " '108MP Rear Camera',\n",
       " '50MP Rear Camera',\n",
       " '50MP Rear Camera',\n",
       " '50MP Rear Camera',\n",
       " '50MP Rear Camera',\n",
       " '50MP Rear Camera',\n",
       " '50MP Rear Camera | 16MP Front Camera',\n",
       " '50MP Rear Camera',\n",
       " '50MP Rear Camera',\n",
       " '64MP Rear Camera | 16MP Front Camera',\n",
       " '64MP Rear Camera | 16MP Front Camera',\n",
       " '-',\n",
       " '64MP Rear Camera',\n",
       " '-',\n",
       " '64MP Rear Camera',\n",
       " '-',\n",
       " '64MP Rear Camera',\n",
       " '64MP Rear Camera | 32MP Front Camera',\n",
       " '64MP Rear Camera',\n",
       " '-',\n",
       " '64MP Rear Camera']"
      ]
     },
     "execution_count": 130,
     "metadata": {},
     "output_type": "execute_result"
    }
   ],
   "source": [
    "Secondary_Camera"
   ]
  },
  {
   "cell_type": "code",
   "execution_count": 131,
   "id": "c1ecf4a8",
   "metadata": {},
   "outputs": [
    {
     "data": {
      "text/plain": [
       "['17.07 cm (6.72 inch) Display',\n",
       " '17.07 cm (6.72 inch) Display',\n",
       " '17.07 cm (6.72 inch) Display',\n",
       " '17.07 cm (6.72 inch) Display',\n",
       " '17.02 cm (6.7 inch) Display',\n",
       " '17.12 cm (6.74 inch) Display',\n",
       " '17.12 cm (6.74 inch) Display',\n",
       " '17.12 cm (6.74 inch) Display',\n",
       " '17.02 cm (6.7 inch) Display',\n",
       " '17.02 cm (6.7 inch) Display',\n",
       " '17.12 cm (6.74 inch) Full HD+ Display',\n",
       " '17.02 cm (6.7 inch) Display',\n",
       " '16.74 cm (6.59 inch) Display',\n",
       " '16.74 cm (6.59 inch) Display',\n",
       " '-',\n",
       " '16.33 cm (6.43 inch) Display',\n",
       " '-',\n",
       " '16.33 cm (6.43 inch) Display',\n",
       " '-',\n",
       " '16.33 cm (6.43 inch) Display',\n",
       " '16.33 cm (6.43 inch) Display',\n",
       " '16.33 cm (6.43 inch) Display',\n",
       " '-',\n",
       " '16.33 cm (6.43 inch) Display']"
      ]
     },
     "execution_count": 131,
     "metadata": {},
     "output_type": "execute_result"
    }
   ],
   "source": [
    "Display_Size"
   ]
  },
  {
   "cell_type": "code",
   "execution_count": 132,
   "id": "a2ff8d62",
   "metadata": {},
   "outputs": [
    {
     "data": {
      "text/plain": [
       "['5000 mAh Battery',\n",
       " '5000 mAh Battery',\n",
       " '5000 mAh Battery',\n",
       " '5000 mAh Battery',\n",
       " '5000 mAh Battery',\n",
       " '5000 mAh Battery',\n",
       " '5000 mAh Battery',\n",
       " '5000 mAh Battery',\n",
       " '5000 mAh Battery',\n",
       " '5000 mAh Battery',\n",
       " '5000 mAh Battery',\n",
       " '5000 mAh Battery',\n",
       " '5000 mAh Battery',\n",
       " '5000 mAh Battery',\n",
       " '-',\n",
       " '4500 mAh Battery',\n",
       " '-',\n",
       " '4500 mAh Battery',\n",
       " '-',\n",
       " '4500 mAh Battery',\n",
       " '4500 mAh Battery',\n",
       " '4500 mAh Battery',\n",
       " '-',\n",
       " '4500 mAh Battery']"
      ]
     },
     "execution_count": 132,
     "metadata": {},
     "output_type": "execute_result"
    }
   ],
   "source": [
    "Battery_Capacity"
   ]
  },
  {
   "cell_type": "code",
   "execution_count": 133,
   "id": "dba2de95",
   "metadata": {},
   "outputs": [
    {
     "data": {
      "text/plain": [
       "['₹17,759',\n",
       " '₹19,893',\n",
       " '-',\n",
       " '-',\n",
       " '-',\n",
       " '-',\n",
       " '₹36,000',\n",
       " '₹26,803',\n",
       " '-',\n",
       " '-',\n",
       " '₹26,350',\n",
       " '-',\n",
       " '-',\n",
       " '-',\n",
       " '-',\n",
       " '₹23,495',\n",
       " '-',\n",
       " '-',\n",
       " '-',\n",
       " '₹21,999',\n",
       " '-',\n",
       " '-',\n",
       " '-',\n",
       " '-']"
      ]
     },
     "execution_count": 133,
     "metadata": {},
     "output_type": "execute_result"
    }
   ],
   "source": [
    "Price"
   ]
  },
  {
   "cell_type": "code",
   "execution_count": 134,
   "id": "b806b9d9",
   "metadata": {},
   "outputs": [
    {
     "data": {
      "text/plain": [
       "['https://www.flipkart.com/oneplus-nord-ce-3-lite-5g-pastel-lime-128-gb/p/itm2cd5a4e659035?pid=MOBGZJ3WM5SGTGVZ&lid=LSTMOBGZJ3WM5SGTGVZIOJLVZ&marketplace=FLIPKART&q=Oneplus+Nord&store=tyy%2F4io&srno=s_1_1&otracker=search&otracker1=search&fm=organic&iid=a63f92e0-2e3a-4e29-b5f2-6a0babf24704.MOBGZJ3WM5SGTGVZ.SEARCH&ppt=hp&ppn=homepage&ssid=1m9jak86fk0000001710925904744&qH=53863d4d978d5074',\n",
       " 'https://www.flipkart.com/oneplus-nord-ce-3-lite-5g-chromatic-gray-256-gb/p/itm2cd5a4e659035?pid=MOBGZJ45PS4AQ7BA&lid=LSTMOBGZJ45PS4AQ7BAN94SX1&marketplace=FLIPKART&q=Oneplus+Nord&store=tyy%2F4io&spotlightTagId=BestsellerId_tyy%2F4io&srno=s_1_2&otracker=search&otracker1=search&fm=Search&iid=a63f92e0-2e3a-4e29-b5f2-6a0babf24704.MOBGZJ45PS4AQ7BA.SEARCH&ppt=sp&ppn=sp&ssid=1m9jak86fk0000001710925904744&qH=53863d4d978d5074',\n",
       " 'https://www.flipkart.com/oneplus-nord-ce-3-lite-5g-chromatic-gray-128-gb/p/itm2cd5a4e659035?pid=MOBGZJ42KHUZZKMN&lid=LSTMOBGZJ42KHUZZKMNCOKTRW&marketplace=FLIPKART&q=Oneplus+Nord&store=tyy%2F4io&spotlightTagId=BestsellerId_tyy%2F4io&srno=s_1_3&otracker=search&otracker1=search&fm=Search&iid=a63f92e0-2e3a-4e29-b5f2-6a0babf24704.MOBGZJ42KHUZZKMN.SEARCH&ppt=sp&ppn=sp&ssid=1m9jak86fk0000001710925904744&qH=53863d4d978d5074',\n",
       " 'https://www.flipkart.com/oneplus-nord-ce-3-lite-5g-pastel-lime-256-gb/p/itm2cd5a4e659035?pid=MOBGZJ3ZFQ8AKKRS&lid=LSTMOBGZJ3ZFQ8AKKRS5BKTBN&marketplace=FLIPKART&q=Oneplus+Nord&store=tyy%2F4io&srno=s_1_4&otracker=search&otracker1=search&fm=organic&iid=a63f92e0-2e3a-4e29-b5f2-6a0babf24704.MOBGZJ3ZFQ8AKKRS.SEARCH&ppt=hp&ppn=homepage&ssid=1m9jak86fk0000001710925904744&qH=53863d4d978d5074',\n",
       " 'https://www.flipkart.com/oneplus-nord-ce3-5g-grey-shimmer-128-gb/p/itm95b25bfcca817?pid=MOBGS44NJJVFWSHU&lid=LSTMOBGS44NJJVFWSHULHQZIC&marketplace=FLIPKART&q=Oneplus+Nord&store=tyy%2F4io&srno=s_1_5&otracker=search&otracker1=search&fm=organic&iid=a63f92e0-2e3a-4e29-b5f2-6a0babf24704.MOBGS44NJJVFWSHU.SEARCH&ppt=hp&ppn=homepage&ssid=1m9jak86fk0000001710925904744&qH=53863d4d978d5074',\n",
       " 'https://www.flipkart.com/oneplus-nord-3-5g-misty-green-256-gb/p/itm5fc87afce35dc?pid=MOBGRK3284RMGYSX&lid=LSTMOBGRK3284RMGYSXGW6X0U&marketplace=FLIPKART&q=Oneplus+Nord&store=tyy%2F4io&srno=s_1_6&otracker=search&otracker1=search&fm=organic&iid=a63f92e0-2e3a-4e29-b5f2-6a0babf24704.MOBGRK3284RMGYSX.SEARCH&ppt=hp&ppn=homepage&ssid=1m9jak86fk0000001710925904744&qH=53863d4d978d5074',\n",
       " 'https://www.flipkart.com/oneplus-nord-3-5g-tempest-gray-256-gb/p/itm5fc87afce35dc?pid=MOBGRK35QGGTMTZ3&lid=LSTMOBGRK35QGGTMTZ3WDSRAQ&marketplace=FLIPKART&q=Oneplus+Nord&store=tyy%2F4io&srno=s_1_7&otracker=search&otracker1=search&fm=organic&iid=a63f92e0-2e3a-4e29-b5f2-6a0babf24704.MOBGRK35QGGTMTZ3.SEARCH&ppt=hp&ppn=homepage&ssid=1m9jak86fk0000001710925904744&qH=53863d4d978d5074',\n",
       " 'https://www.flipkart.com/oneplus-nord-3-5g-misty-green-128-gb/p/itm5fc87afce35dc?pid=MOBGRKA2GBGGS6QZ&lid=LSTMOBGRKA2GBGGS6QZPZZXGK&marketplace=FLIPKART&q=Oneplus+Nord&store=tyy%2F4io&srno=s_1_8&otracker=search&otracker1=search&fm=organic&iid=a63f92e0-2e3a-4e29-b5f2-6a0babf24704.MOBGRKA2GBGGS6QZ.SEARCH&ppt=hp&ppn=homepage&ssid=1m9jak86fk0000001710925904744&qH=53863d4d978d5074',\n",
       " 'https://www.flipkart.com/oneplus-nord-ce3-5g-grey-shimmer-256-gb/p/itm95b25bfcca817?pid=MOBGS452TWGEZXMC&lid=LSTMOBGS452TWGEZXMCYYFEES&marketplace=FLIPKART&q=Oneplus+Nord&store=tyy%2F4io&srno=s_1_9&otracker=search&otracker1=search&fm=organic&iid=a63f92e0-2e3a-4e29-b5f2-6a0babf24704.MOBGS452TWGEZXMC.SEARCH&ppt=hp&ppn=homepage&ssid=1m9jak86fk0000001710925904744&qH=53863d4d978d5074',\n",
       " 'https://www.flipkart.com/oneplus-nord-ce3-5g-aqua-surge-128-gb/p/itm95b25bfcca817?pid=MOBGS44DBDZBTUWS&lid=LSTMOBGS44DBDZBTUWSC7CTTF&marketplace=FLIPKART&q=Oneplus+Nord&store=tyy%2F4io&srno=s_1_10&otracker=search&otracker1=search&fm=organic&iid=a63f92e0-2e3a-4e29-b5f2-6a0babf24704.MOBGS44DBDZBTUWS.SEARCH&ppt=hp&ppn=homepage&ssid=1m9jak86fk0000001710925904744&qH=53863d4d978d5074',\n",
       " 'https://www.flipkart.com/oneplus-nord-3-5g-tempest-gray-128-gb/p/itm5fc87afce35dc?pid=MOBGRK2VXCKBADB5&lid=LSTMOBGRK2VXCKBADB5NBABIH&marketplace=FLIPKART&q=Oneplus+Nord&store=tyy%2F4io&srno=s_1_11&otracker=search&otracker1=search&fm=organic&iid=a63f92e0-2e3a-4e29-b5f2-6a0babf24704.MOBGRK2VXCKBADB5.SEARCH&ppt=hp&ppn=homepage&ssid=1m9jak86fk0000001710925904744&qH=53863d4d978d5074',\n",
       " 'https://www.flipkart.com/oneplus-nord-ce3-5g-aqua-surge-256-gb/p/itm95b25bfcca817?pid=MOBGS45CEU4ZGYWY&lid=LSTMOBGS45CEU4ZGYWYOJ8TR2&marketplace=FLIPKART&q=Oneplus+Nord&store=tyy%2F4io&srno=s_1_12&otracker=search&otracker1=search&fm=organic&iid=a63f92e0-2e3a-4e29-b5f2-6a0babf24704.MOBGS45CEU4ZGYWY.SEARCH&ppt=hp&ppn=homepage&ssid=1m9jak86fk0000001710925904744&qH=53863d4d978d5074',\n",
       " 'https://www.flipkart.com/oneplus-nord-ce-2-lite-5g-blue-tide-128-gb/p/itm7acae55b999e6?pid=MOBGMFREBAHZQGY9&lid=LSTMOBGMFREBAHZQGY9VVMSXT&marketplace=FLIPKART&q=Oneplus+Nord&store=tyy%2F4io&srno=s_1_13&otracker=search&otracker1=search&fm=organic&iid=a63f92e0-2e3a-4e29-b5f2-6a0babf24704.MOBGMFREBAHZQGY9.SEARCH&ppt=hp&ppn=homepage&ssid=1m9jak86fk0000001710925904744&qH=53863d4d978d5074',\n",
       " 'https://www.flipkart.com/oneplus-nord-ce-2-lite-5g-black-dusk-128-gb/p/itm537fc2aa73747?pid=MOBGHBZHB7YJT5HF&lid=LSTMOBGHBZHB7YJT5HFKVN7QW&marketplace=FLIPKART&q=Oneplus+Nord&store=tyy%2F4io&srno=s_1_14&otracker=search&otracker1=search&fm=organic&iid=a63f92e0-2e3a-4e29-b5f2-6a0babf24704.MOBGHBZHB7YJT5HF.SEARCH&ppt=hp&ppn=homepage&ssid=1m9jak86fk0000001710925904744&qH=53863d4d978d5074',\n",
       " 'https://www.flipkart.com/oneplus-nord-ce-2-5g-bahama-blue-128-gb/p/itm2a9883679c57c?pid=MOBGHHZ2CKB5D4WU&lid=LSTMOBGHHZ2CKB5D4WUSVEMWB&marketplace=FLIPKART&q=Oneplus+Nord&store=tyy%2F4io&srno=s_1_15&otracker=search&otracker1=search&fm=organic&iid=a63f92e0-2e3a-4e29-b5f2-6a0babf24704.MOBGHHZ2CKB5D4WU.SEARCH&ppt=hp&ppn=homepage&ssid=1m9jak86fk0000001710925904744&qH=53863d4d978d5074',\n",
       " 'https://www.flipkart.com/oneplus-nord-ce-2-5g-bahama-blue-128-gb/p/itm2a9883679c57c?pid=MOBGJMUH64MTF6PK&lid=LSTMOBGJMUH64MTF6PKNK4ESK&marketplace=FLIPKART&q=Oneplus+Nord&store=tyy%2F4io&srno=s_1_16&otracker=search&otracker1=search&fm=organic&iid=a63f92e0-2e3a-4e29-b5f2-6a0babf24704.MOBGJMUH64MTF6PK.SEARCH&ppt=hp&ppn=homepage&ssid=1m9jak86fk0000001710925904744&qH=53863d4d978d5074',\n",
       " 'https://www.flipkart.com/oneplus-nord-ce-2-5g-bahama-blue-128-gb/p/itm2a9883679c57c?pid=MOBGDBYGG6PPNFD9&lid=LSTMOBGDBYGG6PPNFD98KK2DS&marketplace=FLIPKART&q=Oneplus+Nord&store=tyy%2F4io&srno=s_1_17&otracker=search&otracker1=search&fm=organic&iid=a63f92e0-2e3a-4e29-b5f2-6a0babf24704.MOBGDBYGG6PPNFD9.SEARCH&ppt=hp&ppn=homepage&ssid=1m9jak86fk0000001710925904744&qH=53863d4d978d5074',\n",
       " 'https://www.flipkart.com/oneplus-nord-ce-5g-charcoal-ink-128-gb/p/itmc4c02029d9c90?pid=MOBGDM46BMYENNJN&lid=LSTMOBGDM46BMYENNJNCW89EK&marketplace=FLIPKART&q=Oneplus+Nord&store=tyy%2F4io&srno=s_1_18&otracker=search&otracker1=search&fm=organic&iid=a63f92e0-2e3a-4e29-b5f2-6a0babf24704.MOBGDM46BMYENNJN.SEARCH&ppt=hp&ppn=homepage&ssid=1m9jak86fk0000001710925904744&qH=53863d4d978d5074',\n",
       " 'https://www.flipkart.com/oneplus-nord-2t-5g-gray-shadow-128-gb/p/itmd6fae876845b9?pid=MOBGZKM5XBXSJYZT&lid=LSTMOBGZKM5XBXSJYZTF1NRRP&marketplace=FLIPKART&q=Oneplus+Nord&store=tyy%2F4io&srno=s_1_19&otracker=search&otracker1=search&fm=organic&iid=a63f92e0-2e3a-4e29-b5f2-6a0babf24704.MOBGZKM5XBXSJYZT.SEARCH&ppt=hp&ppn=homepage&ssid=1m9jak86fk0000001710925904744&qH=53863d4d978d5074',\n",
       " 'https://www.flipkart.com/oneplus-nord-ce-5g-blue-void-256-gb/p/itmc4c02029d9c90?pid=MOBGDTZ8HJVDQZSN&lid=LSTMOBGDTZ8HJVDQZSNB1FV9C&marketplace=FLIPKART&q=Oneplus+Nord&store=tyy%2F4io&srno=s_1_20&otracker=search&otracker1=search&fm=organic&iid=a63f92e0-2e3a-4e29-b5f2-6a0babf24704.MOBGDTZ8HJVDQZSN.SEARCH&ppt=hp&ppn=homepage&ssid=1m9jak86fk0000001710925904744&qH=53863d4d978d5074',\n",
       " 'https://www.flipkart.com/oneplus-nord-ce-5g-silver-ray-256-gb/p/itmc4c02029d9c90?pid=MOBGDM5SUVH9VMZD&lid=LSTMOBGDM5SUVH9VMZDY5EIHE&marketplace=FLIPKART&q=Oneplus+Nord&store=tyy%2F4io&srno=s_1_21&otracker=search&otracker1=search&fm=organic&iid=a63f92e0-2e3a-4e29-b5f2-6a0babf24704.MOBGDM5SUVH9VMZD.SEARCH&ppt=hp&ppn=homepage&ssid=1m9jak86fk0000001710925904744&qH=53863d4d978d5074',\n",
       " 'https://www.flipkart.com/oneplus-nord-ce-5g-charcoal-ink-256-gb/p/itmc4c02029d9c90?pid=MOBGDM4JGS4AUQRN&lid=LSTMOBGDM4JGS4AUQRNUQ0NTQ&marketplace=FLIPKART&q=Oneplus+Nord&store=tyy%2F4io&srno=s_1_22&otracker=search&otracker1=search&fm=organic&iid=a63f92e0-2e3a-4e29-b5f2-6a0babf24704.MOBGDM4JGS4AUQRN.SEARCH&ppt=hp&ppn=homepage&ssid=1m9jak86fk0000001710925904744&qH=53863d4d978d5074',\n",
       " 'https://www.flipkart.com/oneplus-nord-2t-5g-gray-shadow-128-gb/p/itmeadf76c1e8943?pid=MOBGHBZH2S8MWQGQ&lid=LSTMOBGHBZH2S8MWQGQZRWMI2&marketplace=FLIPKART&q=Oneplus+Nord&store=tyy%2F4io&srno=s_1_23&otracker=search&otracker1=search&fm=organic&iid=a63f92e0-2e3a-4e29-b5f2-6a0babf24704.MOBGHBZH2S8MWQGQ.SEARCH&ppt=hp&ppn=homepage&ssid=1m9jak86fk0000001710925904744&qH=53863d4d978d5074',\n",
       " 'https://www.flipkart.com/oneplus-nord-ce-5g-charcoal-ink-128-gb/p/itmc4c02029d9c90?pid=MOBGDM4D6RNZR2SA&lid=LSTMOBGDM4D6RNZR2SAXPMT6U&marketplace=FLIPKART&q=Oneplus+Nord&store=tyy%2F4io&srno=s_1_24&otracker=search&otracker1=search&fm=organic&iid=a63f92e0-2e3a-4e29-b5f2-6a0babf24704.MOBGDM4D6RNZR2SA.SEARCH&ppt=hp&ppn=homepage&ssid=1m9jak86fk0000001710925904744&qH=53863d4d978d5074']"
      ]
     },
     "execution_count": 134,
     "metadata": {},
     "output_type": "execute_result"
    }
   ],
   "source": [
    "url"
   ]
  },
  {
   "cell_type": "code",
   "execution_count": 142,
   "id": "f90d7520",
   "metadata": {},
   "outputs": [
    {
     "name": "stdout",
     "output_type": "stream",
     "text": [
      "-\n",
      "-\n",
      "-\n",
      "-\n",
      "-\n",
      "-\n",
      "-\n",
      "-\n",
      "-\n",
      "-\n",
      "-\n",
      "-\n"
     ]
    }
   ],
   "source": [
    "storage = []\n",
    "RAM = []\n",
    "primary_camera = []\n",
    "\n",
    "\n",
    "for i in url:\n",
    "    driver.get(i)\n",
    "    time.sleep(10)\n",
    "    \n",
    "    try:\n",
    "        reads = driver.find_element(By.XPATH,'/html/body/div[1]/div/div[3]/div[1]/div[2]/div[8]/div[4]/div/div[2]/button')\n",
    "        reads.click()\n",
    "    except NoSuchElementException:\n",
    "        print('-')\n",
    "    try:\n",
    "        name = driver.find_element(By.XPATH,'/html/body/div[1]/div/div[3]/div[1]/div[2]/div[8]/div[4]/div/div[2]/div[1]/div[4]/table/tbody/tr[1]/td[2]/ul/li')\n",
    "        storage.append(name.text)\n",
    "    except NoSuchElementException:\n",
    "        storage.append('-')\n",
    "    try:\n",
    "        name = driver.find_element(By.XPATH,'/html/body/div[1]/div/div[3]/div[1]/div[2]/div[8]/div[4]/div/div[2]/div[1]/div[4]/table/tbody/tr[2]/td[2]/ul/li')\n",
    "        RAM.append(name.text)\n",
    "    except NoSuchElementException:\n",
    "        RAM.append('-')\n",
    "    try:\n",
    "        name = driver.find_element(By.XPATH,'/html/body/div[1]/div/div[3]/div[1]/div[2]/div[8]/div[4]/div/div[2]/div[1]/div[5]/table/tbody/tr[1]/td[2]/ul/li')\n",
    "        primary_camera.append(name.text)\n",
    "    except NoSuchElementException:\n",
    "        primary_camera.append('-')"
   ]
  },
  {
   "cell_type": "code",
   "execution_count": 147,
   "id": "7eab2d50",
   "metadata": {},
   "outputs": [
    {
     "data": {
      "text/plain": [
       "['128 GB',\n",
       " '256 GB',\n",
       " '128 GB',\n",
       " '256 GB',\n",
       " '128 GB',\n",
       " '-',\n",
       " '-',\n",
       " '128 GB',\n",
       " '-',\n",
       " '128 GB',\n",
       " '128 GB',\n",
       " '-',\n",
       " '128 GB',\n",
       " '-',\n",
       " '-',\n",
       " '-',\n",
       " '-',\n",
       " '-',\n",
       " '-',\n",
       " '-',\n",
       " '256 GB',\n",
       " '256 GB',\n",
       " '-',\n",
       " '128 GB']"
      ]
     },
     "execution_count": 147,
     "metadata": {},
     "output_type": "execute_result"
    }
   ],
   "source": [
    "storage"
   ]
  },
  {
   "cell_type": "code",
   "execution_count": 145,
   "id": "90b02f70",
   "metadata": {},
   "outputs": [
    {
     "data": {
      "text/plain": [
       "['8 GB',\n",
       " '8 GB',\n",
       " '8 GB',\n",
       " '8 GB',\n",
       " '8 GB',\n",
       " '-',\n",
       " '-',\n",
       " '8 GB',\n",
       " '-',\n",
       " '8 GB',\n",
       " '8 GB',\n",
       " '-',\n",
       " '6 GB',\n",
       " '-',\n",
       " '-',\n",
       " '-',\n",
       " '-',\n",
       " '-',\n",
       " '-',\n",
       " '-',\n",
       " '12 GB',\n",
       " '12 GB',\n",
       " '-',\n",
       " '8 GB']"
      ]
     },
     "execution_count": 145,
     "metadata": {},
     "output_type": "execute_result"
    }
   ],
   "source": [
    "RAM"
   ]
  },
  {
   "cell_type": "code",
   "execution_count": 146,
   "id": "799d396f",
   "metadata": {},
   "outputs": [
    {
     "data": {
      "text/plain": [
       "['108MP Rear Camera',\n",
       " '108MP Rear Camera',\n",
       " '108MP Rear Camera',\n",
       " '108MP Rear Camera',\n",
       " '50MP Rear Camera',\n",
       " '-',\n",
       " '-',\n",
       " '50MP Rear Camera',\n",
       " '-',\n",
       " '50MP Rear Camera',\n",
       " 'Yes',\n",
       " '-',\n",
       " '64MP Rear Camera',\n",
       " '-',\n",
       " '-',\n",
       " '-',\n",
       " '-',\n",
       " '-',\n",
       " '-',\n",
       " '-',\n",
       " '64MP Rear Camera',\n",
       " '64MP Rear Camera',\n",
       " '-',\n",
       " '64MP Rear Camera']"
      ]
     },
     "execution_count": 146,
     "metadata": {},
     "output_type": "execute_result"
    }
   ],
   "source": [
    "primary_camera"
   ]
  },
  {
   "cell_type": "code",
   "execution_count": 150,
   "id": "d020423e",
   "metadata": {},
   "outputs": [],
   "source": [
    "df = pd.DataFrame({'Brand_Name':Brand_Name,'Smartphone_name':Smartphone_name,'Colour':Colour,'RAM':RAM,'storage':storage,'primary_camera':primary_camera,'Secondary_Camera':Secondary_Camera,'Display_Size':Display_Size,'Battery_Capacity':Battery_Capacity,'Price':Price,'url':url})"
   ]
  },
  {
   "cell_type": "code",
   "execution_count": 151,
   "id": "a82c01ea",
   "metadata": {},
   "outputs": [
    {
     "data": {
      "text/html": [
       "<div>\n",
       "<style scoped>\n",
       "    .dataframe tbody tr th:only-of-type {\n",
       "        vertical-align: middle;\n",
       "    }\n",
       "\n",
       "    .dataframe tbody tr th {\n",
       "        vertical-align: top;\n",
       "    }\n",
       "\n",
       "    .dataframe thead th {\n",
       "        text-align: right;\n",
       "    }\n",
       "</style>\n",
       "<table border=\"1\" class=\"dataframe\">\n",
       "  <thead>\n",
       "    <tr style=\"text-align: right;\">\n",
       "      <th></th>\n",
       "      <th>Brand_Name</th>\n",
       "      <th>Smartphone_name</th>\n",
       "      <th>Colour</th>\n",
       "      <th>RAM</th>\n",
       "      <th>storage</th>\n",
       "      <th>primary_camera</th>\n",
       "      <th>Secondary_Camera</th>\n",
       "      <th>Display_Size</th>\n",
       "      <th>Battery_Capacity</th>\n",
       "      <th>Price</th>\n",
       "      <th>url</th>\n",
       "    </tr>\n",
       "  </thead>\n",
       "  <tbody>\n",
       "    <tr>\n",
       "      <th>0</th>\n",
       "      <td>Nord CE 3 Lite 5G</td>\n",
       "      <td>OnePlus Nord CE 3 Lite 5G (Pastel Lime, 128 GB...</td>\n",
       "      <td>Pastel Lime</td>\n",
       "      <td>8 GB</td>\n",
       "      <td>128 GB</td>\n",
       "      <td>108MP Rear Camera</td>\n",
       "      <td>108MP Rear Camera</td>\n",
       "      <td>17.07 cm (6.72 inch) Display</td>\n",
       "      <td>5000 mAh Battery</td>\n",
       "      <td>₹17,759</td>\n",
       "      <td>https://www.flipkart.com/oneplus-nord-ce-3-lit...</td>\n",
       "    </tr>\n",
       "    <tr>\n",
       "      <th>1</th>\n",
       "      <td>Nord CE 3 Lite 5G</td>\n",
       "      <td>OnePlus Nord CE 3 Lite 5G (Chromatic Gray, 256...</td>\n",
       "      <td>Chromatic Gray</td>\n",
       "      <td>8 GB</td>\n",
       "      <td>256 GB</td>\n",
       "      <td>108MP Rear Camera</td>\n",
       "      <td>108MP Rear Camera</td>\n",
       "      <td>17.07 cm (6.72 inch) Display</td>\n",
       "      <td>5000 mAh Battery</td>\n",
       "      <td>₹19,893</td>\n",
       "      <td>https://www.flipkart.com/oneplus-nord-ce-3-lit...</td>\n",
       "    </tr>\n",
       "    <tr>\n",
       "      <th>2</th>\n",
       "      <td>Nord CE 3 Lite 5G</td>\n",
       "      <td>OnePlus Nord CE 3 Lite 5G (Chromatic Gray, 128...</td>\n",
       "      <td>Chromatic Gray</td>\n",
       "      <td>8 GB</td>\n",
       "      <td>128 GB</td>\n",
       "      <td>108MP Rear Camera</td>\n",
       "      <td>108MP Rear Camera</td>\n",
       "      <td>17.07 cm (6.72 inch) Display</td>\n",
       "      <td>5000 mAh Battery</td>\n",
       "      <td>-</td>\n",
       "      <td>https://www.flipkart.com/oneplus-nord-ce-3-lit...</td>\n",
       "    </tr>\n",
       "    <tr>\n",
       "      <th>3</th>\n",
       "      <td>Nord CE 3 Lite 5G</td>\n",
       "      <td>OnePlus Nord CE 3 Lite 5G (Pastel Lime, 256 GB...</td>\n",
       "      <td>Pastel Lime</td>\n",
       "      <td>8 GB</td>\n",
       "      <td>256 GB</td>\n",
       "      <td>108MP Rear Camera</td>\n",
       "      <td>108MP Rear Camera</td>\n",
       "      <td>17.07 cm (6.72 inch) Display</td>\n",
       "      <td>5000 mAh Battery</td>\n",
       "      <td>-</td>\n",
       "      <td>https://www.flipkart.com/oneplus-nord-ce-3-lit...</td>\n",
       "    </tr>\n",
       "    <tr>\n",
       "      <th>4</th>\n",
       "      <td>Nord CE3 5G</td>\n",
       "      <td>OnePlus Nord CE3 5G (Grey Shimmer, 128 GB)  (8...</td>\n",
       "      <td>Grey Shimmer</td>\n",
       "      <td>8 GB</td>\n",
       "      <td>128 GB</td>\n",
       "      <td>50MP Rear Camera</td>\n",
       "      <td>50MP Rear Camera</td>\n",
       "      <td>17.02 cm (6.7 inch) Display</td>\n",
       "      <td>5000 mAh Battery</td>\n",
       "      <td>-</td>\n",
       "      <td>https://www.flipkart.com/oneplus-nord-ce3-5g-g...</td>\n",
       "    </tr>\n",
       "    <tr>\n",
       "      <th>5</th>\n",
       "      <td>-</td>\n",
       "      <td>OnePlus Nord 3 5G (Misty Green, 256 GB)  (16 G...</td>\n",
       "      <td>-</td>\n",
       "      <td>-</td>\n",
       "      <td>-</td>\n",
       "      <td>-</td>\n",
       "      <td>50MP Rear Camera</td>\n",
       "      <td>17.12 cm (6.74 inch) Display</td>\n",
       "      <td>5000 mAh Battery</td>\n",
       "      <td>-</td>\n",
       "      <td>https://www.flipkart.com/oneplus-nord-3-5g-mis...</td>\n",
       "    </tr>\n",
       "    <tr>\n",
       "      <th>6</th>\n",
       "      <td>-</td>\n",
       "      <td>OnePlus Nord 3 5G (Tempest Gray, 256 GB)  (16 ...</td>\n",
       "      <td>-</td>\n",
       "      <td>-</td>\n",
       "      <td>-</td>\n",
       "      <td>-</td>\n",
       "      <td>50MP Rear Camera</td>\n",
       "      <td>17.12 cm (6.74 inch) Display</td>\n",
       "      <td>5000 mAh Battery</td>\n",
       "      <td>₹36,000</td>\n",
       "      <td>https://www.flipkart.com/oneplus-nord-3-5g-tem...</td>\n",
       "    </tr>\n",
       "    <tr>\n",
       "      <th>7</th>\n",
       "      <td>Nord 3 5G</td>\n",
       "      <td>OnePlus Nord 3 5G (Misty Green, 128 GB)  (8 GB...</td>\n",
       "      <td>Misty Green</td>\n",
       "      <td>8 GB</td>\n",
       "      <td>128 GB</td>\n",
       "      <td>50MP Rear Camera</td>\n",
       "      <td>50MP Rear Camera</td>\n",
       "      <td>17.12 cm (6.74 inch) Display</td>\n",
       "      <td>5000 mAh Battery</td>\n",
       "      <td>₹26,803</td>\n",
       "      <td>https://www.flipkart.com/oneplus-nord-3-5g-mis...</td>\n",
       "    </tr>\n",
       "    <tr>\n",
       "      <th>8</th>\n",
       "      <td>-</td>\n",
       "      <td>OnePlus Nord CE3 5G (Grey Shimmer, 256 GB)  (1...</td>\n",
       "      <td>-</td>\n",
       "      <td>-</td>\n",
       "      <td>-</td>\n",
       "      <td>-</td>\n",
       "      <td>50MP Rear Camera</td>\n",
       "      <td>17.02 cm (6.7 inch) Display</td>\n",
       "      <td>5000 mAh Battery</td>\n",
       "      <td>-</td>\n",
       "      <td>https://www.flipkart.com/oneplus-nord-ce3-5g-g...</td>\n",
       "    </tr>\n",
       "    <tr>\n",
       "      <th>9</th>\n",
       "      <td>Nord CE3 5G</td>\n",
       "      <td>OnePlus Nord CE3 5G (Aqua Surge, 128 GB)  (8 G...</td>\n",
       "      <td>Aqua Surge</td>\n",
       "      <td>8 GB</td>\n",
       "      <td>128 GB</td>\n",
       "      <td>50MP Rear Camera</td>\n",
       "      <td>50MP Rear Camera | 16MP Front Camera</td>\n",
       "      <td>17.02 cm (6.7 inch) Display</td>\n",
       "      <td>5000 mAh Battery</td>\n",
       "      <td>-</td>\n",
       "      <td>https://www.flipkart.com/oneplus-nord-ce3-5g-a...</td>\n",
       "    </tr>\n",
       "    <tr>\n",
       "      <th>10</th>\n",
       "      <td>Nord 3 5G</td>\n",
       "      <td>OnePlus Nord 3 5G (Tempest Gray, 128 GB)  (8 G...</td>\n",
       "      <td>Tempest Gray</td>\n",
       "      <td>8 GB</td>\n",
       "      <td>128 GB</td>\n",
       "      <td>Yes</td>\n",
       "      <td>50MP Rear Camera</td>\n",
       "      <td>17.12 cm (6.74 inch) Full HD+ Display</td>\n",
       "      <td>5000 mAh Battery</td>\n",
       "      <td>₹26,350</td>\n",
       "      <td>https://www.flipkart.com/oneplus-nord-3-5g-tem...</td>\n",
       "    </tr>\n",
       "    <tr>\n",
       "      <th>11</th>\n",
       "      <td>-</td>\n",
       "      <td>OnePlus Nord CE3 5G (Aqua Surge, 256 GB)  (12 ...</td>\n",
       "      <td>-</td>\n",
       "      <td>-</td>\n",
       "      <td>-</td>\n",
       "      <td>-</td>\n",
       "      <td>50MP Rear Camera</td>\n",
       "      <td>17.02 cm (6.7 inch) Display</td>\n",
       "      <td>5000 mAh Battery</td>\n",
       "      <td>-</td>\n",
       "      <td>https://www.flipkart.com/oneplus-nord-ce3-5g-a...</td>\n",
       "    </tr>\n",
       "    <tr>\n",
       "      <th>12</th>\n",
       "      <td>Nord CE 2 Lite 5G</td>\n",
       "      <td>OnePlus Nord CE 2 Lite 5G (Blue Tide, 128 GB) ...</td>\n",
       "      <td>Blue Tide</td>\n",
       "      <td>6 GB</td>\n",
       "      <td>128 GB</td>\n",
       "      <td>64MP Rear Camera</td>\n",
       "      <td>64MP Rear Camera | 16MP Front Camera</td>\n",
       "      <td>16.74 cm (6.59 inch) Display</td>\n",
       "      <td>5000 mAh Battery</td>\n",
       "      <td>-</td>\n",
       "      <td>https://www.flipkart.com/oneplus-nord-ce-2-lit...</td>\n",
       "    </tr>\n",
       "    <tr>\n",
       "      <th>13</th>\n",
       "      <td>-</td>\n",
       "      <td>OnePlus Nord CE 2 Lite 5G (Black Dusk, 128 GB)...</td>\n",
       "      <td>-</td>\n",
       "      <td>-</td>\n",
       "      <td>-</td>\n",
       "      <td>-</td>\n",
       "      <td>64MP Rear Camera | 16MP Front Camera</td>\n",
       "      <td>16.74 cm (6.59 inch) Display</td>\n",
       "      <td>5000 mAh Battery</td>\n",
       "      <td>-</td>\n",
       "      <td>https://www.flipkart.com/oneplus-nord-ce-2-lit...</td>\n",
       "    </tr>\n",
       "    <tr>\n",
       "      <th>14</th>\n",
       "      <td>-</td>\n",
       "      <td>OnePlus Nord CE 2 5G (Bahama Blue, 128 GB)  (8...</td>\n",
       "      <td>-</td>\n",
       "      <td>-</td>\n",
       "      <td>-</td>\n",
       "      <td>-</td>\n",
       "      <td>-</td>\n",
       "      <td>-</td>\n",
       "      <td>-</td>\n",
       "      <td>-</td>\n",
       "      <td>https://www.flipkart.com/oneplus-nord-ce-2-5g-...</td>\n",
       "    </tr>\n",
       "    <tr>\n",
       "      <th>15</th>\n",
       "      <td>-</td>\n",
       "      <td>OnePlus Nord CE 2 5G (Bahama Blue, 128 GB)  (8...</td>\n",
       "      <td>-</td>\n",
       "      <td>-</td>\n",
       "      <td>-</td>\n",
       "      <td>-</td>\n",
       "      <td>64MP Rear Camera</td>\n",
       "      <td>16.33 cm (6.43 inch) Display</td>\n",
       "      <td>4500 mAh Battery</td>\n",
       "      <td>₹23,495</td>\n",
       "      <td>https://www.flipkart.com/oneplus-nord-ce-2-5g-...</td>\n",
       "    </tr>\n",
       "    <tr>\n",
       "      <th>16</th>\n",
       "      <td>-</td>\n",
       "      <td>OnePlus Nord CE 2 5G (Bahama Blue, 128 GB)  (8...</td>\n",
       "      <td>-</td>\n",
       "      <td>-</td>\n",
       "      <td>-</td>\n",
       "      <td>-</td>\n",
       "      <td>-</td>\n",
       "      <td>-</td>\n",
       "      <td>-</td>\n",
       "      <td>-</td>\n",
       "      <td>https://www.flipkart.com/oneplus-nord-ce-2-5g-...</td>\n",
       "    </tr>\n",
       "    <tr>\n",
       "      <th>17</th>\n",
       "      <td>-</td>\n",
       "      <td>OnePlus Nord CE 5G (Charcoal Ink, 128 GB)  (6 ...</td>\n",
       "      <td>-</td>\n",
       "      <td>-</td>\n",
       "      <td>-</td>\n",
       "      <td>-</td>\n",
       "      <td>64MP Rear Camera</td>\n",
       "      <td>16.33 cm (6.43 inch) Display</td>\n",
       "      <td>4500 mAh Battery</td>\n",
       "      <td>-</td>\n",
       "      <td>https://www.flipkart.com/oneplus-nord-ce-5g-ch...</td>\n",
       "    </tr>\n",
       "    <tr>\n",
       "      <th>18</th>\n",
       "      <td>-</td>\n",
       "      <td>OnePlus Nord 2T 5G (Gray Shadow, 128 GB)  (8 G...</td>\n",
       "      <td>-</td>\n",
       "      <td>-</td>\n",
       "      <td>-</td>\n",
       "      <td>-</td>\n",
       "      <td>-</td>\n",
       "      <td>-</td>\n",
       "      <td>-</td>\n",
       "      <td>-</td>\n",
       "      <td>https://www.flipkart.com/oneplus-nord-2t-5g-gr...</td>\n",
       "    </tr>\n",
       "    <tr>\n",
       "      <th>19</th>\n",
       "      <td>-</td>\n",
       "      <td>OnePlus Nord CE 5G (Blue Void, 256 GB)  (12 GB...</td>\n",
       "      <td>-</td>\n",
       "      <td>-</td>\n",
       "      <td>-</td>\n",
       "      <td>-</td>\n",
       "      <td>64MP Rear Camera</td>\n",
       "      <td>16.33 cm (6.43 inch) Display</td>\n",
       "      <td>4500 mAh Battery</td>\n",
       "      <td>₹21,999</td>\n",
       "      <td>https://www.flipkart.com/oneplus-nord-ce-5g-bl...</td>\n",
       "    </tr>\n",
       "    <tr>\n",
       "      <th>20</th>\n",
       "      <td>Nord CE 5G</td>\n",
       "      <td>OnePlus Nord CE 5G (Silver Ray, 256 GB)  (12 G...</td>\n",
       "      <td>Silver Ray</td>\n",
       "      <td>12 GB</td>\n",
       "      <td>256 GB</td>\n",
       "      <td>64MP Rear Camera</td>\n",
       "      <td>64MP Rear Camera | 32MP Front Camera</td>\n",
       "      <td>16.33 cm (6.43 inch) Display</td>\n",
       "      <td>4500 mAh Battery</td>\n",
       "      <td>-</td>\n",
       "      <td>https://www.flipkart.com/oneplus-nord-ce-5g-si...</td>\n",
       "    </tr>\n",
       "    <tr>\n",
       "      <th>21</th>\n",
       "      <td>Nord CE 5G</td>\n",
       "      <td>OnePlus Nord CE 5G (Charcoal Ink, 256 GB)  (12...</td>\n",
       "      <td>Charcoal Ink</td>\n",
       "      <td>12 GB</td>\n",
       "      <td>256 GB</td>\n",
       "      <td>64MP Rear Camera</td>\n",
       "      <td>64MP Rear Camera</td>\n",
       "      <td>16.33 cm (6.43 inch) Display</td>\n",
       "      <td>4500 mAh Battery</td>\n",
       "      <td>-</td>\n",
       "      <td>https://www.flipkart.com/oneplus-nord-ce-5g-ch...</td>\n",
       "    </tr>\n",
       "    <tr>\n",
       "      <th>22</th>\n",
       "      <td>-</td>\n",
       "      <td>OnePlus Nord 2T 5G (Gray Shadow, 128 GB)  (8 G...</td>\n",
       "      <td>-</td>\n",
       "      <td>-</td>\n",
       "      <td>-</td>\n",
       "      <td>-</td>\n",
       "      <td>-</td>\n",
       "      <td>-</td>\n",
       "      <td>-</td>\n",
       "      <td>-</td>\n",
       "      <td>https://www.flipkart.com/oneplus-nord-2t-5g-gr...</td>\n",
       "    </tr>\n",
       "    <tr>\n",
       "      <th>23</th>\n",
       "      <td>Nord CE 5G</td>\n",
       "      <td>OnePlus Nord CE 5G (Charcoal Ink, 128 GB)  (8 ...</td>\n",
       "      <td>Charcoal Ink</td>\n",
       "      <td>8 GB</td>\n",
       "      <td>128 GB</td>\n",
       "      <td>64MP Rear Camera</td>\n",
       "      <td>64MP Rear Camera</td>\n",
       "      <td>16.33 cm (6.43 inch) Display</td>\n",
       "      <td>4500 mAh Battery</td>\n",
       "      <td>-</td>\n",
       "      <td>https://www.flipkart.com/oneplus-nord-ce-5g-ch...</td>\n",
       "    </tr>\n",
       "  </tbody>\n",
       "</table>\n",
       "</div>"
      ],
      "text/plain": [
       "           Brand_Name                                    Smartphone_name  \\\n",
       "0   Nord CE 3 Lite 5G  OnePlus Nord CE 3 Lite 5G (Pastel Lime, 128 GB...   \n",
       "1   Nord CE 3 Lite 5G  OnePlus Nord CE 3 Lite 5G (Chromatic Gray, 256...   \n",
       "2   Nord CE 3 Lite 5G  OnePlus Nord CE 3 Lite 5G (Chromatic Gray, 128...   \n",
       "3   Nord CE 3 Lite 5G  OnePlus Nord CE 3 Lite 5G (Pastel Lime, 256 GB...   \n",
       "4         Nord CE3 5G  OnePlus Nord CE3 5G (Grey Shimmer, 128 GB)  (8...   \n",
       "5                   -  OnePlus Nord 3 5G (Misty Green, 256 GB)  (16 G...   \n",
       "6                   -  OnePlus Nord 3 5G (Tempest Gray, 256 GB)  (16 ...   \n",
       "7           Nord 3 5G  OnePlus Nord 3 5G (Misty Green, 128 GB)  (8 GB...   \n",
       "8                   -  OnePlus Nord CE3 5G (Grey Shimmer, 256 GB)  (1...   \n",
       "9         Nord CE3 5G  OnePlus Nord CE3 5G (Aqua Surge, 128 GB)  (8 G...   \n",
       "10          Nord 3 5G  OnePlus Nord 3 5G (Tempest Gray, 128 GB)  (8 G...   \n",
       "11                  -  OnePlus Nord CE3 5G (Aqua Surge, 256 GB)  (12 ...   \n",
       "12  Nord CE 2 Lite 5G  OnePlus Nord CE 2 Lite 5G (Blue Tide, 128 GB) ...   \n",
       "13                  -  OnePlus Nord CE 2 Lite 5G (Black Dusk, 128 GB)...   \n",
       "14                  -  OnePlus Nord CE 2 5G (Bahama Blue, 128 GB)  (8...   \n",
       "15                  -  OnePlus Nord CE 2 5G (Bahama Blue, 128 GB)  (8...   \n",
       "16                  -  OnePlus Nord CE 2 5G (Bahama Blue, 128 GB)  (8...   \n",
       "17                  -  OnePlus Nord CE 5G (Charcoal Ink, 128 GB)  (6 ...   \n",
       "18                  -  OnePlus Nord 2T 5G (Gray Shadow, 128 GB)  (8 G...   \n",
       "19                  -  OnePlus Nord CE 5G (Blue Void, 256 GB)  (12 GB...   \n",
       "20         Nord CE 5G  OnePlus Nord CE 5G (Silver Ray, 256 GB)  (12 G...   \n",
       "21         Nord CE 5G  OnePlus Nord CE 5G (Charcoal Ink, 256 GB)  (12...   \n",
       "22                  -  OnePlus Nord 2T 5G (Gray Shadow, 128 GB)  (8 G...   \n",
       "23         Nord CE 5G  OnePlus Nord CE 5G (Charcoal Ink, 128 GB)  (8 ...   \n",
       "\n",
       "            Colour    RAM storage     primary_camera  \\\n",
       "0      Pastel Lime   8 GB  128 GB  108MP Rear Camera   \n",
       "1   Chromatic Gray   8 GB  256 GB  108MP Rear Camera   \n",
       "2   Chromatic Gray   8 GB  128 GB  108MP Rear Camera   \n",
       "3      Pastel Lime   8 GB  256 GB  108MP Rear Camera   \n",
       "4     Grey Shimmer   8 GB  128 GB   50MP Rear Camera   \n",
       "5                -      -       -                  -   \n",
       "6                -      -       -                  -   \n",
       "7      Misty Green   8 GB  128 GB   50MP Rear Camera   \n",
       "8                -      -       -                  -   \n",
       "9       Aqua Surge   8 GB  128 GB   50MP Rear Camera   \n",
       "10    Tempest Gray   8 GB  128 GB                Yes   \n",
       "11               -      -       -                  -   \n",
       "12       Blue Tide   6 GB  128 GB   64MP Rear Camera   \n",
       "13               -      -       -                  -   \n",
       "14               -      -       -                  -   \n",
       "15               -      -       -                  -   \n",
       "16               -      -       -                  -   \n",
       "17               -      -       -                  -   \n",
       "18               -      -       -                  -   \n",
       "19               -      -       -                  -   \n",
       "20      Silver Ray  12 GB  256 GB   64MP Rear Camera   \n",
       "21    Charcoal Ink  12 GB  256 GB   64MP Rear Camera   \n",
       "22               -      -       -                  -   \n",
       "23    Charcoal Ink   8 GB  128 GB   64MP Rear Camera   \n",
       "\n",
       "                        Secondary_Camera  \\\n",
       "0                      108MP Rear Camera   \n",
       "1                      108MP Rear Camera   \n",
       "2                      108MP Rear Camera   \n",
       "3                      108MP Rear Camera   \n",
       "4                       50MP Rear Camera   \n",
       "5                       50MP Rear Camera   \n",
       "6                       50MP Rear Camera   \n",
       "7                       50MP Rear Camera   \n",
       "8                       50MP Rear Camera   \n",
       "9   50MP Rear Camera | 16MP Front Camera   \n",
       "10                      50MP Rear Camera   \n",
       "11                      50MP Rear Camera   \n",
       "12  64MP Rear Camera | 16MP Front Camera   \n",
       "13  64MP Rear Camera | 16MP Front Camera   \n",
       "14                                     -   \n",
       "15                      64MP Rear Camera   \n",
       "16                                     -   \n",
       "17                      64MP Rear Camera   \n",
       "18                                     -   \n",
       "19                      64MP Rear Camera   \n",
       "20  64MP Rear Camera | 32MP Front Camera   \n",
       "21                      64MP Rear Camera   \n",
       "22                                     -   \n",
       "23                      64MP Rear Camera   \n",
       "\n",
       "                             Display_Size  Battery_Capacity    Price  \\\n",
       "0            17.07 cm (6.72 inch) Display  5000 mAh Battery  ₹17,759   \n",
       "1            17.07 cm (6.72 inch) Display  5000 mAh Battery  ₹19,893   \n",
       "2            17.07 cm (6.72 inch) Display  5000 mAh Battery        -   \n",
       "3            17.07 cm (6.72 inch) Display  5000 mAh Battery        -   \n",
       "4             17.02 cm (6.7 inch) Display  5000 mAh Battery        -   \n",
       "5            17.12 cm (6.74 inch) Display  5000 mAh Battery        -   \n",
       "6            17.12 cm (6.74 inch) Display  5000 mAh Battery  ₹36,000   \n",
       "7            17.12 cm (6.74 inch) Display  5000 mAh Battery  ₹26,803   \n",
       "8             17.02 cm (6.7 inch) Display  5000 mAh Battery        -   \n",
       "9             17.02 cm (6.7 inch) Display  5000 mAh Battery        -   \n",
       "10  17.12 cm (6.74 inch) Full HD+ Display  5000 mAh Battery  ₹26,350   \n",
       "11            17.02 cm (6.7 inch) Display  5000 mAh Battery        -   \n",
       "12           16.74 cm (6.59 inch) Display  5000 mAh Battery        -   \n",
       "13           16.74 cm (6.59 inch) Display  5000 mAh Battery        -   \n",
       "14                                      -                 -        -   \n",
       "15           16.33 cm (6.43 inch) Display  4500 mAh Battery  ₹23,495   \n",
       "16                                      -                 -        -   \n",
       "17           16.33 cm (6.43 inch) Display  4500 mAh Battery        -   \n",
       "18                                      -                 -        -   \n",
       "19           16.33 cm (6.43 inch) Display  4500 mAh Battery  ₹21,999   \n",
       "20           16.33 cm (6.43 inch) Display  4500 mAh Battery        -   \n",
       "21           16.33 cm (6.43 inch) Display  4500 mAh Battery        -   \n",
       "22                                      -                 -        -   \n",
       "23           16.33 cm (6.43 inch) Display  4500 mAh Battery        -   \n",
       "\n",
       "                                                  url  \n",
       "0   https://www.flipkart.com/oneplus-nord-ce-3-lit...  \n",
       "1   https://www.flipkart.com/oneplus-nord-ce-3-lit...  \n",
       "2   https://www.flipkart.com/oneplus-nord-ce-3-lit...  \n",
       "3   https://www.flipkart.com/oneplus-nord-ce-3-lit...  \n",
       "4   https://www.flipkart.com/oneplus-nord-ce3-5g-g...  \n",
       "5   https://www.flipkart.com/oneplus-nord-3-5g-mis...  \n",
       "6   https://www.flipkart.com/oneplus-nord-3-5g-tem...  \n",
       "7   https://www.flipkart.com/oneplus-nord-3-5g-mis...  \n",
       "8   https://www.flipkart.com/oneplus-nord-ce3-5g-g...  \n",
       "9   https://www.flipkart.com/oneplus-nord-ce3-5g-a...  \n",
       "10  https://www.flipkart.com/oneplus-nord-3-5g-tem...  \n",
       "11  https://www.flipkart.com/oneplus-nord-ce3-5g-a...  \n",
       "12  https://www.flipkart.com/oneplus-nord-ce-2-lit...  \n",
       "13  https://www.flipkart.com/oneplus-nord-ce-2-lit...  \n",
       "14  https://www.flipkart.com/oneplus-nord-ce-2-5g-...  \n",
       "15  https://www.flipkart.com/oneplus-nord-ce-2-5g-...  \n",
       "16  https://www.flipkart.com/oneplus-nord-ce-2-5g-...  \n",
       "17  https://www.flipkart.com/oneplus-nord-ce-5g-ch...  \n",
       "18  https://www.flipkart.com/oneplus-nord-2t-5g-gr...  \n",
       "19  https://www.flipkart.com/oneplus-nord-ce-5g-bl...  \n",
       "20  https://www.flipkart.com/oneplus-nord-ce-5g-si...  \n",
       "21  https://www.flipkart.com/oneplus-nord-ce-5g-ch...  \n",
       "22  https://www.flipkart.com/oneplus-nord-2t-5g-gr...  \n",
       "23  https://www.flipkart.com/oneplus-nord-ce-5g-ch...  "
      ]
     },
     "execution_count": 151,
     "metadata": {},
     "output_type": "execute_result"
    }
   ],
   "source": [
    "df"
   ]
  },
  {
   "cell_type": "code",
   "execution_count": 152,
   "id": "757dba1f",
   "metadata": {},
   "outputs": [],
   "source": [
    "df.to_csv('mobile_description')"
   ]
  },
  {
   "cell_type": "markdown",
   "id": "a956215e",
   "metadata": {},
   "source": [
    "### Q5. Write a program to scrap geospatial coordinates (latitude, longitude) of a city searched on google maps. "
   ]
  },
  {
   "cell_type": "code",
   "execution_count": 346,
   "id": "596f9646",
   "metadata": {},
   "outputs": [],
   "source": [
    "import requests\n",
    "from bs4 import BeautifulSoup\n",
    "import re"
   ]
  },
  {
   "cell_type": "code",
   "execution_count": 347,
   "id": "12bb8e41",
   "metadata": {},
   "outputs": [],
   "source": [
    "driver = webdriver.Chrome()\n"
   ]
  },
  {
   "cell_type": "code",
   "execution_count": 348,
   "id": "b42154a3",
   "metadata": {},
   "outputs": [
    {
     "name": "stdout",
     "output_type": "stream",
     "text": [
      "Enter City Name : GURGAON\n"
     ]
    }
   ],
   "source": [
    "driver.get(\"https://www.google.co.in/maps\")\n",
    "time.sleep(3)\n",
    "\n",
    "city = input('Enter City Name : ')                                         # Enter city to be searched\n",
    "search = driver.find_element(By.XPATH,'//input[@class=\"searchboxinput xiQnY\"]')                       # locating search bar\n",
    "search.clear()                                                             # clearing search bar\n",
    "time.sleep(2)\n",
    "search.send_keys(city)                                                     # entering values in search bar\n",
    "button = driver.find_element(By.CLASS_NAME,\"google-symbols\")               # locating search button\n",
    "button.click()                                                             # clicking search button\n",
    "time.sleep(3)"
   ]
  },
  {
   "cell_type": "code",
   "execution_count": 350,
   "id": "fc6f10d6",
   "metadata": {},
   "outputs": [
    {
     "name": "stdout",
     "output_type": "stream",
     "text": [
      "Latitude = 28.4228583, Longitude = 76.8249356\n"
     ]
    }
   ],
   "source": [
    "try:\n",
    "    url_string = driver.current_url\n",
    "    lat_lng = re.findall(r'@(.*)data',url_string)\n",
    "    if len(lat_lng):\n",
    "        lat_lng_list = lat_lng[0].split(\",\")\n",
    "        if len(lat_lng_list)>=2:\n",
    "            lat = lat_lng_list[0]\n",
    "            lng = lat_lng_list[1]\n",
    "        print(\"Latitude = {}, Longitude = {}\".format(lat, lng))\n",
    "\n",
    "except Exception as e:\n",
    "        print(\"Error: \", str(e))"
   ]
  },
  {
   "cell_type": "markdown",
   "id": "dd8beb98",
   "metadata": {},
   "source": [
    "## Q 6). Write a program to scrap all the available details of best gaming laptops from digit.in. \n"
   ]
  },
  {
   "cell_type": "code",
   "execution_count": 20,
   "id": "61ee4142",
   "metadata": {},
   "outputs": [],
   "source": [
    "driver = webdriver.Chrome()"
   ]
  },
  {
   "cell_type": "code",
   "execution_count": 21,
   "id": "00a4f27f",
   "metadata": {},
   "outputs": [],
   "source": [
    "driver.get('https://www.digit.in/')"
   ]
  },
  {
   "cell_type": "code",
   "execution_count": 23,
   "id": "55341065",
   "metadata": {},
   "outputs": [],
   "source": [
    "a = driver.find_element(By.XPATH,'/html/body/div[1]/header/div/div[2]/div/div/div/div/button')\n",
    "a.click()"
   ]
  },
  {
   "cell_type": "code",
   "execution_count": 25,
   "id": "e3e1d535",
   "metadata": {},
   "outputs": [],
   "source": [
    "b = driver.find_element(By.XPATH,'/html/body/div[6]/div/form/input[1]')\n",
    "b.send_keys('gaming laptop')"
   ]
  },
  {
   "cell_type": "code",
   "execution_count": 28,
   "id": "26d335cb",
   "metadata": {},
   "outputs": [],
   "source": [
    "c = driver.find_element(By.XPATH,'/html/body/div[6]/div/form/button')\n",
    "c.click()"
   ]
  },
  {
   "cell_type": "code",
   "execution_count": 66,
   "id": "d7f31a2f",
   "metadata": {},
   "outputs": [],
   "source": [
    "link = []\n",
    "start = 0\n",
    "end = 4\n",
    "for page in range(start,end):\n",
    "    url= driver.find_elements(By.XPATH,'//a[@class=\"img-centered-flex rh-flex-justify-center rh-flex-center-align\"]')\n",
    "    for i in url:\n",
    "        link.append(i.get_attribute('href'))\n",
    "    next_button = driver.find_element(By.XPATH,'//ul[@class=\"page-numbers\"]/li[5]')\n",
    "    next_button.click()\n",
    "    time.sleep(5)"
   ]
  },
  {
   "cell_type": "code",
   "execution_count": 78,
   "id": "7218173e",
   "metadata": {},
   "outputs": [
    {
     "data": {
      "text/plain": [
       "['https://www.digit.in/laptops/dell-g15-5520-gaming-laptop-price.html',\n",
       " 'https://www.digit.in/laptops/acer-aspire-5-gaming-laptop-a514-56gm-price.html',\n",
       " 'https://www.digit.in/laptops/acer-nitro-5-gaming-laptop-an515-58-price.html',\n",
       " 'https://www.digit.in/laptops/acer-predator-helios-neo-16-gaming-laptop-phn16-71-price.html',\n",
       " 'https://www.digit.in/laptops/hp-omen-gaming-laptop-16-wf0055tx-price.html',\n",
       " 'https://www.digit.in/laptops/hp-victus-gaming-laptop-15-fb1001ax-price.html',\n",
       " 'https://www.digit.in/laptops/hp-victus-gaming-laptop-15-fa1145tx-price.html',\n",
       " 'https://www.digit.in/laptops/acer-nitro-v-gaming-laptop-anv15-51-price.html',\n",
       " 'https://www.digit.in/laptops/hp-omen-gaming-laptop-16-xd0007ax.html',\n",
       " 'https://www.digit.in/laptops/dell-g15-5520-gaming-laptop.html',\n",
       " 'https://www.digit.in/laptops/acer-predator-helios-neo-16-gaming-laptop.html',\n",
       " 'https://www.digit.in/laptops/hp-omen-gaming-laptop-xf0060ax.html',\n",
       " 'https://www.digit.in/laptops/dell-alienware-m16-r1-gaming-laptop-price-350853.html',\n",
       " 'https://www.digit.in/laptops/hp-omen-gaming-laptop-16-wd0880tx-price.html',\n",
       " 'https://www.digit.in/laptops/dell-alienware-x14-r2-gaming-laptop-price-350232.html',\n",
       " 'https://www.digit.in/laptops/hp-victus-gaming-laptop-16-r0075tx-price-349620.html',\n",
       " 'https://www.digit.in/laptops/alienware-x14-gaming-laptop-price-318804.html',\n",
       " 'https://www.digit.in/laptops/asus-tuf-gaming-laptop-fx506li-hn270t-price-256693.html',\n",
       " 'https://www.digit.in/laptops/lenovo-ideapad-gaming-3-11th-gen-core-i5-11320h-82k101l7in-price-350430.html',\n",
       " 'https://www.digit.in/laptops/lenovo-ideapad-gaming-3-15iah7-price-341574.html',\n",
       " 'https://www.digit.in/laptops/asus-tuf-gaming-f15-fx507ze-hn038w-12th-gen-core-i7-12700h-2022-price-324167.html',\n",
       " 'https://www.digit.in/laptops/lenovo-ideapad-gaming-3i-price-319434.html',\n",
       " 'https://www.digit.in/laptops/lenovo-ideapad-gaming-3-82k201ugin-ryzen-5-5600h-2022-price-311185.html',\n",
       " 'https://www.digit.in/laptops/msi-gaming-raider-ge76-12th-gen-core-i9-12900hk-2022-price-287791.html',\n",
       " 'https://www.digit.in/laptops/lenovo-legion-7-ryzen-9-5900hx-2022-price-288225.html',\n",
       " 'https://www.digit.in/laptops/dell-15-2021-i5-10200h-price-287917.html',\n",
       " 'https://www.digit.in/laptops/dell-new-alienware-x15-r2-12th-gen-core-i7-12700h-2022-price-286643.html',\n",
       " 'https://www.digit.in/laptops/hp-pavillion-15-ryzen-5-4600h-2022-price-284319.html',\n",
       " 'https://www.digit.in/laptops/dell-inspiron-15-athlon-gold-7220u-price-346146.html',\n",
       " 'https://www.digit.in/laptops/acer-predator-helios-300-ph315-53-10th-gen-core-i7-10870h-price-345750.html',\n",
       " 'https://www.digit.in/laptops/asus-rog-zephyrus-g14-ga401qe-k2166ts-ryzen-9-5900hs-2022-price-317709.html',\n",
       " 'https://www.digit.in/laptops/lenovo-legion-7-ryzen-9-5900hx-2022-price-288225.html',\n",
       " 'https://www.digit.in/laptops/dell-15-2021-i5-10200h-price-287917.html',\n",
       " 'https://www.digit.in/laptops/dell-new-alienware-x15-r2-12th-gen-core-i7-12700h-2022-price-286643.html',\n",
       " 'https://www.digit.in/laptops/hp-pavillion-15-ryzen-5-4600h-2022-price-284319.html',\n",
       " 'https://www.digit.in/laptops/dell-inspiron-15-athlon-gold-7220u-price-346146.html',\n",
       " 'https://www.digit.in/laptops/acer-predator-helios-300-ph315-53-10th-gen-core-i7-10870h-price-345750.html',\n",
       " 'https://www.digit.in/laptops/asus-rog-zephyrus-g14-ga401qe-k2166ts-ryzen-9-5900hs-2022-price-317709.html']"
      ]
     },
     "execution_count": 78,
     "metadata": {},
     "output_type": "execute_result"
    }
   ],
   "source": [
    "link"
   ]
  },
  {
   "cell_type": "code",
   "execution_count": 79,
   "id": "1e91f19c",
   "metadata": {},
   "outputs": [],
   "source": [
    "Laptop_Name = []\n",
    "O_S = []\n",
    "display = []\n",
    "processor = []\n",
    "storage = []\n",
    "price = []\n",
    "\n",
    "for i in link:\n",
    "    driver.get(i)\n",
    "    time.sleep(8) \n",
    "    name = driver.find_elements(By.XPATH,'/html/body/div[2]/div[3]/div[1]/div/div/div/div/div[2]/div[1]/div[1]/h1')\n",
    "    for i in name:\n",
    "        Laptop_Name.append(i.text)\n",
    "        \n",
    "    a = driver.find_elements(By.XPATH,'/html/body/div[2]/div[3]/div[1]/div/div/div/div/div[2]/div[1]/div[4]/div[3]/div/div/ul/li[1]/div/p[2]')\n",
    "    for j in a:\n",
    "        O_S.append(j.text)\n",
    "            \n",
    "    b = driver.find_elements(By.XPATH,'/html/body/div[2]/div[3]/div[1]/div/div/div/div/div[2]/div[1]/div[4]/div[3]/div/div/ul/li[2]/div/p[2]')\n",
    "    for j in b:\n",
    "        display.append(j.text)\n",
    "            \n",
    "            \n",
    "    c = driver.find_elements(By.XPATH,'/html/body/div[2]/div[3]/div[1]/div/div/div/div/div[2]/div[1]/div[4]/div[3]/div/div/ul/li[3]/div/p[2]')\n",
    "    for j in c:\n",
    "        processor.append(j.text)\n",
    "            \n",
    "    d = driver.find_elements(By.XPATH,'/html/body/div[2]/div[3]/div[1]/div/div/div/div/div[2]/div[1]/div[4]/div[3]/div/div/ul/li[3]/div/p[2]')\n",
    "    for j in d:\n",
    "        storage.append(j.text)\n",
    "            \n",
    "    e = driver.find_elements(By.XPATH,'/html/body/div[2]/div[3]/div[1]/div/div/div/div/div[2]/div[1]/div[4]/div[9]/div[1]/div/div[2]/div[3]/div/div[1]')\n",
    "    for j in e:\n",
    "        price.append(j.text)"
   ]
  },
  {
   "cell_type": "code",
   "execution_count": 86,
   "id": "2f57b62c",
   "metadata": {},
   "outputs": [],
   "source": [
    "df = pd.DataFrame({'Laptop_Name':Laptop_Name,'O_S':O_S,'display':display,'processor':processor,'storage':storage,'price':price})"
   ]
  },
  {
   "cell_type": "code",
   "execution_count": 87,
   "id": "1b0805e4",
   "metadata": {},
   "outputs": [
    {
     "data": {
      "text/html": [
       "<div>\n",
       "<style scoped>\n",
       "    .dataframe tbody tr th:only-of-type {\n",
       "        vertical-align: middle;\n",
       "    }\n",
       "\n",
       "    .dataframe tbody tr th {\n",
       "        vertical-align: top;\n",
       "    }\n",
       "\n",
       "    .dataframe thead th {\n",
       "        text-align: right;\n",
       "    }\n",
       "</style>\n",
       "<table border=\"1\" class=\"dataframe\">\n",
       "  <thead>\n",
       "    <tr style=\"text-align: right;\">\n",
       "      <th></th>\n",
       "      <th>Laptop_Name</th>\n",
       "      <th>O_S</th>\n",
       "      <th>display</th>\n",
       "      <th>processor</th>\n",
       "      <th>storage</th>\n",
       "      <th>price</th>\n",
       "    </tr>\n",
       "  </thead>\n",
       "  <tbody>\n",
       "    <tr>\n",
       "      <th>0</th>\n",
       "      <td>Dell G15-5520 Gaming Laptop</td>\n",
       "      <td>Windows 11</td>\n",
       "      <td>15.6</td>\n",
       "      <td>12th Gen Intel Core I5-12500H</td>\n",
       "      <td>12th Gen Intel Core I5-12500H</td>\n",
       "      <td>Rs. 66,990</td>\n",
       "    </tr>\n",
       "    <tr>\n",
       "      <th>1</th>\n",
       "      <td>Acer Aspire 5 Gaming Laptop A514-56GM</td>\n",
       "      <td>Windows 11 Home</td>\n",
       "      <td>14</td>\n",
       "      <td>13th Gen Intel Core I7-1355U</td>\n",
       "      <td>13th Gen Intel Core I7-1355U</td>\n",
       "      <td>Rs. 69,990</td>\n",
       "    </tr>\n",
       "    <tr>\n",
       "      <th>2</th>\n",
       "      <td>Acer Predator Helios Neo 16 Gaming Laptop (PHN...</td>\n",
       "      <td>Windows 11 Home</td>\n",
       "      <td>16</td>\n",
       "      <td>13th Gen Intel Core I9-13900HX</td>\n",
       "      <td>13th Gen Intel Core I9-13900HX</td>\n",
       "      <td>Rs. 159,990</td>\n",
       "    </tr>\n",
       "    <tr>\n",
       "      <th>3</th>\n",
       "      <td>HP OMEN Gaming Laptop (16-Wf0055TX)</td>\n",
       "      <td>Windows 11 Home</td>\n",
       "      <td>16.1</td>\n",
       "      <td>13th Gen Intel Core I7-13700HX</td>\n",
       "      <td>13th Gen Intel Core I7-13700HX</td>\n",
       "      <td>Rs. 132,490</td>\n",
       "    </tr>\n",
       "    <tr>\n",
       "      <th>4</th>\n",
       "      <td>HP Victus Gaming Laptop (15-Fb1001AX)</td>\n",
       "      <td>Windows 11 Home</td>\n",
       "      <td>15.6</td>\n",
       "      <td>AMD Ryzen 5-7535HS</td>\n",
       "      <td>AMD Ryzen 5-7535HS</td>\n",
       "      <td>Rs. 54,990</td>\n",
       "    </tr>\n",
       "    <tr>\n",
       "      <th>5</th>\n",
       "      <td>HP Victus Gaming Laptop (15-Fa1145TX)</td>\n",
       "      <td>Windows 11 Home</td>\n",
       "      <td>15.6</td>\n",
       "      <td>12th Gen Intel Core I5-12450H</td>\n",
       "      <td>12th Gen Intel Core I5-12450H</td>\n",
       "      <td>Rs. 65,690</td>\n",
       "    </tr>\n",
       "    <tr>\n",
       "      <th>6</th>\n",
       "      <td>Acer Nitro V Gaming Laptop (ANV15-51)</td>\n",
       "      <td>Windows 11 Home</td>\n",
       "      <td>15.6</td>\n",
       "      <td>13th Gen Intel Core I5-13420H</td>\n",
       "      <td>13th Gen Intel Core I5-13420H</td>\n",
       "      <td>Rs. 73,223</td>\n",
       "    </tr>\n",
       "    <tr>\n",
       "      <th>7</th>\n",
       "      <td>Dell G15 5520 Gaming Laptop</td>\n",
       "      <td>Windows 11 Home</td>\n",
       "      <td>15.6</td>\n",
       "      <td>12th Gen Intel Core I5-12500H</td>\n",
       "      <td>12th Gen Intel Core I5-12500H</td>\n",
       "      <td>Rs. 72,890</td>\n",
       "    </tr>\n",
       "    <tr>\n",
       "      <th>8</th>\n",
       "      <td>Acer Predator Helios Neo 16 Gaming Laptop</td>\n",
       "      <td>Windows 11 Home</td>\n",
       "      <td>16</td>\n",
       "      <td>13th Gen Intel Core I7-13700HX</td>\n",
       "      <td>13th Gen Intel Core I7-13700HX</td>\n",
       "      <td>Rs. 109,990</td>\n",
       "    </tr>\n",
       "    <tr>\n",
       "      <th>9</th>\n",
       "      <td>HP OMEN Gaming Laptop (Xf0060AX)</td>\n",
       "      <td>Windows 11 Home</td>\n",
       "      <td>16.1</td>\n",
       "      <td>AMD Ryzen 7-7840HS</td>\n",
       "      <td>AMD Ryzen 7-7840HS</td>\n",
       "      <td>out of stock</td>\n",
       "    </tr>\n",
       "    <tr>\n",
       "      <th>10</th>\n",
       "      <td>HP Omen Gaming Laptop 16-Wd0880TX</td>\n",
       "      <td>Windows 11 Home</td>\n",
       "      <td>16.1</td>\n",
       "      <td>13th Gen Intel Core I5-13420H</td>\n",
       "      <td>13th Gen Intel Core I5-13420H</td>\n",
       "      <td>Rs. 89,990</td>\n",
       "    </tr>\n",
       "    <tr>\n",
       "      <th>11</th>\n",
       "      <td>Dell Alienware X14 R2 Gaming Laptop</td>\n",
       "      <td>Windows 11 Home</td>\n",
       "      <td>13th Gen Intel Core I7-13620H</td>\n",
       "      <td>1 TB</td>\n",
       "      <td>1 TB</td>\n",
       "      <td>Rs. 224,790</td>\n",
       "    </tr>\n",
       "    <tr>\n",
       "      <th>12</th>\n",
       "      <td>Lenovo IdeaPad Gaming 3i</td>\n",
       "      <td>Windows 10</td>\n",
       "      <td>10th Gen Intel Core I5-10300H</td>\n",
       "      <td>512 GB</td>\n",
       "      <td>512 GB</td>\n",
       "      <td>out of stock</td>\n",
       "    </tr>\n",
       "    <tr>\n",
       "      <th>13</th>\n",
       "      <td>Lenovo Ideapad Gaming 3</td>\n",
       "      <td>Windows 11 Home</td>\n",
       "      <td>AMD Ryzen 5-5600H</td>\n",
       "      <td>1 TB</td>\n",
       "      <td>1 TB</td>\n",
       "      <td>out of stock</td>\n",
       "    </tr>\n",
       "    <tr>\n",
       "      <th>14</th>\n",
       "      <td>Dell 15 (2021) I5-10200H</td>\n",
       "      <td>Windows 10</td>\n",
       "      <td>10th Gen Intel Core I5-10200H</td>\n",
       "      <td>512 GB</td>\n",
       "      <td>512 GB</td>\n",
       "      <td>out of stock</td>\n",
       "    </tr>\n",
       "    <tr>\n",
       "      <th>15</th>\n",
       "      <td>Dell New Alienware X15 R2</td>\n",
       "      <td>Windows 11</td>\n",
       "      <td>12th Gen Intel Core I7-12700H</td>\n",
       "      <td>1 TB</td>\n",
       "      <td>1 TB</td>\n",
       "      <td>out of stock</td>\n",
       "    </tr>\n",
       "    <tr>\n",
       "      <th>16</th>\n",
       "      <td>Dell 15 (2021) I5-10200H</td>\n",
       "      <td>Windows 10</td>\n",
       "      <td>10th Gen Intel Core I5-10200H</td>\n",
       "      <td>512 GB</td>\n",
       "      <td>512 GB</td>\n",
       "      <td>out of stock</td>\n",
       "    </tr>\n",
       "  </tbody>\n",
       "</table>\n",
       "</div>"
      ],
      "text/plain": [
       "                                          Laptop_Name              O_S  \\\n",
       "0                         Dell G15-5520 Gaming Laptop       Windows 11   \n",
       "1               Acer Aspire 5 Gaming Laptop A514-56GM  Windows 11 Home   \n",
       "2   Acer Predator Helios Neo 16 Gaming Laptop (PHN...  Windows 11 Home   \n",
       "3                 HP OMEN Gaming Laptop (16-Wf0055TX)  Windows 11 Home   \n",
       "4               HP Victus Gaming Laptop (15-Fb1001AX)  Windows 11 Home   \n",
       "5               HP Victus Gaming Laptop (15-Fa1145TX)  Windows 11 Home   \n",
       "6               Acer Nitro V Gaming Laptop (ANV15-51)  Windows 11 Home   \n",
       "7                         Dell G15 5520 Gaming Laptop  Windows 11 Home   \n",
       "8           Acer Predator Helios Neo 16 Gaming Laptop  Windows 11 Home   \n",
       "9                    HP OMEN Gaming Laptop (Xf0060AX)  Windows 11 Home   \n",
       "10                  HP Omen Gaming Laptop 16-Wd0880TX  Windows 11 Home   \n",
       "11                Dell Alienware X14 R2 Gaming Laptop  Windows 11 Home   \n",
       "12                           Lenovo IdeaPad Gaming 3i       Windows 10   \n",
       "13                            Lenovo Ideapad Gaming 3  Windows 11 Home   \n",
       "14                           Dell 15 (2021) I5-10200H       Windows 10   \n",
       "15                          Dell New Alienware X15 R2       Windows 11   \n",
       "16                           Dell 15 (2021) I5-10200H       Windows 10   \n",
       "\n",
       "                          display                       processor  \\\n",
       "0                            15.6   12th Gen Intel Core I5-12500H   \n",
       "1                              14    13th Gen Intel Core I7-1355U   \n",
       "2                              16  13th Gen Intel Core I9-13900HX   \n",
       "3                            16.1  13th Gen Intel Core I7-13700HX   \n",
       "4                            15.6              AMD Ryzen 5-7535HS   \n",
       "5                            15.6   12th Gen Intel Core I5-12450H   \n",
       "6                            15.6   13th Gen Intel Core I5-13420H   \n",
       "7                            15.6   12th Gen Intel Core I5-12500H   \n",
       "8                              16  13th Gen Intel Core I7-13700HX   \n",
       "9                            16.1              AMD Ryzen 7-7840HS   \n",
       "10                           16.1   13th Gen Intel Core I5-13420H   \n",
       "11  13th Gen Intel Core I7-13620H                            1 TB   \n",
       "12  10th Gen Intel Core I5-10300H                          512 GB   \n",
       "13              AMD Ryzen 5-5600H                            1 TB   \n",
       "14  10th Gen Intel Core I5-10200H                          512 GB   \n",
       "15  12th Gen Intel Core I7-12700H                            1 TB   \n",
       "16  10th Gen Intel Core I5-10200H                          512 GB   \n",
       "\n",
       "                           storage         price  \n",
       "0    12th Gen Intel Core I5-12500H    Rs. 66,990  \n",
       "1     13th Gen Intel Core I7-1355U    Rs. 69,990  \n",
       "2   13th Gen Intel Core I9-13900HX   Rs. 159,990  \n",
       "3   13th Gen Intel Core I7-13700HX   Rs. 132,490  \n",
       "4               AMD Ryzen 5-7535HS    Rs. 54,990  \n",
       "5    12th Gen Intel Core I5-12450H    Rs. 65,690  \n",
       "6    13th Gen Intel Core I5-13420H    Rs. 73,223  \n",
       "7    12th Gen Intel Core I5-12500H    Rs. 72,890  \n",
       "8   13th Gen Intel Core I7-13700HX   Rs. 109,990  \n",
       "9               AMD Ryzen 7-7840HS  out of stock  \n",
       "10   13th Gen Intel Core I5-13420H    Rs. 89,990  \n",
       "11                            1 TB   Rs. 224,790  \n",
       "12                          512 GB  out of stock  \n",
       "13                            1 TB  out of stock  \n",
       "14                          512 GB  out of stock  \n",
       "15                            1 TB  out of stock  \n",
       "16                          512 GB  out of stock  "
      ]
     },
     "execution_count": 87,
     "metadata": {},
     "output_type": "execute_result"
    }
   ],
   "source": [
    "df"
   ]
  },
  {
   "cell_type": "markdown",
   "id": "0357f919",
   "metadata": {},
   "source": [
    "### Q7. Write a python program to scrape the details for all billionaires from www.forbes.com. Details to be scrapped: \n",
    "“Rank”, “Name”, “Net worth”, “Age”, “Citizenship”, “Source”, “Industry”. "
   ]
  },
  {
   "cell_type": "code",
   "execution_count": 126,
   "id": "5697d02c",
   "metadata": {},
   "outputs": [],
   "source": [
    "driver = webdriver.Chrome()"
   ]
  },
  {
   "cell_type": "code",
   "execution_count": 127,
   "id": "d7bd65bd",
   "metadata": {},
   "outputs": [],
   "source": [
    "driver.get('https://www.forbes.com/billionaires/')"
   ]
  },
  {
   "cell_type": "code",
   "execution_count": 131,
   "id": "62b88099",
   "metadata": {},
   "outputs": [],
   "source": [
    "source = []\n",
    "details = driver.find_elements(By.XPATH,'//div[@class=\"Table_dataCell__2QCve\"]/span')\n",
    "for i in details:\n",
    "    try:\n",
    "        source.append(i.text)\n",
    "    except NoSuchElementException:\n",
    "        print('-')"
   ]
  },
  {
   "cell_type": "code",
   "execution_count": 133,
   "id": "f8dcb658",
   "metadata": {},
   "outputs": [
    {
     "data": {
      "text/plain": [
       "200"
      ]
     },
     "execution_count": 133,
     "metadata": {},
     "output_type": "execute_result"
    }
   ],
   "source": [
    "len(source)"
   ]
  },
  {
   "cell_type": "code",
   "execution_count": 137,
   "id": "6b562ec8",
   "metadata": {},
   "outputs": [],
   "source": [
    "net_worth = []\n",
    "details = driver.find_elements(By.XPATH,'//div[@class=\"Table_netWorth___L4R5 Table_dataCell__2QCve\"]')\n",
    "for i in details:\n",
    "    try:\n",
    "        net_worth.append(i.text)\n",
    "    except NoSuchElementException:\n",
    "        print('-')"
   ]
  },
  {
   "cell_type": "code",
   "execution_count": 139,
   "id": "e4f1d5ee",
   "metadata": {},
   "outputs": [
    {
     "data": {
      "text/plain": [
       "200"
      ]
     },
     "execution_count": 139,
     "metadata": {},
     "output_type": "execute_result"
    }
   ],
   "source": [
    "len(net_worth)"
   ]
  },
  {
   "cell_type": "code",
   "execution_count": 140,
   "id": "f5d0fe74",
   "metadata": {},
   "outputs": [],
   "source": [
    "Rank = []\n",
    "details = driver.find_elements(By.XPATH,'//div[@class=\"TableRow_cell__db-hv Table_cell__houv9\"][1]')\n",
    "for i in details:\n",
    "    try:\n",
    "        Rank.append(i.text)\n",
    "    except NoSuchElementException:\n",
    "        print('-')\n",
    "        \n",
    "Name = []\n",
    "details = driver.find_elements(By.XPATH,'//div[@class=\"TableRow_cell__db-hv Table_cell__houv9\"][2]')\n",
    "for i in details:\n",
    "    try:\n",
    "        Name.append(i.text)\n",
    "    except NoSuchElementException:\n",
    "        print('-')\n",
    "        \n",
    "Age = []\n",
    "details = driver.find_elements(By.XPATH,'//div[@class=\"TableRow_cell__db-hv Table_cell__houv9\"][4]')\n",
    "for i in details:\n",
    "    try:\n",
    "        Age.append(i.text)\n",
    "    except NoSuchElementException:\n",
    "        print('-')\n",
    "        \n",
    "Citizenship = []\n",
    "details = driver.find_elements(By.XPATH,'//div[@class=\"TableRow_cell__db-hv Table_cell__houv9\"][5]')\n",
    "for i in details:\n",
    "    try:\n",
    "        Citizenship.append(i.text)\n",
    "    except NoSuchElementException:\n",
    "        print('-')\n",
    "        \n",
    "Industry = []\n",
    "details = driver.find_elements(By.XPATH,'//div[@class=\"TableRow_cell__db-hv Table_cell__houv9\"][7]')\n",
    "for i in details:\n",
    "    try:\n",
    "        Industry.append(i.text)\n",
    "    except NoSuchElementException:\n",
    "        print('-')"
   ]
  },
  {
   "cell_type": "code",
   "execution_count": 141,
   "id": "fff3dbd5",
   "metadata": {},
   "outputs": [],
   "source": [
    "df = pd.DataFrame({'Rank':Rank,'Name':Name,'net_worth':net_worth,'Age':Age,'Citizenship':Citizenship,'source':source,'Industry':Industry})"
   ]
  },
  {
   "cell_type": "code",
   "execution_count": 142,
   "id": "2d618012",
   "metadata": {},
   "outputs": [
    {
     "data": {
      "text/html": [
       "<div>\n",
       "<style scoped>\n",
       "    .dataframe tbody tr th:only-of-type {\n",
       "        vertical-align: middle;\n",
       "    }\n",
       "\n",
       "    .dataframe tbody tr th {\n",
       "        vertical-align: top;\n",
       "    }\n",
       "\n",
       "    .dataframe thead th {\n",
       "        text-align: right;\n",
       "    }\n",
       "</style>\n",
       "<table border=\"1\" class=\"dataframe\">\n",
       "  <thead>\n",
       "    <tr style=\"text-align: right;\">\n",
       "      <th></th>\n",
       "      <th>Rank</th>\n",
       "      <th>Name</th>\n",
       "      <th>net_worth</th>\n",
       "      <th>Age</th>\n",
       "      <th>Citizenship</th>\n",
       "      <th>source</th>\n",
       "      <th>Industry</th>\n",
       "    </tr>\n",
       "  </thead>\n",
       "  <tbody>\n",
       "    <tr>\n",
       "      <th>0</th>\n",
       "      <td>1</td>\n",
       "      <td>Bernard Arnault &amp; family</td>\n",
       "      <td>$211 B</td>\n",
       "      <td>74</td>\n",
       "      <td>France</td>\n",
       "      <td>LVMH</td>\n",
       "      <td>Fashion &amp; Retail</td>\n",
       "    </tr>\n",
       "    <tr>\n",
       "      <th>1</th>\n",
       "      <td>2</td>\n",
       "      <td>Elon Musk</td>\n",
       "      <td>$180 B</td>\n",
       "      <td>51</td>\n",
       "      <td>United States</td>\n",
       "      <td>Tesla, SpaceX</td>\n",
       "      <td>Automotive</td>\n",
       "    </tr>\n",
       "    <tr>\n",
       "      <th>2</th>\n",
       "      <td>3</td>\n",
       "      <td>Jeff Bezos</td>\n",
       "      <td>$114 B</td>\n",
       "      <td>59</td>\n",
       "      <td>United States</td>\n",
       "      <td>Amazon</td>\n",
       "      <td>Technology</td>\n",
       "    </tr>\n",
       "    <tr>\n",
       "      <th>3</th>\n",
       "      <td>4</td>\n",
       "      <td>Larry Ellison</td>\n",
       "      <td>$107 B</td>\n",
       "      <td>78</td>\n",
       "      <td>United States</td>\n",
       "      <td>Oracle</td>\n",
       "      <td>Technology</td>\n",
       "    </tr>\n",
       "    <tr>\n",
       "      <th>4</th>\n",
       "      <td>5</td>\n",
       "      <td>Warren Buffett</td>\n",
       "      <td>$106 B</td>\n",
       "      <td>92</td>\n",
       "      <td>United States</td>\n",
       "      <td>Berkshire Hathaway</td>\n",
       "      <td>Finance &amp; Investments</td>\n",
       "    </tr>\n",
       "    <tr>\n",
       "      <th>...</th>\n",
       "      <td>...</td>\n",
       "      <td>...</td>\n",
       "      <td>...</td>\n",
       "      <td>...</td>\n",
       "      <td>...</td>\n",
       "      <td>...</td>\n",
       "      <td>...</td>\n",
       "    </tr>\n",
       "    <tr>\n",
       "      <th>195</th>\n",
       "      <td>195</td>\n",
       "      <td>Jin Baofang</td>\n",
       "      <td>$9.6 B</td>\n",
       "      <td>70</td>\n",
       "      <td>China</td>\n",
       "      <td>Solar panels</td>\n",
       "      <td>Energy</td>\n",
       "    </tr>\n",
       "    <tr>\n",
       "      <th>196</th>\n",
       "      <td>195</td>\n",
       "      <td>Luo Liguo &amp; family</td>\n",
       "      <td>$9.6 B</td>\n",
       "      <td>67</td>\n",
       "      <td>China</td>\n",
       "      <td>Chemicals</td>\n",
       "      <td>Manufacturing</td>\n",
       "    </tr>\n",
       "    <tr>\n",
       "      <th>197</th>\n",
       "      <td>195</td>\n",
       "      <td>Marijke Mars</td>\n",
       "      <td>$9.6 B</td>\n",
       "      <td>58</td>\n",
       "      <td>United States</td>\n",
       "      <td>Candy, pet food</td>\n",
       "      <td>Food &amp; Beverage</td>\n",
       "    </tr>\n",
       "    <tr>\n",
       "      <th>198</th>\n",
       "      <td>195</td>\n",
       "      <td>Pamela Mars</td>\n",
       "      <td>$9.6 B</td>\n",
       "      <td>62</td>\n",
       "      <td>United States</td>\n",
       "      <td>Candy, pet food</td>\n",
       "      <td>Food &amp; Beverage</td>\n",
       "    </tr>\n",
       "    <tr>\n",
       "      <th>199</th>\n",
       "      <td>195</td>\n",
       "      <td>Valerie Mars</td>\n",
       "      <td>$9.6 B</td>\n",
       "      <td>64</td>\n",
       "      <td>United States</td>\n",
       "      <td>Candy, pet food</td>\n",
       "      <td>Food &amp; Beverage</td>\n",
       "    </tr>\n",
       "  </tbody>\n",
       "</table>\n",
       "<p>200 rows × 7 columns</p>\n",
       "</div>"
      ],
      "text/plain": [
       "    Rank                      Name net_worth Age    Citizenship  \\\n",
       "0      1  Bernard Arnault & family    $211 B  74         France   \n",
       "1      2                 Elon Musk    $180 B  51  United States   \n",
       "2      3                Jeff Bezos    $114 B  59  United States   \n",
       "3      4             Larry Ellison    $107 B  78  United States   \n",
       "4      5            Warren Buffett    $106 B  92  United States   \n",
       "..   ...                       ...       ...  ..            ...   \n",
       "195  195               Jin Baofang    $9.6 B  70          China   \n",
       "196  195        Luo Liguo & family    $9.6 B  67          China   \n",
       "197  195              Marijke Mars    $9.6 B  58  United States   \n",
       "198  195               Pamela Mars    $9.6 B  62  United States   \n",
       "199  195              Valerie Mars    $9.6 B  64  United States   \n",
       "\n",
       "                 source               Industry  \n",
       "0                  LVMH       Fashion & Retail  \n",
       "1         Tesla, SpaceX             Automotive  \n",
       "2                Amazon             Technology  \n",
       "3                Oracle             Technology  \n",
       "4    Berkshire Hathaway  Finance & Investments  \n",
       "..                  ...                    ...  \n",
       "195        Solar panels                 Energy  \n",
       "196           Chemicals          Manufacturing  \n",
       "197     Candy, pet food        Food & Beverage  \n",
       "198     Candy, pet food        Food & Beverage  \n",
       "199     Candy, pet food        Food & Beverage  \n",
       "\n",
       "[200 rows x 7 columns]"
      ]
     },
     "execution_count": 142,
     "metadata": {},
     "output_type": "execute_result"
    }
   ],
   "source": [
    "df"
   ]
  },
  {
   "cell_type": "markdown",
   "id": "2f605c64",
   "metadata": {},
   "source": [
    "### Q8. Write a program to extract at least 500 Comments, Comment upvote and time when comment was posted from any YouTube Video"
   ]
  },
  {
   "cell_type": "code",
   "execution_count": 100,
   "id": "cddd605e",
   "metadata": {},
   "outputs": [],
   "source": [
    "driver = webdriver.Chrome()"
   ]
  },
  {
   "cell_type": "code",
   "execution_count": 101,
   "id": "9b36ace9",
   "metadata": {},
   "outputs": [],
   "source": [
    "driver.get('https://www.youtube.com/')"
   ]
  },
  {
   "cell_type": "code",
   "execution_count": 104,
   "id": "2a34bdd8",
   "metadata": {},
   "outputs": [],
   "source": [
    "a = driver.find_element(By.XPATH,'//input[@class=\"ytd-searchbox\"]')\n",
    "a.send_keys('coding ninja')"
   ]
  },
  {
   "cell_type": "code",
   "execution_count": 105,
   "id": "9da18bc5",
   "metadata": {},
   "outputs": [],
   "source": [
    "b = driver.find_element(By.XPATH,'/html/body/ytd-app/div[1]/div/ytd-masthead/div[4]/div[2]/ytd-searchbox/button/yt-icon/yt-icon-shape')\n",
    "b.click()"
   ]
  },
  {
   "cell_type": "code",
   "execution_count": 106,
   "id": "e6ab71bb",
   "metadata": {},
   "outputs": [],
   "source": [
    "c = driver.find_element(By.XPATH,'/html/body/ytd-app/div[1]/ytd-page-manager/ytd-search/div[1]/ytd-two-column-search-results-renderer/div/ytd-section-list-renderer/div[2]/ytd-item-section-renderer[1]/div[3]/ytd-shelf-renderer/div[1]/div[2]/ytd-vertical-list-renderer/div[1]/ytd-video-renderer[1]/div[1]/div/div[1]/div/h3/a')\n",
    "c.click()"
   ]
  },
  {
   "cell_type": "code",
   "execution_count": 118,
   "id": "a699d8f8",
   "metadata": {},
   "outputs": [],
   "source": [
    "for _ in range(20):\n",
    "    driver.execute_script(\"window.scrollBy(0,500)\")\n",
    "    \n",
    "    \n",
    "comment = []\n",
    "com = driver.find_elements(By.XPATH,'//span[@class=\"yt-core-attributed-string yt-core-attributed-string--white-space-pre-wrap\"]')\n",
    "for comm in com[10:]:\n",
    "    comment.append(comm.text)"
   ]
  },
  {
   "cell_type": "code",
   "execution_count": 120,
   "id": "adeca124",
   "metadata": {},
   "outputs": [
    {
     "data": {
      "text/plain": [
       "29"
      ]
     },
     "execution_count": 120,
     "metadata": {},
     "output_type": "execute_result"
    }
   ],
   "source": [
    "len(comment)"
   ]
  },
  {
   "cell_type": "code",
   "execution_count": 110,
   "id": "d0dd79af",
   "metadata": {},
   "outputs": [],
   "source": [
    "for _ in range(20):\n",
    "    driver.execute_script(\"window.scrollBy(0,500)\")\n",
    "    \n",
    "time = []\n",
    "tym = driver.find_elements(By.XPATH,'//span[@class=\"style-scope ytd-comment-view-model\"]/a')\n",
    "for i in tym:\n",
    "    time.append(i.text)"
   ]
  },
  {
   "cell_type": "code",
   "execution_count": 112,
   "id": "afc9b4b0",
   "metadata": {},
   "outputs": [
    {
     "data": {
      "text/plain": [
       "29"
      ]
     },
     "execution_count": 112,
     "metadata": {},
     "output_type": "execute_result"
    }
   ],
   "source": [
    "len(time)"
   ]
  },
  {
   "cell_type": "code",
   "execution_count": 121,
   "id": "af543ec4",
   "metadata": {},
   "outputs": [],
   "source": [
    "for _ in range(20):\n",
    "    driver.execute_script(\"window.scrollBy(0,500)\")\n",
    "    \n",
    "vote = []\n",
    "vt = driver.find_elements(By.XPATH,'//span[@class=\"style-scope ytd-comment-engagement-bar\"]')\n",
    "for i in vt:\n",
    "    vote.append(i.text)"
   ]
  },
  {
   "cell_type": "code",
   "execution_count": 122,
   "id": "f53c45b9",
   "metadata": {},
   "outputs": [
    {
     "data": {
      "text/plain": [
       "29"
      ]
     },
     "execution_count": 122,
     "metadata": {},
     "output_type": "execute_result"
    }
   ],
   "source": [
    "len(vote)"
   ]
  },
  {
   "cell_type": "code",
   "execution_count": 123,
   "id": "3a8a7dd1",
   "metadata": {},
   "outputs": [],
   "source": [
    "import pandas as pd"
   ]
  },
  {
   "cell_type": "code",
   "execution_count": 124,
   "id": "1b8b7da4",
   "metadata": {},
   "outputs": [],
   "source": [
    "df = pd.DataFrame({'comment':comment,'time':time,'vote':vote})"
   ]
  },
  {
   "cell_type": "code",
   "execution_count": 125,
   "id": "e43ec6c5",
   "metadata": {},
   "outputs": [
    {
     "data": {
      "text/html": [
       "<div>\n",
       "<style scoped>\n",
       "    .dataframe tbody tr th:only-of-type {\n",
       "        vertical-align: middle;\n",
       "    }\n",
       "\n",
       "    .dataframe tbody tr th {\n",
       "        vertical-align: top;\n",
       "    }\n",
       "\n",
       "    .dataframe thead th {\n",
       "        text-align: right;\n",
       "    }\n",
       "</style>\n",
       "<table border=\"1\" class=\"dataframe\">\n",
       "  <thead>\n",
       "    <tr style=\"text-align: right;\">\n",
       "      <th></th>\n",
       "      <th>comment</th>\n",
       "      <th>time</th>\n",
       "      <th>vote</th>\n",
       "    </tr>\n",
       "  </thead>\n",
       "  <tbody>\n",
       "    <tr>\n",
       "      <th>0</th>\n",
       "      <td>sir aap itne pyare kyon ho .you made our life ...</td>\n",
       "      <td>9 days ago</td>\n",
       "      <td>5</td>\n",
       "    </tr>\n",
       "    <tr>\n",
       "      <th>1</th>\n",
       "      <td>Thank you sir,\\nI am a Backend developer  and ...</td>\n",
       "      <td>8 days ago</td>\n",
       "      <td>1</td>\n",
       "    </tr>\n",
       "    <tr>\n",
       "      <th>2</th>\n",
       "      <td>I made a authentication library  auth-rush (it...</td>\n",
       "      <td>9 days ago (edited)</td>\n",
       "      <td>1</td>\n",
       "    </tr>\n",
       "    <tr>\n",
       "      <th>3</th>\n",
       "      <td>what do u think about Devin</td>\n",
       "      <td>9 days ago</td>\n",
       "      <td>4</td>\n",
       "    </tr>\n",
       "    <tr>\n",
       "      <th>4</th>\n",
       "      <td>Thank you.</td>\n",
       "      <td>9 days ago</td>\n",
       "      <td>1</td>\n",
       "    </tr>\n",
       "    <tr>\n",
       "      <th>5</th>\n",
       "      <td>Sir please get more private test cases(special...</td>\n",
       "      <td>6 days ago (edited)</td>\n",
       "      <td></td>\n",
       "    </tr>\n",
       "    <tr>\n",
       "      <th>6</th>\n",
       "      <td>sir can we do Frontend development without the...</td>\n",
       "      <td>3 days ago</td>\n",
       "      <td></td>\n",
       "    </tr>\n",
       "    <tr>\n",
       "      <th>7</th>\n",
       "      <td>Learning DSA also learning PHP for web dev.. W...</td>\n",
       "      <td>6 days ago</td>\n",
       "      <td></td>\n",
       "    </tr>\n",
       "    <tr>\n",
       "      <th>8</th>\n",
       "      <td>Sir apne kaha kisi bhi ek chiz main excel karo...</td>\n",
       "      <td>3 days ago</td>\n",
       "      <td></td>\n",
       "    </tr>\n",
       "    <tr>\n",
       "      <th>9</th>\n",
       "      <td>good advise</td>\n",
       "      <td>9 days ago</td>\n",
       "      <td>1</td>\n",
       "    </tr>\n",
       "    <tr>\n",
       "      <th>10</th>\n",
       "      <td>sir devin software developer aagya to kya wo r...</td>\n",
       "      <td>9 days ago</td>\n",
       "      <td>9</td>\n",
       "    </tr>\n",
       "    <tr>\n",
       "      <th>11</th>\n",
       "      <td>Sir what must a fresher doooo????..</td>\n",
       "      <td>6 days ago</td>\n",
       "      <td></td>\n",
       "    </tr>\n",
       "    <tr>\n",
       "      <th>12</th>\n",
       "      <td>its answer of what i exactly want ?</td>\n",
       "      <td>1 day ago</td>\n",
       "      <td></td>\n",
       "    </tr>\n",
       "    <tr>\n",
       "      <th>13</th>\n",
       "      <td>Please sir make a dedicated video on DEVIN AI</td>\n",
       "      <td>8 days ago</td>\n",
       "      <td></td>\n",
       "    </tr>\n",
       "    <tr>\n",
       "      <th>14</th>\n",
       "      <td>Sir aisi videos banane se pehle description me...</td>\n",
       "      <td>4 days ago</td>\n",
       "      <td></td>\n",
       "    </tr>\n",
       "    <tr>\n",
       "      <th>15</th>\n",
       "      <td>Sir devin is there for software engineering by...</td>\n",
       "      <td>9 days ago</td>\n",
       "      <td>3</td>\n",
       "    </tr>\n",
       "    <tr>\n",
       "      <th>16</th>\n",
       "      <td>Focusing on CP</td>\n",
       "      <td>5 days ago</td>\n",
       "      <td></td>\n",
       "    </tr>\n",
       "    <tr>\n",
       "      <th>17</th>\n",
       "      <td>C ,  OOP's C++ PYTHON and JAVA with DSA and al...</td>\n",
       "      <td>9 days ago</td>\n",
       "      <td>2</td>\n",
       "    </tr>\n",
       "    <tr>\n",
       "      <th>18</th>\n",
       "      <td>Same as codewithharry</td>\n",
       "      <td>9 days ago</td>\n",
       "      <td></td>\n",
       "    </tr>\n",
       "    <tr>\n",
       "      <th>19</th>\n",
       "      <td>Sir please explain DEVIN SE how won't we fear ...</td>\n",
       "      <td>9 days ago</td>\n",
       "      <td>1</td>\n",
       "    </tr>\n",
       "    <tr>\n",
       "      <th>20</th>\n",
       "      <td>Is it necessary to do competitive programming ...</td>\n",
       "      <td>9 days ago (edited)</td>\n",
       "      <td></td>\n",
       "    </tr>\n",
       "    <tr>\n",
       "      <th>21</th>\n",
       "      <td>If anyone going to start web dev now its gonna...</td>\n",
       "      <td>9 days ago</td>\n",
       "      <td></td>\n",
       "    </tr>\n",
       "    <tr>\n",
       "      <th>22</th>\n",
       "      <td>I am in 2nd year and I'm doing DSA from coding...</td>\n",
       "      <td>9 days ago</td>\n",
       "      <td>5</td>\n",
       "    </tr>\n",
       "    <tr>\n",
       "      <th>23</th>\n",
       "      <td>aapp coding ninja pe dsa vs webdev kispe inte...</td>\n",
       "      <td>9 days ago</td>\n",
       "      <td></td>\n",
       "    </tr>\n",
       "    <tr>\n",
       "      <th>24</th>\n",
       "      <td>Summary : 12:30</td>\n",
       "      <td>8 days ago</td>\n",
       "      <td>3</td>\n",
       "    </tr>\n",
       "    <tr>\n",
       "      <th>25</th>\n",
       "      <td>I am doing DSA now.</td>\n",
       "      <td>9 days ago</td>\n",
       "      <td>1</td>\n",
       "    </tr>\n",
       "    <tr>\n",
       "      <th>26</th>\n",
       "      <td>It is good to start DSA through C language as ...</td>\n",
       "      <td>9 days ago</td>\n",
       "      <td>2</td>\n",
       "    </tr>\n",
       "    <tr>\n",
       "      <th>27</th>\n",
       "      <td>Don't do anything, because devin is already do...</td>\n",
       "      <td>9 days ago</td>\n",
       "      <td>8</td>\n",
       "    </tr>\n",
       "    <tr>\n",
       "      <th>28</th>\n",
       "      <td>Sir ki dukan tou wad gai</td>\n",
       "      <td>5 days ago</td>\n",
       "      <td></td>\n",
       "    </tr>\n",
       "  </tbody>\n",
       "</table>\n",
       "</div>"
      ],
      "text/plain": [
       "                                              comment                 time  \\\n",
       "0   sir aap itne pyare kyon ho .you made our life ...           9 days ago   \n",
       "1   Thank you sir,\\nI am a Backend developer  and ...           8 days ago   \n",
       "2   I made a authentication library  auth-rush (it...  9 days ago (edited)   \n",
       "3                         what do u think about Devin           9 days ago   \n",
       "4                                          Thank you.           9 days ago   \n",
       "5   Sir please get more private test cases(special...  6 days ago (edited)   \n",
       "6   sir can we do Frontend development without the...           3 days ago   \n",
       "7   Learning DSA also learning PHP for web dev.. W...           6 days ago   \n",
       "8   Sir apne kaha kisi bhi ek chiz main excel karo...           3 days ago   \n",
       "9                                         good advise           9 days ago   \n",
       "10  sir devin software developer aagya to kya wo r...           9 days ago   \n",
       "11                Sir what must a fresher doooo????..           6 days ago   \n",
       "12                its answer of what i exactly want ?            1 day ago   \n",
       "13      Please sir make a dedicated video on DEVIN AI           8 days ago   \n",
       "14  Sir aisi videos banane se pehle description me...           4 days ago   \n",
       "15  Sir devin is there for software engineering by...           9 days ago   \n",
       "16                                     Focusing on CP           5 days ago   \n",
       "17  C ,  OOP's C++ PYTHON and JAVA with DSA and al...           9 days ago   \n",
       "18                              Same as codewithharry           9 days ago   \n",
       "19  Sir please explain DEVIN SE how won't we fear ...           9 days ago   \n",
       "20  Is it necessary to do competitive programming ...  9 days ago (edited)   \n",
       "21  If anyone going to start web dev now its gonna...           9 days ago   \n",
       "22  I am in 2nd year and I'm doing DSA from coding...           9 days ago   \n",
       "23   aapp coding ninja pe dsa vs webdev kispe inte...           9 days ago   \n",
       "24                                    Summary : 12:30           8 days ago   \n",
       "25                                I am doing DSA now.           9 days ago   \n",
       "26  It is good to start DSA through C language as ...           9 days ago   \n",
       "27  Don't do anything, because devin is already do...           9 days ago   \n",
       "28                           Sir ki dukan tou wad gai           5 days ago   \n",
       "\n",
       "   vote  \n",
       "0     5  \n",
       "1     1  \n",
       "2     1  \n",
       "3     4  \n",
       "4     1  \n",
       "5        \n",
       "6        \n",
       "7        \n",
       "8        \n",
       "9     1  \n",
       "10    9  \n",
       "11       \n",
       "12       \n",
       "13       \n",
       "14       \n",
       "15    3  \n",
       "16       \n",
       "17    2  \n",
       "18       \n",
       "19    1  \n",
       "20       \n",
       "21       \n",
       "22    5  \n",
       "23       \n",
       "24    3  \n",
       "25    1  \n",
       "26    2  \n",
       "27    8  \n",
       "28       "
      ]
     },
     "execution_count": 125,
     "metadata": {},
     "output_type": "execute_result"
    }
   ],
   "source": [
    "df"
   ]
  },
  {
   "cell_type": "markdown",
   "id": "0c98acd2",
   "metadata": {},
   "source": [
    "### Q9. Write a python program to scrape a data for all available Hostels from https://www.hostelworld.com/ in “London” location. You have to scrape hostel name, distance from city centre, ratings, total reviews, overall  reviews, privates from price, dorms from price, facilities and property description"
   ]
  },
  {
   "cell_type": "code",
   "execution_count": 227,
   "id": "97506f74",
   "metadata": {},
   "outputs": [],
   "source": [
    "driver = webdriver.Chrome()"
   ]
  },
  {
   "cell_type": "code",
   "execution_count": 278,
   "id": "39020c39",
   "metadata": {},
   "outputs": [],
   "source": [
    "driver.get('https://www.hostelworld.com/')"
   ]
  },
  {
   "cell_type": "code",
   "execution_count": 279,
   "id": "26cce3c3",
   "metadata": {},
   "outputs": [],
   "source": [
    "c = driver.find_element(By.XPATH,'/html/body/div[3]/div/div/div[2]/div[2]/div[2]/div/div/div/div[1]/div/div/div[2]/input')\n",
    "c.send_keys('London')"
   ]
  },
  {
   "cell_type": "code",
   "execution_count": 280,
   "id": "9a4fa837",
   "metadata": {},
   "outputs": [],
   "source": [
    "b = driver.find_element(By.XPATH,'/html/body/div[3]/div/div/div[2]/div[2]/div[2]/div/div/div/div[1]/div[2]/div/ul/li[2]/button')\n",
    "b.click()"
   ]
  },
  {
   "cell_type": "code",
   "execution_count": 281,
   "id": "32225c78",
   "metadata": {},
   "outputs": [],
   "source": [
    "a = driver.find_element(By.XPATH,'/html/body/div[3]/div/div/div[2]/div[2]/div[2]/div/div/div/div[5]/button[2]')\n",
    "a.click()"
   ]
  },
  {
   "cell_type": "code",
   "execution_count": 282,
   "id": "8b94432d",
   "metadata": {},
   "outputs": [],
   "source": [
    "url = []\n",
    "link = driver.find_elements(By.XPATH,'//a[@class=\"nuxt-link\"]')\n",
    "for i in link[2:]:\n",
    "    url.append(i.get_attribute('href'))"
   ]
  },
  {
   "cell_type": "code",
   "execution_count": 283,
   "id": "775e125d",
   "metadata": {},
   "outputs": [
    {
     "data": {
      "text/plain": [
       "30"
      ]
     },
     "execution_count": 283,
     "metadata": {},
     "output_type": "execute_result"
    }
   ],
   "source": [
    "len(url)"
   ]
  },
  {
   "cell_type": "code",
   "execution_count": 316,
   "id": "4bbbe981",
   "metadata": {},
   "outputs": [],
   "source": [
    "property_description = []\n",
    "for i in url:\n",
    "    driver.get(i)\n",
    "    time.sleep(6)\n",
    "    try:\n",
    "        a = driver.find_element(By.XPATH,'//div[@class=\"about-description\"]')\n",
    "        property_description.append(a.text)\n",
    "    except NoSuchElementException:\n",
    "        property_description.append('-')\n",
    "        \n",
    "        "
   ]
  },
  {
   "cell_type": "code",
   "execution_count": 309,
   "id": "098e2fc2",
   "metadata": {},
   "outputs": [],
   "source": [
    "facilities = []\n",
    "for i in url:\n",
    "    driver.get(i)\n",
    "    time.sleep(4)\n",
    "    try:\n",
    "        a = driver.find_element(By.XPATH,'//div[@class=\"about-facilities\"]/div/div')\n",
    "        facilities.append(a.text)\n",
    "    except NoSuchElementException:\n",
    "        facilities.append('-')"
   ]
  },
  {
   "cell_type": "code",
   "execution_count": 319,
   "id": "2bd2ff5f",
   "metadata": {},
   "outputs": [
    {
     "data": {
      "text/plain": [
       "30"
      ]
     },
     "execution_count": 319,
     "metadata": {},
     "output_type": "execute_result"
    }
   ],
   "source": [
    "len(facilities)"
   ]
  },
  {
   "cell_type": "code",
   "execution_count": 318,
   "id": "d5f7fbeb",
   "metadata": {},
   "outputs": [
    {
     "data": {
      "text/plain": [
       "30"
      ]
     },
     "execution_count": 318,
     "metadata": {},
     "output_type": "execute_result"
    }
   ],
   "source": [
    "len(property_description)"
   ]
  },
  {
   "cell_type": "code",
   "execution_count": 325,
   "id": "e9eb3667",
   "metadata": {},
   "outputs": [
    {
     "data": {
      "text/plain": [
       "30"
      ]
     },
     "execution_count": 325,
     "metadata": {},
     "output_type": "execute_result"
    }
   ],
   "source": [
    "len(Name)"
   ]
  },
  {
   "cell_type": "code",
   "execution_count": null,
   "id": "91abe77d",
   "metadata": {},
   "outputs": [],
   "source": [
    "for i in url:\n",
    "    driver.get(i)\n",
    "    try:\n",
    "        name = driver.find_element(By.XPATH,'/html/body/div[3]/div/div/div[2]/div[1]/div[3]/div[1]/div[1]/h1')\n",
    "        Name.append(name.text)\n",
    "    except NoSuchElementException:\n",
    "        Name.append('-')\n",
    "    \n",
    "    try:\n",
    "        dist = driver.find_element(By.XPATH,'//li[@class=\"city-center\"]')\n",
    "        distance.append(dist.text)\n",
    "    except NoSuchElementException:\n",
    "        distance.append('-')\n",
    "        \n",
    "    try:\n",
    "        rate = driver.find_element(By.XPATH,'//span[@class=\"number\"]')\n",
    "        ratings.append(rate.text)\n",
    "    except NoSuchElementException:\n",
    "        ratings.append('-')"
   ]
  },
  {
   "cell_type": "code",
   "execution_count": 327,
   "id": "13ba8aa6",
   "metadata": {},
   "outputs": [
    {
     "data": {
      "text/plain": [
       "30"
      ]
     },
     "execution_count": 327,
     "metadata": {},
     "output_type": "execute_result"
    }
   ],
   "source": [
    "len(ratings)"
   ]
  },
  {
   "cell_type": "code",
   "execution_count": 285,
   "id": "6f4b09fa",
   "metadata": {},
   "outputs": [],
   "source": [
    "overall_reviews = []\n",
    "over = driver.find_elements(By.XPATH,'//span[@class=\"keyword\"]')\n",
    "for i in over:\n",
    "    try:\n",
    "        overall_reviews.append(i.text)\n",
    "    except NoSuchElementException:\n",
    "        overall_reviews.append('-')"
   ]
  },
  {
   "cell_type": "code",
   "execution_count": 321,
   "id": "13b0283f",
   "metadata": {},
   "outputs": [],
   "source": [
    "overall_reviews = overall_reviews[2:]"
   ]
  },
  {
   "cell_type": "code",
   "execution_count": 322,
   "id": "733d2386",
   "metadata": {},
   "outputs": [
    {
     "data": {
      "text/plain": [
       "30"
      ]
     },
     "execution_count": 322,
     "metadata": {},
     "output_type": "execute_result"
    }
   ],
   "source": [
    "len(overall_reviews)"
   ]
  },
  {
   "cell_type": "code",
   "execution_count": 294,
   "id": "262e3e0e",
   "metadata": {},
   "outputs": [],
   "source": [
    "total_reviews = []\n",
    "total = driver.find_elements(By.XPATH,'//span[@class=\"left-margin\"]')\n",
    "for i in total:\n",
    "    try:\n",
    "        total_reviews.append(i.text)\n",
    "    except NoSuchElementException:\n",
    "        total_reviews.append('-')"
   ]
  },
  {
   "cell_type": "code",
   "execution_count": 323,
   "id": "bc7bb626",
   "metadata": {},
   "outputs": [
    {
     "data": {
      "text/plain": [
       "30"
      ]
     },
     "execution_count": 323,
     "metadata": {},
     "output_type": "execute_result"
    }
   ],
   "source": [
    "len(total_reviews)"
   ]
  },
  {
   "cell_type": "code",
   "execution_count": 328,
   "id": "89d2239a",
   "metadata": {},
   "outputs": [
    {
     "data": {
      "text/plain": [
       "['- 3.6km from city centre',\n",
       " '- 6.5km from city centre',\n",
       " '- 5.5km from city centre',\n",
       " '- 5.4km from city centre',\n",
       " '- 6.1km from city centre',\n",
       " '- 1.8km from city centre',\n",
       " '- 3km from city centre',\n",
       " '- 0.7km from city centre',\n",
       " '- 9km from city centre',\n",
       " '- 3.2km from city centre',\n",
       " '- 1.7km from city centre',\n",
       " '- 10km from city centre',\n",
       " '- 5.8km from city centre',\n",
       " '- 4.3km from city centre',\n",
       " '- 2.6km from city centre',\n",
       " '- 5km from city centre',\n",
       " '- 5.1km from city centre',\n",
       " '- 2.1km from city centre',\n",
       " '- 5.7km from city centre',\n",
       " '- 2.2km from city centre',\n",
       " '- 1.7km from city centre',\n",
       " '- 1.8km from city centre',\n",
       " '- 4.2km from city centre',\n",
       " '- 3.3km from city centre',\n",
       " '- 7.5km from city centre',\n",
       " '- 4.4km from city centre',\n",
       " '- 1.8km from city centre',\n",
       " '- 4.9km from city centre',\n",
       " '- 11.9km from city centre',\n",
       " '- 4.3km from city centre']"
      ]
     },
     "execution_count": 328,
     "metadata": {},
     "output_type": "execute_result"
    }
   ],
   "source": [
    "distance"
   ]
  },
  {
   "cell_type": "code",
   "execution_count": 334,
   "id": "997230af",
   "metadata": {},
   "outputs": [],
   "source": [
    "privates_from_price = []\n",
    "for i in url:\n",
    "    driver.get(i)\n",
    "    time.sleep(7)\n",
    "    prv = driver.find_element(By.XPATH,'//p[@class=\"from-price\"]')\n",
    "    try:\n",
    "        privates_from_price.append(prv.text)\n",
    "    except NoSuchElementException:\n",
    "        privates_from_price.append('-')"
   ]
  },
  {
   "cell_type": "code",
   "execution_count": 336,
   "id": "d141c405",
   "metadata": {},
   "outputs": [
    {
     "data": {
      "text/plain": [
       "30"
      ]
     },
     "execution_count": 336,
     "metadata": {},
     "output_type": "execute_result"
    }
   ],
   "source": [
    "len(privates_from_price)"
   ]
  },
  {
   "cell_type": "code",
   "execution_count": 342,
   "id": "ed7e8a09",
   "metadata": {},
   "outputs": [],
   "source": [
    "dorms_from_price = []\n",
    "for i in url:\n",
    "    driver.get(i)\n",
    "    time.sleep(6)\n",
    "    try:\n",
    "        dorm = driver.find_element(By.XPATH,'/html/body/div[3]/div/div/div[2]/div[2]/div[1]/div[2]/div/section/div/div/div[2]/div/div[2]/div/div[2]/div[1]/div[1]/div[3]/div')\n",
    "        dorms_from_price.append(dorm.text)\n",
    "    except NoSuchElementException:\n",
    "        dorms_from_price.append('-')"
   ]
  },
  {
   "cell_type": "code",
   "execution_count": 343,
   "id": "476b1e15",
   "metadata": {},
   "outputs": [
    {
     "data": {
      "text/plain": [
       "['Rs17476.42',\n",
       " 'Rs5533.97',\n",
       " '-',\n",
       " '-',\n",
       " 'Rs18666.43',\n",
       " 'Rs1849.60',\n",
       " 'Rs22981.81',\n",
       " '-',\n",
       " '-',\n",
       " '-',\n",
       " '-',\n",
       " '-',\n",
       " '-',\n",
       " '-',\n",
       " '-',\n",
       " '-',\n",
       " 'Rs2795.04',\n",
       " '-',\n",
       " '-',\n",
       " '-',\n",
       " '-',\n",
       " 'Rs2702.93',\n",
       " 'Rs1911.00',\n",
       " 'Rs2738.93',\n",
       " 'Rs1791.37',\n",
       " '-',\n",
       " '-',\n",
       " '-',\n",
       " '-',\n",
       " 'Rs2392.73']"
      ]
     },
     "execution_count": 343,
     "metadata": {},
     "output_type": "execute_result"
    }
   ],
   "source": [
    "dorms_from_price"
   ]
  },
  {
   "cell_type": "code",
   "execution_count": 337,
   "id": "bf86a208",
   "metadata": {},
   "outputs": [],
   "source": [
    "import pandas as pd"
   ]
  },
  {
   "cell_type": "code",
   "execution_count": 344,
   "id": "43ac3c83",
   "metadata": {},
   "outputs": [],
   "source": [
    "df = pd.DataFrame({'Name':Name,'distance':distance,'ratings':ratings,'total_reviews':total_reviews,'overall_reviews':overall_reviews,'facilities':facilities,'property_description':property_description,'privates_from_price':privates_from_price,'dorms_from_price':dorms_from_price})"
   ]
  },
  {
   "cell_type": "code",
   "execution_count": 345,
   "id": "d83b2e58",
   "metadata": {},
   "outputs": [
    {
     "data": {
      "text/html": [
       "<div>\n",
       "<style scoped>\n",
       "    .dataframe tbody tr th:only-of-type {\n",
       "        vertical-align: middle;\n",
       "    }\n",
       "\n",
       "    .dataframe tbody tr th {\n",
       "        vertical-align: top;\n",
       "    }\n",
       "\n",
       "    .dataframe thead th {\n",
       "        text-align: right;\n",
       "    }\n",
       "</style>\n",
       "<table border=\"1\" class=\"dataframe\">\n",
       "  <thead>\n",
       "    <tr style=\"text-align: right;\">\n",
       "      <th></th>\n",
       "      <th>Name</th>\n",
       "      <th>distance</th>\n",
       "      <th>ratings</th>\n",
       "      <th>total_reviews</th>\n",
       "      <th>overall_reviews</th>\n",
       "      <th>facilities</th>\n",
       "      <th>property_description</th>\n",
       "      <th>privates_from_price</th>\n",
       "      <th>dorms_from_price</th>\n",
       "    </tr>\n",
       "  </thead>\n",
       "  <tbody>\n",
       "    <tr>\n",
       "      <th>0</th>\n",
       "      <td>Wombat's City Hostel London</td>\n",
       "      <td>- 3.6km from city centre</td>\n",
       "      <td>9.2</td>\n",
       "      <td>(16108)</td>\n",
       "      <td>Superb</td>\n",
       "      <td>Linen Included\\nFree City Maps\\nFree WiFi\\nFre...</td>\n",
       "      <td>A safe haven in the middle of the metropolis: ...</td>\n",
       "      <td>Rs3990.35</td>\n",
       "      <td>Rs17476.42</td>\n",
       "    </tr>\n",
       "    <tr>\n",
       "      <th>1</th>\n",
       "      <td>Palmers Lodge - Swiss Cottage</td>\n",
       "      <td>- 6.5km from city centre</td>\n",
       "      <td>8.7</td>\n",
       "      <td>(16039)</td>\n",
       "      <td>Fabulous</td>\n",
       "      <td>Linen Included\\nFree WiFi\\nFree Internet Acces...</td>\n",
       "      <td>Whether you're a backpacker, flash-packer or a...</td>\n",
       "      <td>Rs2500.72</td>\n",
       "      <td>Rs5533.97</td>\n",
       "    </tr>\n",
       "    <tr>\n",
       "      <th>2</th>\n",
       "      <td>Onefam Notting Hill</td>\n",
       "      <td>- 5.5km from city centre</td>\n",
       "      <td>9.6</td>\n",
       "      <td>(2684)</td>\n",
       "      <td>Superb</td>\n",
       "      <td>Linen Included\\nFree WiFi\\nFree Internet Acces...</td>\n",
       "      <td>The perfect place for solo travelers to connec...</td>\n",
       "      <td>Rs3934.23</td>\n",
       "      <td>-</td>\n",
       "    </tr>\n",
       "    <tr>\n",
       "      <th>3</th>\n",
       "      <td>Urbany Hostel London</td>\n",
       "      <td>- 5.4km from city centre</td>\n",
       "      <td>9.6</td>\n",
       "      <td>(1181)</td>\n",
       "      <td>Superb</td>\n",
       "      <td>Linen Included\\nFree WiFi\\nSecurity Lockers\\nM...</td>\n",
       "      <td>Welcome to Urbany Hostel London! Ideal for the...</td>\n",
       "      <td>Rs3168.77</td>\n",
       "      <td>-</td>\n",
       "    </tr>\n",
       "    <tr>\n",
       "      <th>4</th>\n",
       "      <td>NX London Hostel</td>\n",
       "      <td>- 6.1km from city centre</td>\n",
       "      <td>8.9</td>\n",
       "      <td>(2228)</td>\n",
       "      <td>Fabulous</td>\n",
       "      <td>Free Breakfast\\nLinen Included\\nTowels Include...</td>\n",
       "      <td>Welcome to NX London Hostel!\\n\\nPLEASE READ IN...</td>\n",
       "      <td>Rs3879.18</td>\n",
       "      <td>Rs18666.43</td>\n",
       "    </tr>\n",
       "    <tr>\n",
       "      <th>5</th>\n",
       "      <td>St Christopher's Village</td>\n",
       "      <td>- 1.8km from city centre</td>\n",
       "      <td>7.7</td>\n",
       "      <td>(12952)</td>\n",
       "      <td>Very Good</td>\n",
       "      <td>Linen Included\\nFree City Maps\\nFree WiFi\\nFre...</td>\n",
       "      <td>St Christopher's Inn at The Village in London ...</td>\n",
       "      <td>Rs1682.32</td>\n",
       "      <td>Rs1849.60</td>\n",
       "    </tr>\n",
       "    <tr>\n",
       "      <th>6</th>\n",
       "      <td>Generator London</td>\n",
       "      <td>- 3km from city centre</td>\n",
       "      <td>7.5</td>\n",
       "      <td>(8126)</td>\n",
       "      <td>Very Good</td>\n",
       "      <td>Linen Included\\nFree City Maps\\nFree WiFi\\nFre...</td>\n",
       "      <td>Generator London is a design hotel-hostel loca...</td>\n",
       "      <td>Rs3198.42</td>\n",
       "      <td>Rs22981.81</td>\n",
       "    </tr>\n",
       "    <tr>\n",
       "      <th>7</th>\n",
       "      <td>Onefam Waterloo</td>\n",
       "      <td>- 0.7km from city centre</td>\n",
       "      <td>9.6</td>\n",
       "      <td>(220)</td>\n",
       "      <td>Superb</td>\n",
       "      <td>Linen Included\\nFree WiFi\\nFree Internet Acces...</td>\n",
       "      <td>Come join us at our newest Onefam location in ...</td>\n",
       "      <td>Rs3096.78</td>\n",
       "      <td>-</td>\n",
       "    </tr>\n",
       "    <tr>\n",
       "      <th>8</th>\n",
       "      <td>No.8 Seven Sisters</td>\n",
       "      <td>- 9km from city centre</td>\n",
       "      <td>7.9</td>\n",
       "      <td>(4207)</td>\n",
       "      <td>Very Good</td>\n",
       "      <td>Linen Included\\nFree WiFi\\nSecurity Lockers\\nK...</td>\n",
       "      <td>For Great Facilities, Comfort &amp; Affordability ...</td>\n",
       "      <td>Rs1590.21</td>\n",
       "      <td>-</td>\n",
       "    </tr>\n",
       "    <tr>\n",
       "      <th>9</th>\n",
       "      <td>Clink261</td>\n",
       "      <td>- 3.2km from city centre</td>\n",
       "      <td>8.3</td>\n",
       "      <td>(564)</td>\n",
       "      <td>Fabulous</td>\n",
       "      <td>Linen Included\\nFree City Maps\\nFree WiFi\\nKey...</td>\n",
       "      <td>Welcome to Clink261!\\n\\nClink261 is a comforta...</td>\n",
       "      <td>Rs2429.78</td>\n",
       "      <td>-</td>\n",
       "    </tr>\n",
       "    <tr>\n",
       "      <th>10</th>\n",
       "      <td>Safestay London Elephant &amp; Castle</td>\n",
       "      <td>- 1.7km from city centre</td>\n",
       "      <td>7.4</td>\n",
       "      <td>(5309)</td>\n",
       "      <td>Very Good</td>\n",
       "      <td>Linen Included\\nFree WiFi\\nSecurity Lockers\\nK...</td>\n",
       "      <td>Safestay at Elephant &amp; Castle is ideal if you ...</td>\n",
       "      <td>Rs2484.83</td>\n",
       "      <td>-</td>\n",
       "    </tr>\n",
       "    <tr>\n",
       "      <th>11</th>\n",
       "      <td>No.8 Willesden Hostel London</td>\n",
       "      <td>- 10km from city centre</td>\n",
       "      <td>7.1</td>\n",
       "      <td>(5229)</td>\n",
       "      <td>Very Good</td>\n",
       "      <td>Linen Included\\nFree WiFi\\nSecurity Lockers\\nK...</td>\n",
       "      <td>At No.8 we take pride in our Customer Service ...</td>\n",
       "      <td>Rs1448.34</td>\n",
       "      <td>-</td>\n",
       "    </tr>\n",
       "    <tr>\n",
       "      <th>12</th>\n",
       "      <td>Safestay London Kensington Holland Park</td>\n",
       "      <td>- 5.8km from city centre</td>\n",
       "      <td>6.9</td>\n",
       "      <td>(1826)</td>\n",
       "      <td>Good</td>\n",
       "      <td>Linen Included\\nFree WiFi\\nSecurity Lockers\\nK...</td>\n",
       "      <td>Safestay Holland Park\\n\\nSafestay Holland Park...</td>\n",
       "      <td>Rs1708.79</td>\n",
       "      <td>-</td>\n",
       "    </tr>\n",
       "    <tr>\n",
       "      <th>13</th>\n",
       "      <td>Astor Hyde Park</td>\n",
       "      <td>- 4.3km from city centre</td>\n",
       "      <td>8.2</td>\n",
       "      <td>(12356)</td>\n",
       "      <td>Fabulous</td>\n",
       "      <td>Linen Included\\nFree City Maps\\nFree WiFi\\nFre...</td>\n",
       "      <td>Located in the most beautiful and charming nei...</td>\n",
       "      <td>Rs1849.60</td>\n",
       "      <td>-</td>\n",
       "    </tr>\n",
       "    <tr>\n",
       "      <th>14</th>\n",
       "      <td>Smart Russell Square Hostel</td>\n",
       "      <td>- 2.6km from city centre</td>\n",
       "      <td>7.4</td>\n",
       "      <td>(10243)</td>\n",
       "      <td>Very Good</td>\n",
       "      <td>Linen Included\\nFree City Maps\\nFree WiFi\\nFre...</td>\n",
       "      <td>Smart Hostels is proud to present our most cen...</td>\n",
       "      <td>Rs2039.11</td>\n",
       "      <td>-</td>\n",
       "    </tr>\n",
       "    <tr>\n",
       "      <th>15</th>\n",
       "      <td>Smart Hyde Park Inn Hostel</td>\n",
       "      <td>- 5km from city centre</td>\n",
       "      <td>7.8</td>\n",
       "      <td>(6817)</td>\n",
       "      <td>Very Good</td>\n",
       "      <td>Linen Included\\nFree City Maps\\nFree WiFi\\nFre...</td>\n",
       "      <td>Smart Hyde Park Inn Hostel is perfectly locate...</td>\n",
       "      <td>Rs1943.82</td>\n",
       "      <td>-</td>\n",
       "    </tr>\n",
       "    <tr>\n",
       "      <th>16</th>\n",
       "      <td>Hostelle - women only hostel London</td>\n",
       "      <td>- 5.1km from city centre</td>\n",
       "      <td>8.6</td>\n",
       "      <td>(140)</td>\n",
       "      <td>Fabulous</td>\n",
       "      <td>Linen Included\\nFree City Maps\\nFree WiFi\\nFre...</td>\n",
       "      <td>Hostelle is the first and only all-women hoste...</td>\n",
       "      <td>Rs2795.04</td>\n",
       "      <td>Rs2795.04</td>\n",
       "    </tr>\n",
       "    <tr>\n",
       "      <th>17</th>\n",
       "      <td>YHA London Oxford Street</td>\n",
       "      <td>- 2.1km from city centre</td>\n",
       "      <td>9.1</td>\n",
       "      <td>(4715)</td>\n",
       "      <td>Superb</td>\n",
       "      <td>Linen Included\\nFree WiFi\\nSecurity Lockers\\nK...</td>\n",
       "      <td>A quiet hideaway from the bustle of the busies...</td>\n",
       "      <td>Rs8999.19</td>\n",
       "      <td>-</td>\n",
       "    </tr>\n",
       "    <tr>\n",
       "      <th>18</th>\n",
       "      <td>Queen Elizabeth Chelsea</td>\n",
       "      <td>- 5.7km from city centre</td>\n",
       "      <td>7.3</td>\n",
       "      <td>(3730)</td>\n",
       "      <td>Very Good</td>\n",
       "      <td>Linen Included\\nFree City Maps\\nFree WiFi\\nFre...</td>\n",
       "      <td>PLEASE NOTE WE ONLY ACCEPT GUESTS FROM THE AGE...</td>\n",
       "      <td>Rs1611.38</td>\n",
       "      <td>-</td>\n",
       "    </tr>\n",
       "    <tr>\n",
       "      <th>19</th>\n",
       "      <td>Astor Museum Inn</td>\n",
       "      <td>- 2.2km from city centre</td>\n",
       "      <td>8.3</td>\n",
       "      <td>(9476)</td>\n",
       "      <td>Fabulous</td>\n",
       "      <td>Linen Included\\nFree City Maps\\nFree WiFi\\nSec...</td>\n",
       "      <td>With the British Museum literally on its doors...</td>\n",
       "      <td>Rs2046.52</td>\n",
       "      <td>-</td>\n",
       "    </tr>\n",
       "    <tr>\n",
       "      <th>20</th>\n",
       "      <td>Destinations Hostels @ The Gallery</td>\n",
       "      <td>- 1.7km from city centre</td>\n",
       "      <td>9.0</td>\n",
       "      <td>(346)</td>\n",
       "      <td>Superb</td>\n",
       "      <td>Free Breakfast\\nLinen Included\\nFree City Maps...</td>\n",
       "      <td>We are back, we previously operated near Londo...</td>\n",
       "      <td>Rs4147.04</td>\n",
       "      <td>-</td>\n",
       "    </tr>\n",
       "    <tr>\n",
       "      <th>21</th>\n",
       "      <td>St Christopher's Inn - London Bridge</td>\n",
       "      <td>- 1.8km from city centre</td>\n",
       "      <td>8.0</td>\n",
       "      <td>(3621)</td>\n",
       "      <td>Fabulous</td>\n",
       "      <td>Linen Included\\nFree City Maps\\nFree WiFi\\nFre...</td>\n",
       "      <td>Base yourself in the electric area of London B...</td>\n",
       "      <td>Rs2457.31</td>\n",
       "      <td>Rs2702.93</td>\n",
       "    </tr>\n",
       "    <tr>\n",
       "      <th>22</th>\n",
       "      <td>Phoenix Hostel</td>\n",
       "      <td>- 4.2km from city centre</td>\n",
       "      <td>6.5</td>\n",
       "      <td>(4655)</td>\n",
       "      <td>Good</td>\n",
       "      <td>Linen Included\\nFree City Maps\\nFree WiFi\\nFre...</td>\n",
       "      <td>The Phoenix Bar &amp; Hostel, housed in a homely E...</td>\n",
       "      <td>Rs1624.09</td>\n",
       "      <td>Rs1911.00</td>\n",
       "    </tr>\n",
       "    <tr>\n",
       "      <th>23</th>\n",
       "      <td>Kabannas London St Pancras</td>\n",
       "      <td>- 3.3km from city centre</td>\n",
       "      <td>8.3</td>\n",
       "      <td>(2998)</td>\n",
       "      <td>Fabulous</td>\n",
       "      <td>Linen Included\\nFree City Maps\\nFree WiFi\\nWhe...</td>\n",
       "      <td>Located opposite Kings Cross/St Pancras Intern...</td>\n",
       "      <td>Rs2738.93</td>\n",
       "      <td>Rs2738.93</td>\n",
       "    </tr>\n",
       "    <tr>\n",
       "      <th>24</th>\n",
       "      <td>St Christopher's Hammersmith</td>\n",
       "      <td>- 7.5km from city centre</td>\n",
       "      <td>7.6</td>\n",
       "      <td>(4422)</td>\n",
       "      <td>Very Good</td>\n",
       "      <td>Linen Included\\nFree City Maps\\nFree WiFi\\nFre...</td>\n",
       "      <td>Located within walking distance of Hammersmith...</td>\n",
       "      <td>Rs1629.38</td>\n",
       "      <td>Rs1791.37</td>\n",
       "    </tr>\n",
       "    <tr>\n",
       "      <th>25</th>\n",
       "      <td>Smart Camden Inn Hostel</td>\n",
       "      <td>- 4.4km from city centre</td>\n",
       "      <td>8.5</td>\n",
       "      <td>(3157)</td>\n",
       "      <td>Fabulous</td>\n",
       "      <td>Linen Included\\nFree City Maps\\nFree WiFi\\nSec...</td>\n",
       "      <td>Located in the middle of Camden Town, we’re th...</td>\n",
       "      <td>Rs3103.13</td>\n",
       "      <td>-</td>\n",
       "    </tr>\n",
       "    <tr>\n",
       "      <th>26</th>\n",
       "      <td>Astor Victoria</td>\n",
       "      <td>- 1.8km from city centre</td>\n",
       "      <td>7.4</td>\n",
       "      <td>(15117)</td>\n",
       "      <td>Very Good</td>\n",
       "      <td>Linen Included\\nFree City Maps\\nFree WiFi\\nFre...</td>\n",
       "      <td>With Victoria Station and Buckingham Palace a ...</td>\n",
       "      <td>Rs1905.71</td>\n",
       "      <td>-</td>\n",
       "    </tr>\n",
       "    <tr>\n",
       "      <th>27</th>\n",
       "      <td>Astor Kensington</td>\n",
       "      <td>- 4.9km from city centre</td>\n",
       "      <td>8.3</td>\n",
       "      <td>(6601)</td>\n",
       "      <td>Fabulous</td>\n",
       "      <td>Linen Included\\nFree City Maps\\nFree WiFi\\nSec...</td>\n",
       "      <td>Located a short walk from Notting Hill, Hyde P...</td>\n",
       "      <td>Rs2085.69</td>\n",
       "      <td>-</td>\n",
       "    </tr>\n",
       "    <tr>\n",
       "      <th>28</th>\n",
       "      <td>London Backpackers</td>\n",
       "      <td>- 11.9km from city centre</td>\n",
       "      <td>7.7</td>\n",
       "      <td>(4582)</td>\n",
       "      <td>Very Good</td>\n",
       "      <td>Linen Included\\nFree City Maps\\nFree WiFi\\nFre...</td>\n",
       "      <td>IMPORTANT NOTICE: \\n\\nThis hostel is for 18 - ...</td>\n",
       "      <td>Rs1675.97</td>\n",
       "      <td>-</td>\n",
       "    </tr>\n",
       "    <tr>\n",
       "      <th>29</th>\n",
       "      <td>St Christopher's Camden</td>\n",
       "      <td>- 4.3km from city centre</td>\n",
       "      <td>7.3</td>\n",
       "      <td>(4148)</td>\n",
       "      <td>Very Good</td>\n",
       "      <td>Linen Included\\nFree City Maps\\nFree WiFi\\nFre...</td>\n",
       "      <td>Find our Camden hostel in London's north, smac...</td>\n",
       "      <td>Rs2174.63</td>\n",
       "      <td>Rs2392.73</td>\n",
       "    </tr>\n",
       "  </tbody>\n",
       "</table>\n",
       "</div>"
      ],
      "text/plain": [
       "                                       Name                   distance  \\\n",
       "0               Wombat's City Hostel London   - 3.6km from city centre   \n",
       "1             Palmers Lodge - Swiss Cottage   - 6.5km from city centre   \n",
       "2                       Onefam Notting Hill   - 5.5km from city centre   \n",
       "3                      Urbany Hostel London   - 5.4km from city centre   \n",
       "4                          NX London Hostel   - 6.1km from city centre   \n",
       "5                  St Christopher's Village   - 1.8km from city centre   \n",
       "6                          Generator London     - 3km from city centre   \n",
       "7                           Onefam Waterloo   - 0.7km from city centre   \n",
       "8                        No.8 Seven Sisters     - 9km from city centre   \n",
       "9                                  Clink261   - 3.2km from city centre   \n",
       "10        Safestay London Elephant & Castle   - 1.7km from city centre   \n",
       "11             No.8 Willesden Hostel London    - 10km from city centre   \n",
       "12  Safestay London Kensington Holland Park   - 5.8km from city centre   \n",
       "13                          Astor Hyde Park   - 4.3km from city centre   \n",
       "14              Smart Russell Square Hostel   - 2.6km from city centre   \n",
       "15               Smart Hyde Park Inn Hostel     - 5km from city centre   \n",
       "16      Hostelle - women only hostel London   - 5.1km from city centre   \n",
       "17                 YHA London Oxford Street   - 2.1km from city centre   \n",
       "18                  Queen Elizabeth Chelsea   - 5.7km from city centre   \n",
       "19                         Astor Museum Inn   - 2.2km from city centre   \n",
       "20       Destinations Hostels @ The Gallery   - 1.7km from city centre   \n",
       "21     St Christopher's Inn - London Bridge   - 1.8km from city centre   \n",
       "22                           Phoenix Hostel   - 4.2km from city centre   \n",
       "23               Kabannas London St Pancras   - 3.3km from city centre   \n",
       "24             St Christopher's Hammersmith   - 7.5km from city centre   \n",
       "25                  Smart Camden Inn Hostel   - 4.4km from city centre   \n",
       "26                           Astor Victoria   - 1.8km from city centre   \n",
       "27                         Astor Kensington   - 4.9km from city centre   \n",
       "28                       London Backpackers  - 11.9km from city centre   \n",
       "29                  St Christopher's Camden   - 4.3km from city centre   \n",
       "\n",
       "   ratings total_reviews overall_reviews  \\\n",
       "0      9.2       (16108)          Superb   \n",
       "1      8.7       (16039)        Fabulous   \n",
       "2      9.6        (2684)          Superb   \n",
       "3      9.6        (1181)          Superb   \n",
       "4      8.9        (2228)        Fabulous   \n",
       "5      7.7       (12952)       Very Good   \n",
       "6      7.5        (8126)       Very Good   \n",
       "7      9.6         (220)          Superb   \n",
       "8      7.9        (4207)       Very Good   \n",
       "9      8.3         (564)        Fabulous   \n",
       "10     7.4        (5309)       Very Good   \n",
       "11     7.1        (5229)       Very Good   \n",
       "12     6.9        (1826)            Good   \n",
       "13     8.2       (12356)        Fabulous   \n",
       "14     7.4       (10243)       Very Good   \n",
       "15     7.8        (6817)       Very Good   \n",
       "16     8.6         (140)        Fabulous   \n",
       "17     9.1        (4715)          Superb   \n",
       "18     7.3        (3730)       Very Good   \n",
       "19     8.3        (9476)        Fabulous   \n",
       "20     9.0         (346)          Superb   \n",
       "21     8.0        (3621)        Fabulous   \n",
       "22     6.5        (4655)            Good   \n",
       "23     8.3        (2998)        Fabulous   \n",
       "24     7.6        (4422)       Very Good   \n",
       "25     8.5        (3157)        Fabulous   \n",
       "26     7.4       (15117)       Very Good   \n",
       "27     8.3        (6601)        Fabulous   \n",
       "28     7.7        (4582)       Very Good   \n",
       "29     7.3        (4148)       Very Good   \n",
       "\n",
       "                                           facilities  \\\n",
       "0   Linen Included\\nFree City Maps\\nFree WiFi\\nFre...   \n",
       "1   Linen Included\\nFree WiFi\\nFree Internet Acces...   \n",
       "2   Linen Included\\nFree WiFi\\nFree Internet Acces...   \n",
       "3   Linen Included\\nFree WiFi\\nSecurity Lockers\\nM...   \n",
       "4   Free Breakfast\\nLinen Included\\nTowels Include...   \n",
       "5   Linen Included\\nFree City Maps\\nFree WiFi\\nFre...   \n",
       "6   Linen Included\\nFree City Maps\\nFree WiFi\\nFre...   \n",
       "7   Linen Included\\nFree WiFi\\nFree Internet Acces...   \n",
       "8   Linen Included\\nFree WiFi\\nSecurity Lockers\\nK...   \n",
       "9   Linen Included\\nFree City Maps\\nFree WiFi\\nKey...   \n",
       "10  Linen Included\\nFree WiFi\\nSecurity Lockers\\nK...   \n",
       "11  Linen Included\\nFree WiFi\\nSecurity Lockers\\nK...   \n",
       "12  Linen Included\\nFree WiFi\\nSecurity Lockers\\nK...   \n",
       "13  Linen Included\\nFree City Maps\\nFree WiFi\\nFre...   \n",
       "14  Linen Included\\nFree City Maps\\nFree WiFi\\nFre...   \n",
       "15  Linen Included\\nFree City Maps\\nFree WiFi\\nFre...   \n",
       "16  Linen Included\\nFree City Maps\\nFree WiFi\\nFre...   \n",
       "17  Linen Included\\nFree WiFi\\nSecurity Lockers\\nK...   \n",
       "18  Linen Included\\nFree City Maps\\nFree WiFi\\nFre...   \n",
       "19  Linen Included\\nFree City Maps\\nFree WiFi\\nSec...   \n",
       "20  Free Breakfast\\nLinen Included\\nFree City Maps...   \n",
       "21  Linen Included\\nFree City Maps\\nFree WiFi\\nFre...   \n",
       "22  Linen Included\\nFree City Maps\\nFree WiFi\\nFre...   \n",
       "23  Linen Included\\nFree City Maps\\nFree WiFi\\nWhe...   \n",
       "24  Linen Included\\nFree City Maps\\nFree WiFi\\nFre...   \n",
       "25  Linen Included\\nFree City Maps\\nFree WiFi\\nSec...   \n",
       "26  Linen Included\\nFree City Maps\\nFree WiFi\\nFre...   \n",
       "27  Linen Included\\nFree City Maps\\nFree WiFi\\nSec...   \n",
       "28  Linen Included\\nFree City Maps\\nFree WiFi\\nFre...   \n",
       "29  Linen Included\\nFree City Maps\\nFree WiFi\\nFre...   \n",
       "\n",
       "                                 property_description privates_from_price  \\\n",
       "0   A safe haven in the middle of the metropolis: ...           Rs3990.35   \n",
       "1   Whether you're a backpacker, flash-packer or a...           Rs2500.72   \n",
       "2   The perfect place for solo travelers to connec...           Rs3934.23   \n",
       "3   Welcome to Urbany Hostel London! Ideal for the...           Rs3168.77   \n",
       "4   Welcome to NX London Hostel!\\n\\nPLEASE READ IN...           Rs3879.18   \n",
       "5   St Christopher's Inn at The Village in London ...           Rs1682.32   \n",
       "6   Generator London is a design hotel-hostel loca...           Rs3198.42   \n",
       "7   Come join us at our newest Onefam location in ...           Rs3096.78   \n",
       "8   For Great Facilities, Comfort & Affordability ...           Rs1590.21   \n",
       "9   Welcome to Clink261!\\n\\nClink261 is a comforta...           Rs2429.78   \n",
       "10  Safestay at Elephant & Castle is ideal if you ...           Rs2484.83   \n",
       "11  At No.8 we take pride in our Customer Service ...           Rs1448.34   \n",
       "12  Safestay Holland Park\\n\\nSafestay Holland Park...           Rs1708.79   \n",
       "13  Located in the most beautiful and charming nei...           Rs1849.60   \n",
       "14  Smart Hostels is proud to present our most cen...           Rs2039.11   \n",
       "15  Smart Hyde Park Inn Hostel is perfectly locate...           Rs1943.82   \n",
       "16  Hostelle is the first and only all-women hoste...           Rs2795.04   \n",
       "17  A quiet hideaway from the bustle of the busies...           Rs8999.19   \n",
       "18  PLEASE NOTE WE ONLY ACCEPT GUESTS FROM THE AGE...           Rs1611.38   \n",
       "19  With the British Museum literally on its doors...           Rs2046.52   \n",
       "20  We are back, we previously operated near Londo...           Rs4147.04   \n",
       "21  Base yourself in the electric area of London B...           Rs2457.31   \n",
       "22  The Phoenix Bar & Hostel, housed in a homely E...           Rs1624.09   \n",
       "23  Located opposite Kings Cross/St Pancras Intern...           Rs2738.93   \n",
       "24  Located within walking distance of Hammersmith...           Rs1629.38   \n",
       "25  Located in the middle of Camden Town, we’re th...           Rs3103.13   \n",
       "26  With Victoria Station and Buckingham Palace a ...           Rs1905.71   \n",
       "27  Located a short walk from Notting Hill, Hyde P...           Rs2085.69   \n",
       "28  IMPORTANT NOTICE: \\n\\nThis hostel is for 18 - ...           Rs1675.97   \n",
       "29  Find our Camden hostel in London's north, smac...           Rs2174.63   \n",
       "\n",
       "   dorms_from_price  \n",
       "0        Rs17476.42  \n",
       "1         Rs5533.97  \n",
       "2                 -  \n",
       "3                 -  \n",
       "4        Rs18666.43  \n",
       "5         Rs1849.60  \n",
       "6        Rs22981.81  \n",
       "7                 -  \n",
       "8                 -  \n",
       "9                 -  \n",
       "10                -  \n",
       "11                -  \n",
       "12                -  \n",
       "13                -  \n",
       "14                -  \n",
       "15                -  \n",
       "16        Rs2795.04  \n",
       "17                -  \n",
       "18                -  \n",
       "19                -  \n",
       "20                -  \n",
       "21        Rs2702.93  \n",
       "22        Rs1911.00  \n",
       "23        Rs2738.93  \n",
       "24        Rs1791.37  \n",
       "25                -  \n",
       "26                -  \n",
       "27                -  \n",
       "28                -  \n",
       "29        Rs2392.73  "
      ]
     },
     "execution_count": 345,
     "metadata": {},
     "output_type": "execute_result"
    }
   ],
   "source": [
    "df"
   ]
  },
  {
   "cell_type": "code",
   "execution_count": null,
   "id": "40008422",
   "metadata": {},
   "outputs": [],
   "source": []
  }
 ],
 "metadata": {
  "kernelspec": {
   "display_name": "Python 3 (ipykernel)",
   "language": "python",
   "name": "python3"
  },
  "language_info": {
   "codemirror_mode": {
    "name": "ipython",
    "version": 3
   },
   "file_extension": ".py",
   "mimetype": "text/x-python",
   "name": "python",
   "nbconvert_exporter": "python",
   "pygments_lexer": "ipython3",
   "version": "3.11.5"
  }
 },
 "nbformat": 4,
 "nbformat_minor": 5
}
